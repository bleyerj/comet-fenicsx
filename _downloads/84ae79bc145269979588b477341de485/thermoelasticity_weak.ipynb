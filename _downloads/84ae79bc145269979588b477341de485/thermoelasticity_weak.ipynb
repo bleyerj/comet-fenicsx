{
 "cells": [
  {
   "cell_type": "markdown",
   "id": "4c2f3dba",
   "metadata": {},
   "source": [
    "# Linear thermoelasticity (weak coupling) {far}`star`\n",
    "\n",
    "## Introduction\n",
    "\n",
    "```{admonition} Objectives\n",
    ":class: objectives\n",
    "\n",
    "In this tour, we will solve a linear thermoelastic problem. In permanent regime, the temperature field is uncoupled from the mechanical fields whereas the latter depend on the temperature due to presence of thermal strains in the thermoelastic constitutive relation. This situation can be described as *weak* thermomechanical coupling.\n",
    "```\n",
    "\n",
    "```{admonition} Download sources\n",
    ":class: download\n",
    "\n",
    "* {Download}`Python script<./thermoelasticity_weak.py>`\n",
    "* {Download}`Jupyter notebook<./thermoelasticity_weak.ipynb>`\n",
    "```\n",
    "\n",
    "```{seealso}\n",
    "*Full* thermomechanical coupling for a transient evolution problem is treated [in this tour](/tours/linear_problems/thermoelasticity_full/thermoelasticity_full.md).\n",
    "```\n",
    "\n",
    "In the present setting, the temperature field can be either given as a `Constant` or an `Expression` throughout the domain or obtained as the solution of a steady-state heat (Poisson) equation. This last case will be implemented in this tour.\n",
    "\n",
    "## Problem position\n",
    "\n",
    "We consider the case of a rectangular 2D domain of dimensions $L\\times H$ fully clamped on both lateral sides and subjected to a self-weight loading. The top side is subjected to a uniform temperature increase of $\\Delta T = +20^{\\circ}C$ while the bottom and lateral boundaries remain at the initial temperature $T_0$. The geometry and boundary regions are first defined."
   ]
  },
  {
   "cell_type": "code",
   "execution_count": 2,
   "metadata": {},
   "outputs": [],
   "source": [
    "import numpy as np\n",
    "import matplotlib.pyplot as plt\n",
    "from mpi4py import MPI\n",
    "import ufl\n",
    "from dolfinx import fem, mesh, io, plot\n",
    "import dolfinx.fem.petsc\n",
    "import pyvista\n",
    "\n",
    "\n",
    "L, H = 5, 0.3\n",
    "Nx, Ny = 20, 5\n",
    "domain = mesh.create_rectangle(\n",
    "    MPI.COMM_WORLD,\n",
    "    [(0.0, 0.0), (L, H)],\n",
    "    [Nx, Ny],\n",
    "    cell_type=mesh.CellType.quadrilateral,\n",
    ")\n",
    "gdim = domain.geometry.dim\n",
    "\n",
    "\n",
    "def lateral_sides(x):\n",
    "    return np.logical_or(np.isclose(x[0], 0.0), np.isclose(x[0], L))\n",
    "\n",
    "\n",
    "def bottom(x):\n",
    "    return np.isclose(x[1], 0.0)\n",
    "\n",
    "\n",
    "def top(x):\n",
    "    return np.isclose(x[1], H)"
   ]
  },
  {
   "cell_type": "markdown",
   "metadata": {},
   "source": [
    "Because of the weak coupling discussed before, the thermal and mechanical problem can be solved separately. As a result, we don't need to resort to mixed function spaces but can just define separately both problems.\n",
    "\n",
    "## Resolution of the thermal problem\n",
    "\n",
    "The temperature is solution to the following equation $\\text{div}(k\\nabla T) = 0$ where $k$ is the thermal conductivity (here we have no heat source). Since $k$ is assumed to be homogeneous, it will not influence the solution. We therefore obtain a standard Poisson equation without forcing terms. Its formulation and resolution in FEniCS is quite standard with the temperature variation $\\Delta T$ as the main unknown.\n",
    "\n",
    "```{note}\n",
    "We needed to define the linear form `LT` in order to use the `LinearProblem` utility class. We could also have equivalently defined the residual `res = dot(grad(T), grad(T_))*dx` and used the nonlinear utility class `NonlinearProblem`.\n",
    "```"
   ]
  },
  {
   "cell_type": "code",
   "execution_count": 3,
   "metadata": {},
   "outputs": [],
   "source": [
    "VT = fem.functionspace(domain, (\"Q\", 1))\n",
    "T_, dT = ufl.TestFunction(VT), ufl.TrialFunction(VT)\n",
    "Delta_T = fem.Function(VT, name=\"Temperature_variation\")\n",
    "aT = ufl.dot(ufl.grad(dT), ufl.grad(T_)) * ufl.dx\n",
    "LT = fem.Constant(domain, 0.0) * T_ * ufl.dx\n",
    "\n",
    "bot_dofs_T = fem.locate_dofs_geometrical(VT, bottom)\n",
    "top_dofs_T = fem.locate_dofs_geometrical(VT, top)\n",
    "sides_dofs_T = fem.locate_dofs_geometrical(VT, lateral_sides)\n",
    "bcT = [\n",
    "    fem.dirichletbc(0.0, bot_dofs_T, VT),\n",
    "    fem.dirichletbc(20.0, top_dofs_T, VT),\n",
    "    fem.dirichletbc(0.0, sides_dofs_T, VT),\n",
    "]\n",
    "\n",
    "\n",
    "# solve problem\n",
    "problem = fem.petsc.LinearProblem(aT, LT, u=Delta_T, bcs=bcT)\n",
    "problem.solve()"
   ]
  },
  {
   "cell_type": "markdown",
   "metadata": {},
   "source": [
    "We use `pyvista` to plot the corresponding temperature field:"
   ]
  },
  {
   "cell_type": "code",
   "execution_count": 4,
   "metadata": {},
   "outputs": [
    {
     "data": {
      "image/png": "[encoded data removed]",
      "text/plain": [
       "<PIL.Image.Image image mode=RGB size=800x300 at 0x7F37A3BA6140>"
      ]
     },
     "metadata": {},
     "output_type": "display_data"
    }
   ],
   "source": [
    "pyvista.set_jupyter_backend(\"static\")\n",
    "\n",
    "topology, cell_types, geometry = plot.vtk_mesh(domain, gdim)\n",
    "grid = pyvista.UnstructuredGrid(topology, cell_types, geometry)\n",
    "\n",
    "T_topology, T_cell_types, T_geometry = plot.vtk_mesh(VT)\n",
    "T_grid = pyvista.UnstructuredGrid(T_topology, T_cell_types, T_geometry)\n",
    "T_grid.point_data[\"Temperature\"] = Delta_T.x.array\n",
    "T_grid.set_active_scalars(\"Temperature\")\n",
    "contours = T_grid.contour()\n",
    "\n",
    "plotter = pyvista.Plotter()\n",
    "plotter.window_size = (800, 300)\n",
    "plotter.add_mesh(grid, show_edges=True)\n",
    "plotter.add_mesh(contours, line_width=3)\n",
    "plotter.view_xy()\n",
    "plotter.zoom_camera(2.5)\n",
    "plotter.show()"
   ]
  },
  {
   "cell_type": "markdown",
   "metadata": {},
   "source": [
    "## Mechanical problem\n",
    "\n",
    "The linearized thermoelastic constitutive equation is given by:\n",
    "\n",
    "$$\n",
    "\\boldsymbol{\\sigma} = \\mathbb{C}:(\\boldsymbol{\\varepsilon}-\\alpha(T-T_0)\\boldsymbol{1}) = \\lambda\\text{tr}(\\boldsymbol{\\varepsilon})\\boldsymbol{1}+2\\mu\\boldsymbol{\\varepsilon} -\\alpha(3\\lambda+2\\mu)(T-T_0)\\boldsymbol{1}\n",
    "$$\n",
    "\n",
    "where $\\lambda,\\mu$ are the Lamé parameters and $\\alpha$ is the thermal expansion coefficient. As regards the current problem, the last term corresponding to the thermal strains is completely known. The following formulation can thus be generalized to any kind of known initial stress or eigenstrain state such as pre-stress or phase changes.\n",
    "\n",
    "```{note}\n",
    "The weak formulation for the mechanical problem builds upon the presentation of the [](/intro/linear_elasticity/linear_elasticity.md) tour.\n",
    "The main difference lies in the presence of the temperature term in the constitutive relation which introduces a linear term with respect to the TestFunction {code}`u_` when writing the work of internal forces {code}`ufl.inner(sigma(du, Delta_T), eps(u_)) * ufl.dx`. As a result, the bilinear form is extracted using the left-hand side {code}`ufl.lhs` function whereas the thermal strain term, acting as a loading term, is extracted using the right-hand side {code}`ufl.rhs` function and added to the work of external forces when defining the linear form {code}`LM`.\n",
    "```"
   ]
  },
  {
   "cell_type": "code",
   "execution_count": 5,
   "metadata": {},
   "outputs": [],
   "source": [
    "E = fem.Constant(domain, 50e3)\n",
    "nu = fem.Constant(domain, 0.2)\n",
    "mu = E / 2 / (1 + nu)\n",
    "lmbda = E * nu / (1 + nu) / (1 - 2 * nu)\n",
    "alpha = fem.Constant(domain, 1e-5)\n",
    "\n",
    "f = fem.Constant(domain, (0.0, 0.0))\n",
    "\n",
    "\n",
    "def eps(v):\n",
    "    return ufl.sym(ufl.grad(v))\n",
    "\n",
    "\n",
    "def sigma(v, Delta_T):\n",
    "    return (\n",
    "        lmbda * ufl.tr(eps(v)) - alpha * (3 * lmbda + 2 * mu) * Delta_T\n",
    "    ) * ufl.Identity(gdim) + 2.0 * mu * eps(v)\n",
    "\n",
    "\n",
    "Vu = fem.functionspace(domain, (\"Q\", 2, (gdim,)))\n",
    "du = ufl.TrialFunction(Vu)\n",
    "u_ = ufl.TestFunction(Vu)\n",
    "Wint = ufl.inner(sigma(du, Delta_T), eps(u_)) * ufl.dx\n",
    "aM = ufl.lhs(Wint)\n",
    "LM = ufl.rhs(Wint) + ufl.inner(f, u_) * ufl.dx\n",
    "\n",
    "lateral_dofs_u = fem.locate_dofs_geometrical(Vu, lateral_sides)\n",
    "bcu = [fem.dirichletbc(np.zeros((gdim,)), lateral_dofs_u, Vu)]"
   ]
  },
  {
   "cell_type": "markdown",
   "metadata": {},
   "source": [
    "First, the self-weight loading is deactivated, only thermal stresses are computed."
   ]
  },
  {
   "cell_type": "code",
   "execution_count": 6,
   "metadata": {},
   "outputs": [],
   "source": [
    "u = fem.Function(Vu, name=\"Displacement\")\n",
    "problem = fem.petsc.LinearProblem(aM, LM, u=u, bcs=bcu)\n",
    "problem.solve()"
   ]
  },
  {
   "cell_type": "markdown",
   "id": "1402f948",
   "metadata": {},
   "source": [
    "The deformed shape under thermal expansion is plotted using `pyvista`:"
   ]
  },
  {
   "cell_type": "code",
   "execution_count": 14,
   "metadata": {
    "tags": [
     "hide-input"
    ]
   },
   "outputs": [
    {
     "data": {
      "image/png": "[encoded data removed]",
      "text/plain": [
       "<PIL.Image.Image image mode=RGB size=800x300 at 0x7F37920BC070>"
      ]
     },
     "metadata": {},
     "output_type": "display_data"
    }
   ],
   "source": [
    "u_topology, u_cell_types, u_geometry = plot.vtk_mesh(Vu)\n",
    "u_grid = pyvista.UnstructuredGrid(u_topology, u_cell_types, u_geometry)\n",
    "u_3D = np.zeros((u_geometry.shape[0], 3))\n",
    "u_3D[:, :2] = u.x.array.reshape(-1, 2)\n",
    "u_grid.point_data[\"Displacement_thermal\"] = u_3D\n",
    "u_grid.set_active_vectors(\"Displacement_thermal\")\n",
    "warped = u_grid.warp_by_vector(\"Displacement_thermal\", factor=1000)\n",
    "\n",
    "plotter = pyvista.Plotter()\n",
    "plotter.window_size = (800, 300)\n",
    "plotter.add_mesh(warped)\n",
    "edges = warped.extract_all_edges()\n",
    "plotter.add_mesh(edges, color=\"k\", line_width=1, opacity=0.5)\n",
    "plotter.view_xy()\n",
    "plotter.zoom_camera(2.5)\n",
    "plotter.show()"
   ]
  },
  {
   "cell_type": "markdown",
   "metadata": {},
   "source": [
    "We now take into account the self-weight."
   ]
  },
  {
   "cell_type": "code",
   "execution_count": 8,
   "metadata": {},
   "outputs": [],
   "source": [
    "rho_g = 2400 * 9.81e-6\n",
    "f.value[1] = -rho_g\n",
    "problem.solve()"
   ]
  },
  {
   "cell_type": "code",
   "execution_count": null,
   "metadata": {
    "tags": [
     "hide-input"
    ]
   },
   "outputs": [],
   "source": [
    "u_3D[:, :2] = u.x.array.reshape(-1, 2)\n",
    "u_grid.point_data[\"Displacement_weight\"] = u_3D\n",
    "u_grid.set_active_vectors(\"Displacement_weight\")\n",
    "\n",
    "warped = u_grid.warp_by_vector(\"Displacement_weight\", factor=1000)\n",
    "\n",
    "plotter = pyvista.Plotter()\n",
    "plotter.window_size = (800, 300)\n",
    "plotter.add_mesh(warped)\n",
    "edges = warped.extract_all_edges()\n",
    "plotter.add_mesh(edges, color=\"k\", line_width=1, opacity=0.5)\n",
    "plotter.view_xy()\n",
    "plotter.zoom_camera(2.5)\n",
    "plotter.show()"
   ]
  }
 ],
 "metadata": {
  "celltoolbar": "Raw Cell Format",
  "jupytext": {
   "formats": "md:myst,ipynb"
  },
  "kernelspec": {
   "display_name": "Python 3",
   "language": "python",
   "name": "python3"
  },
  "language_info": {
   "codemirror_mode": {
    "name": "ipython",
    "version": 3
   },
   "file_extension": ".py",
   "mimetype": "text/x-python",
   "name": "python",
   "nbconvert_exporter": "python",
   "pygments_lexer": "ipython3",
   "version": "3.10.12"
  }
 },
 "nbformat": 4,
 "nbformat_minor": 4
}
