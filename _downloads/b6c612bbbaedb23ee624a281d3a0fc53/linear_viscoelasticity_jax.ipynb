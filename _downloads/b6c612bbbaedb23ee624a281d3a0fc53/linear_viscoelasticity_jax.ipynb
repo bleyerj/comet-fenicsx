{
 "cells": [
  {
   "cell_type": "markdown",
   "id": "f112ed09",
   "metadata": {},
   "source": [
    "# Linear viscoelasticity with JAX {far}`star`{far}`star`{far}`star`\n",
    "\n",
    "```{admonition} Objectives\n",
    ":class: objectives\n",
    "\n",
    "This demo shows how to implement a nonlinear constitutive model, specifically a linear viscoelastic behavior. We rely on a manual Python-based implementation of the constitutive update at each quadrature point. To improve computational efficiency of evaluating a Python function while looping over all quadrature points, we leverage Just-In-Time compilation and automatic vectorization provided by the [JAX library](https://jax.readthedocs.io). In addition, consistent tangent operator are automatically derived using JAX Automatic Differentiation.\n",
    "$\\newcommand{\\bsig}{\\boldsymbol{\\sigma}}\n",
    "\\newcommand{\\beps}{\\boldsymbol{\\varepsilon}}\n",
    "\\newcommand{\\bepsv}{\\boldsymbol{\\varepsilon}^\\text{v}}\n",
    "\\newcommand{\\epsv}{\\varepsilon^\\text{v}}\n",
    "\\newcommand{\\sigv}{\\sigma^\\text{v}}\n",
    "\\newcommand{\\bv}{\\boldsymbol{v}}\n",
    "\\newcommand{\\bI}{\\boldsymbol{I}}\n",
    "\\newcommand{\\CC}{\\mathbb{C}}\n",
    "\\newcommand{\\bT}{\\boldsymbol{T}}\n",
    "\\newcommand{\\dOm}{\\,\\text{d}\\Omega}\n",
    "\\newcommand{\\dS}{\\,\\text{d}S}\n",
    "\\newcommand{\\dt}{\\,\\text{d}t}\n",
    "\\newcommand{\\Neumann}{{\\partial \\Omega_\\text{N}}}\n",
    "\\newcommand{\\Dirichlet}{{\\partial \\Omega_\\text{D}}}$\n",
    "```\n",
    "\n",
    "```{image} jax_framework.png\n",
    ":width: 600px\n",
    ":align: center\n",
    "```\n",
    "\n",
    "```{admonition} Download sources\n",
    ":class: download\n",
    "\n",
    "* {Download}`Python script<./linear_viscoelasticity_jax.py>`\n",
    "* {Download}`Jupyter notebook<./linear_viscoelasticity_jax.ipynb>`\n",
    "* {Download}`Complete sources files<./linear_viscoelasticity_jax.zip>`\n",
    "```\n",
    "\n",
    "```{seealso}\n",
    "\n",
    "For more details about JAX-based implementation of constitutive equations, we refer to Andrey's Latyshev work at https://github.com/a-latyshev/dolfinx-external-operator.\n",
    "```\n",
    "\n",
    "## Nonlinear constitutive models in FEniCS\n",
    "\n",
    "Although this tour considers **linear** viscoelasticity, we will treat the problem as involving a general nonlinear constitutive behavior. The latter will be implemented explicitly using Python, mimicking a generic black-box material library. In this case, the stress $\\bsig$ is evaluated as a nonlinear function of the total strain $\\beps$, yielding the following nonlinear variational problem:\n",
    "\n",
    "```{math}\n",
    ":label: nonlinear-variational-model\n",
    "\n",
    "\\int_{\\Omega} \\bsig(\\beps):\\nabla^s \\bv \\dOm = \\int_\\Omega \\boldsymbol{f}\\cdot\\bv \\dOm + \\int_{\\partial \\Omega_\\text{N}} \\bT\\cdot\\bv \\dS \\quad \\forall\\bv \\in V\n",
    "```\n",
    "\n",
    "Viscoelasticity involves solving for the time evolution of internal viscous strains $\\bepsv$. The constitutive relation is therefore implicitly defined via the evolution of this internal state variable. We collect in the set $\\mathcal{S}_n$ the state of the material at time $t_n$, here we have $\\mathcal{S}_n = \\{\\bepsv_n\\}$. The evaluation of the constitutive equation will be strain-driven in the sense that we provide a total strain increment $\\Delta \\beps$ and the previous state at time $t_n$ and the role of the constitutive model is to compute the new stress $\\bsig_{n+1}$ and the new state $\\mathcal{S}_{n+1}$:\n",
    "\n",
    "```{math}\n",
    ":label: constitutive-black-box\n",
    "\n",
    "\\beps=\\beps_n+\\Delta\\beps, \\mathcal{S}_n \\longrightarrow \\boxed{\\text{CONSTITUTIVE RELATION}}\\longrightarrow \\bsig_{n+1}, \\mathcal{S}_{n+1}\n",
    "```\n",
    "\n",
    "```{seealso}\n",
    "\n",
    "In the legacy FEniCS tour on [Linear Viscoelasticity](https://comet-fenics.readthedocs.io/en/latest/demo/viscoelasticity/linear_viscoelasticity.html), we relied on a mixed formulation discretizing both the displacement and viscous strains at the structure level which was solved in a monolithic fashion. In the present approach, we voluntarily depart from this choice to focus on the implementation of a user-defined constitutive model.\n",
    "```\n",
    "\n",
    "### Automation and high-performance computation using JAX\n",
    "\n",
    "The present approach will involve looping over all quadrature points to evaluate the constitutive behavior locally. This approach is obviously computationally inefficient due to the Python loop. To solve this issue, we will rely on the [JAX library](https://jax.readthedocs.io).\n",
    "\n",
    "![](https://jax.readthedocs.io/en/latest/_static/jax_logo_250px.png)\n",
    "\n",
    "JAX is a Python library for accelerated (GPU) array computation and program transformation, designed for high-performance numerical computing and large-scale machine learning. Its key features of interest here involve:\n",
    "* [Accelerated `numpy`/`scipy` functions](https://jax.readthedocs.io/en/latest/jax-101/01-jax-basics.html)\n",
    "* [Automatic Differentiation](https://jax.readthedocs.io/en/latest/jax-101/04-advanced-autodiff.html), see also the [AutoDiff Cookbook](https://jax.readthedocs.io/en/latest/notebooks/autodiff_cookbook.html)\n",
    "* [Just-In-Time compilation](https://jax.readthedocs.io/en/latest/jax-101/02-jitting.html) using `jax.jit`\n",
    "* [Automatic Vectorization](https://jax.readthedocs.io/en/latest/jax-101/03-vectorization.html) using `jax.vmap`\n",
    "\n",
    "## Linear viscoelastic behavior\n",
    "\n",
    "In this numerical tour, we consider a simple linear viscoelastic behavior, the Standard Linear Solid model, which encompasses the case of a Maxwell and a Kelvin-Voigt model. The formulation can also be quite easily extended to a generalized Maxwell model.\n",
    "\n",
    "### 1D rheological formulation\n",
    "\n",
    "The Linear Standard Solid model consists of a spring of stiffness $E_0$ in parallel to a Maxwell arm (spring of stiffness $E_1$ in series with a dashpot of viscosity $\\eta_1$).\n",
    "\n",
    "```{image} 1D_rheological_model.png\n",
    ":width: 300px\n",
    ":align: center\n",
    "```\n",
    "\n",
    "The uniaxial stress for this rheological model can be decomposed as the sum of a reversible and an irreversible stress:\n",
    "\n",
    "$$\\sigma = E_0\\varepsilon + E_1(\\varepsilon-\\epsv)$$\n",
    "\n",
    "whereas the evolution equation for the viscous internal strain is given by:\n",
    "\n",
    "$$\\dot{\\varepsilon}^\\text{v} = \\dfrac{E_1}{\\eta_1}(\\varepsilon-\\epsv)$$\n",
    "\n",
    "Introducing $\\tau=\\eta_1/E_1$ the characteristic relaxation time, the viscous strain evolution equation can be written as:\n",
    "```{math}\n",
    ":label: viscous-strain-evolution\n",
    "\n",
    "\\dot{\\varepsilon}^\\text{v} + \\dfrac{1}{\\tau}\\epsv = \\dfrac{1}{\\tau}\\varepsilon\n",
    "```\n",
    "or, equivalently, in terms of the viscous stress $\\sigv = E_1(\\varepsilon-\\epsv)$:\n",
    "```{math}\n",
    ":label: viscous-stress-evolution\n",
    "\n",
    "\\dot{\\sigma}^\\text{v} + \\dfrac{1}{\\tau}\\sigv = E_1\\dot{\\varepsilon}\n",
    "```\n",
    "\n",
    "```{note}\n",
    "The extension to a generalized Maxwell model with $N$ internal strains is given by:\n",
    "\n",
    "\\begin{align*}\n",
    "\\sigma &= E_0\\varepsilon + \\sum_{i=1}^N E_i(\\varepsilon-\\varepsilon^{\\text{v},i}) \\\\\n",
    "\\dot{\\varepsilon}^{\\text{v},i} &= \\dfrac{E_i}{\\eta_i}(\\varepsilon-\\varepsilon^{\\text{v},i}) \\quad \\forall i=1,\\ldots, N\n",
    "\\end{align*}\n",
    "```\n",
    "\n",
    "### 3D generalization\n",
    "\n",
    "For the 3D case, isotropic viscoelasticity is characterized by two elastic moduli (resp. two viscosities, or equivalently two relaxation times) for each spring (resp. dashpot) element of the 1D model. Here, we will restrict to a simpler case in which one modulus is common to all elements (similar Poisson ratio for all elements), that is:\n",
    "\n",
    "$$\\begin{align}\n",
    "\\boldsymbol{\\sigma} = E_0\\mathbb{c}:\\boldsymbol{\\varepsilon} + E_1\\mathbb{c}:(\\boldsymbol{\\varepsilon}-\\bepsv) \\\\\n",
    "\\dot{\\boldsymbol{\\varepsilon}}^\\text{v} = \\dfrac{E_1}{\\eta_1}\\mathbb{c}:(\\boldsymbol{\\varepsilon}-\\bepsv)\n",
    "\\end{align}$$\n",
    "\n",
    "where $\\mathbb{c} = \\dfrac{\\nu}{1-\\nu^2}\\mathbf{1}\\otimes\\mathbf{1} + \\dfrac{1}{1+\\nu}\\mathbb{I}$ for plane stress with $\\mathbf{1}$ and $\\mathbb{I}$ being respectively the 2nd and 4th order identity tensors and $\\nu$ being the Poisson ratio.\n",
    "\n",
    "### Time-integration\n",
    "\n",
    "There exist many possible choices of discrete time integration for the linear viscoelastic evolution equations, see {cite:p}`sorvari2010time` for a review. In the following, we choose a semi-analytical method which considers the exact solution of the ODE {eq}`viscous-stress-evolution` between time $t_n$ and $t_{n+1}=t_n+\\Delta t$:\n",
    "\n",
    "$$\n",
    "\\sigv(t_{n+1}) = e^{-\\Delta t/\\tau}\\sigv(t_n) + E_1\\int_{t_n}^{t_{n+1}}e^{-(t_{n+1}-t)/\\tau}\\dot\\varepsilon(t)\\dt\n",
    "$$\n",
    "\n",
    "When approximating the right-hand side integral using a mid-point rule and a constant strain increment one obtains:\n",
    "\n",
    "```{math}\n",
    "\\sigv(t_{n+1}) = e^{-\\Delta t/\\tau}\\sigv(t_n) + E_1e^{-\\Delta t/(2\\tau)}\\Delta\\varepsilon\n",
    "```\n",
    "\n",
    "or, in terms of the viscous strain:\n",
    "\n",
    "```{math}\n",
    ":label: incremental-evol-equation\n",
    "\n",
    "\\epsv_{n+1} = \\varepsilon_{n+1}+e^{-\\Delta t/\\tau}(\\epsv_n-\\varepsilon_n) - e^{-\\Delta t/(2\\tau)}(\\varepsilon_{n+1}-\\varepsilon_{n})\n",
    "```\n",
    "\n",
    "## Implementation\n",
    "\n",
    "### Problem position\n",
    "\n",
    "We consider here a 2D rectangular domain of dimensions $L\\times H$.\n",
    "\n",
    "We first load the relevant modules and define the geometry and the displacement function space. For later use, we configure JAX to work with double-precision floats rather than the default single precision."
   ]
  },
  {
   "cell_type": "code",
   "execution_count": 1,
   "id": "63168e73",
   "metadata": {},
   "outputs": [],
   "source": [
    "import numpy as np\n",
    "import matplotlib.pyplot as plt\n",
    "\n",
    "from mpi4py import MPI\n",
    "import ufl\n",
    "import basix\n",
    "from dolfinx import mesh, fem, io\n",
    "from dolfinx.common import Timer\n",
    "from solvers import CustomLinearProblem, CustomNewtonSolver\n",
    "import jax\n",
    "import jax.numpy as jnp\n",
    "\n",
    "jax.config.update(\"jax_enable_x64\", True)  # use double-precision\n",
    "\n",
    "length, height = 0.1, 0.2\n",
    "N = 20\n",
    "domain = mesh.create_rectangle(\n",
    "    MPI.COMM_WORLD,\n",
    "    ((0.0, 0.0), (length, height)),\n",
    "    (N, N),\n",
    "    ghost_mode=mesh.GhostMode.none,\n",
    ")\n",
    "gdim = domain.geometry.dim\n",
    "\n",
    "deg_u = 2\n",
    "shape = (gdim,)\n",
    "V = fem.functionspace(domain, (\"P\", deg_u, shape))"
   ]
  },
  {
   "cell_type": "markdown",
   "id": "fff61055",
   "metadata": {},
   "source": [
    "Material properties corresponding to $E_0=70$ GPa, $\\nu=0.3$, $\\eta_1=1$ GPa.s and $\\tau=0.05$ s are now defined and stored in a dictionary."
   ]
  },
  {
   "cell_type": "code",
   "execution_count": 2,
   "id": "3bba30b1",
   "metadata": {},
   "outputs": [],
   "source": [
    "mat_prop = {\"YoungModulus\": 70e3, \"PoissonRatio\": 0.3, \"eta\": 1e3, \"tau\": 0.05}"
   ]
  },
  {
   "cell_type": "markdown",
   "id": "d886e28a",
   "metadata": {},
   "source": [
    "The boundary conditions consist of symmetry planes on $x=0$ and $y=0$ and smooth contact with a plane with imposed vertical displacement on $y=H$. The solution will therefore be homogeneous in the sample. We impose a constant vertical relaxation strain state $\\varepsilon_r=10^{-3}$."
   ]
  },
  {
   "cell_type": "code",
   "execution_count": 3,
   "id": "e887b139",
   "metadata": {},
   "outputs": [],
   "source": [
    "V_ux, _ = V.sub(0).collapse()\n",
    "V_uy, _ = V.sub(1).collapse()\n",
    "left_dofs = fem.locate_dofs_geometrical(\n",
    "    (V.sub(0), V_ux), lambda x: np.isclose(x[0], 0.0)\n",
    ")\n",
    "bot_dofs = fem.locate_dofs_geometrical(\n",
    "    (V.sub(1), V_uy), lambda x: np.isclose(x[1], 0.0)\n",
    ")\n",
    "top_dofs = fem.locate_dofs_geometrical(\n",
    "    (V.sub(1), V_uy), lambda x: np.isclose(x[1], height)\n",
    ")\n",
    "\n",
    "uD_x0 = fem.Function(V_ux)\n",
    "uD_y0 = fem.Function(V_uy)\n",
    "uD_y = fem.Function(V_uy)\n",
    "epsr = 1e-3\n",
    "uD_y.vector.set(epsr * height)\n",
    "bcs = [\n",
    "    fem.dirichletbc(uD_x0, left_dofs, V.sub(0)),\n",
    "    fem.dirichletbc(uD_y0, bot_dofs, V.sub(1)),\n",
    "    fem.dirichletbc(uD_y, top_dofs, V.sub(1)),\n",
    "]"
   ]
  },
  {
   "cell_type": "markdown",
   "id": "c86f9f04",
   "metadata": {},
   "source": [
    "### Quadrature functions\n",
    "\n",
    "Similarly to the [](/tours/nonlinear_problems/plasticity/plasticity.md) tour, we use `Quadrature` function spaces to define the stress and tangent operator to be used in the nonlinear variational formulation. We will also keep track of the viscous strain internal state variable in the same fashion. Since we work in 2D, we use a vectorial representation for the tensorial quantities consisting of the $xx$, $yy$, and $xy$ components using the Mandel notation, see [](/tours/linear_problems/isotropic_orthotropic_elasticity/isotropic_orthotropic_elasticity.md)."
   ]
  },
  {
   "cell_type": "code",
   "execution_count": 5,
   "id": "72801a45",
   "metadata": {},
   "outputs": [
    {
     "name": "stdout",
     "output_type": "stream",
     "text": [
      "Help on function quadrature_element in module basix.ufl:\n",
      "\n",
      "quadrature_element(cell: Union[str, basix.cell.CellType], value_shape: tuple[int, ...] = (), scheme: Optional[str] = None, degree: Optional[int] = None, points: Optional[numpy.ndarray[Any, numpy.dtype[numpy.float64]]] = None, weights: Optional[numpy.ndarray[Any, numpy.dtype[numpy.float64]]] = None, pullback: ufl.pullback.AbstractPullback = IdentityPullback()) -> basix.ufl._ElementBase\n",
      "    Create a quadrature element.\n",
      "\n",
      "    When creating this element, either the quadrature scheme and degree\n",
      "    must be input or the quadrature points and weights must be.\n",
      "\n",
      "    Args:\n",
      "        cell: Cell to create the element on.\n",
      "        value_shape: Value shape of the element.\n",
      "        scheme: Quadrature scheme.\n",
      "        degree: Quadrature degree.\n",
      "        points: Quadrature points.\n",
      "        weights: Quadrature weights.\n",
      "        pullback: Map name.\n",
      "\n",
      "    Returns:\n",
      "        A 'quadrature' finite element.\n",
      "\n"
     ]
    }
   ],
   "source": [
    "deg_quad = 2  # quadrature degree for internal state variable representation\n",
    "vdim = 3  # dimension of the vectorial representation of tensors\n",
    "W0e = basix.ufl.quadrature_element(\n",
    "    domain.basix_cell(), value_shape=(), scheme=\"default\", degree=deg_quad\n",
    ")\n",
    "We = basix.ufl.quadrature_element(\n",
    "    domain.basix_cell(), value_shape=(vdim,), scheme=\"default\", degree=deg_quad\n",
    ")\n",
    "WTe = basix.ufl.quadrature_element(\n",
    "    domain.basix_cell(), value_shape=(vdim,vdim), scheme=\"default\", degree=deg_quad\n",
    ")\n",
    "W = fem.functionspace(domain, We)\n",
    "WT = fem.functionspace(domain, WTe)\n",
    "W0 = fem.functionspace(domain, W0e)\n",
    "\n",
    "\n",
    "sig = fem.Function(W, name=\"Stress\")\n",
    "Ct = fem.Function(WT, name=\"Tangent_operator\")\n",
    "epsv = fem.Function(W, name=\"Viscous_strain\")\n",
    "epsv_old = fem.Function(W, name=\"Previous_viscous_strain\")\n",
    "eps_old = fem.Function(W, name=\"Previous_total_strain\")\n",
    "\n",
    "u = fem.Function(V, name=\"Total_displacement\")\n",
    "du = fem.Function(V, name=\"Iteration_correction\")\n",
    "v = ufl.TrialFunction(V)\n",
    "u_ = ufl.TestFunction(V)"
   ]
  },
  {
   "cell_type": "markdown",
   "id": "2e28e142",
   "metadata": {},
   "source": [
    "We now define the nonlinear residual and associated tangent bilinear form of the corresponding problem. Note that since the stress `sig` is stored as a vector, we use the Mandel representation for defining the (virtual) strain"
   ]
  },
  {
   "cell_type": "code",
   "execution_count": null,
   "id": "87963697",
   "metadata": {},
   "outputs": [],
   "source": [
    "def eps_Mandel(v):\n",
    "    e = ufl.sym(ufl.grad(v))\n",
    "    return ufl.as_tensor([e[0, 0], e[1, 1], np.sqrt(2) * e[0, 1]])\n",
    "\n",
    "\n",
    "dx = ufl.Measure(\n",
    "    \"dx\",\n",
    "    domain=domain,\n",
    "    metadata={\"quadrature_degree\": deg_quad, \"quadrature_scheme\": \"default\"},\n",
    ")\n",
    "Residual = ufl.dot(eps_Mandel(u_), sig) * dx\n",
    "tangent_form = ufl.dot(eps_Mandel(v), ufl.dot(Ct, eps_Mandel(u_))) * dx"
   ]
  },
  {
   "cell_type": "markdown",
   "id": "358d8874",
   "metadata": {},
   "source": [
    "Now, we extract the total number of quadrature points and define the `fem.Expression` corresponding to the total strain `esp_Mandel(u)` to perform the evaluation at all quadrature points."
   ]
  },
  {
   "cell_type": "code",
   "execution_count": null,
   "id": "c0b32277",
   "metadata": {},
   "outputs": [],
   "source": [
    "basix_celltype = getattr(basix.CellType, domain.topology.cell_type.name)\n",
    "quadrature_points, weights = basix.make_quadrature(basix_celltype, deg_quad)\n",
    "\n",
    "map_c = domain.topology.index_map(domain.topology.dim)\n",
    "num_cells = map_c.size_local + map_c.num_ghosts\n",
    "cells = np.arange(0, num_cells, dtype=np.int32)\n",
    "ngauss = num_cells * len(weights)\n",
    "\n",
    "eps_expr = fem.Expression(eps_Mandel(u), quadrature_points)\n",
    "\n",
    "\n",
    "def eval_at_quadrature_points(expression):\n",
    "    return expression.eval(domain, cells).reshape(ngauss, -1)"
   ]
  },
  {
   "cell_type": "markdown",
   "id": "69593e97",
   "metadata": {},
   "source": [
    "### JAX implementation of the constitutive equation\n",
    "\n",
    "#### Local material constitutive behavior\n",
    "We are now ready to define the material constitutive equation at a single quadrature point. We define a function taking as arguments the total strain increment $\\Delta \\beps$ (`deps`), the total $\\beps_n$ (`eps_old`) and viscous $\\bepsv_n$ (`epsv_old`) strains at the previous time step and the time increment $\\Delta t$ (`dt`). Strain-like quantities are here of shape `(3,)`. The function simply implements the incremental approximate evolution equation {eq}`incremental-evol-equation`. The function returns the new stress and new state of the material."
   ]
  },
  {
   "cell_type": "code",
   "execution_count": null,
   "id": "ade80a0b",
   "metadata": {},
   "outputs": [],
   "source": [
    "def local_constitutive_update(deps, eps_old, epsv_old, dt):\n",
    "    eps = eps_old + deps\n",
    "\n",
    "    E0 = mat_prop[\"YoungModulus\"]\n",
    "    nu = mat_prop[\"PoissonRatio\"]\n",
    "    eta = mat_prop[\"eta\"]\n",
    "    tau = mat_prop[\"tau\"]\n",
    "    E1 = eta / tau\n",
    "\n",
    "    c = 1 / (1 - nu**2) * jnp.array([[1, nu, 0], [nu, 1, 0], [0, 0, (1 - nu) / 2]])\n",
    "    C0 = E0 * c\n",
    "    C1 = E1 * c\n",
    "\n",
    "    epsv = (\n",
    "        eps + jnp.exp(-dt / tau) * (epsv_old - eps_old) - jnp.exp(-dt / 2 / tau) * deps\n",
    "    )\n",
    "    sig = C0 @ eps + C1 @ (eps - epsv)\n",
    "\n",
    "    state = (sig, epsv)\n",
    "    return sig, state"
   ]
  },
  {
   "cell_type": "markdown",
   "id": "8916da97",
   "metadata": {},
   "source": [
    "#### Tangent operator with Automatic Differentiation\n",
    "The constitutive equation should also return the algorithmic tangent operator $\\mathbf{C}_\\text{tang} = \\dfrac{\\text{d} \\bsig}{\\text{d}\\beps}$. Although the latter is extremely easy to compute in the present case, we show how to use JAX's Automatic Differentiation capabilities to derive it automatically. We rely on the `jax.jacfwd` function which computes the jacobian of the `local_constitutive_update` function with respect to argument `argnums=0`, namely $\\Delta \\beps$ here. The computation is done using forward-mode automatic differentiation, although here the tangent operator is of square shape so that there should be no significant difference with backward-mode. Finally, `local_constitutive_update` also returns `state` as an auxiliary output. This is specified explicitly with `has_aux=True` which indicates that the function returns a pair where the first element is considered the output of the mathematical function to be differentiated and the second element is auxiliary data. In this case, the output of `jacfwd` is `(jacobian, state)`."
   ]
  },
  {
   "cell_type": "code",
   "execution_count": null,
   "id": "5039a42f",
   "metadata": {},
   "outputs": [],
   "source": [
    "tangent_operator_and_state = jax.jacfwd(\n",
    "    local_constitutive_update, argnums=0, has_aux=True\n",
    ")"
   ]
  },
  {
   "cell_type": "markdown",
   "id": "e6ba6d35",
   "metadata": {},
   "source": [
    "#### JIT and automatic vectorization\n",
    "\n",
    "Finally, we will later have to call this function when looping over all quadrature points. Implementing such a loop in pure Python would obviously be extremely inefficient. An alternative would be to rewrite the `local_constitutive_update` function in vectorized form to work on a batch of strain-like quantities of shape `(3,num_gauss)` where `num_gauss` is the total number of Gauss points. Although this is not particularly difficult to implement in the present case, it requires reimplementing the function which is error-prone and cumbersome in general. Fortunately, JAX provides a way to automatically transform a function into an efficient vectorized form using `jax.vmap`. Applying this vectorization to the `tangent_operator_and_state` function, we simply specify that the batch will take place over axis 0 of the first 3 arguments but not the last one (`dt` is not batched). Finally, the resulting function is also jitted for efficient compilation and execution by the XLA compiler."
   ]
  },
  {
   "cell_type": "code",
   "execution_count": null,
   "id": "e5b77779",
   "metadata": {},
   "outputs": [],
   "source": [
    "batched_constitutive_update = jax.jit(\n",
    "    jax.vmap(tangent_operator_and_state, in_axes=(0, 0, 0, None))\n",
    ")"
   ]
  },
  {
   "cell_type": "markdown",
   "id": "72db1331",
   "metadata": {},
   "source": [
    "#### `dolfinx` constitutive update\n",
    "\n",
    "We are now ready to define a global constitutive update function on the `dolfinx` side. The latter will be called at each iteration of a global Newton method. It will first interpolate the current estimate of the total strain at all quadrature points. Arrays of strain increments and internal state variables are then passed to the `batched_constitutive_update` function which returns the batched tangent operator and state. Quadrature functions associated with the stress, tangent operator and new internal state variables are then updated."
   ]
  },
  {
   "cell_type": "code",
   "execution_count": null,
   "id": "58e0ee9c",
   "metadata": {},
   "outputs": [],
   "source": [
    "def constitutive_update(u, sig, eps_old, epsv_old, epsv, dt):\n",
    "    with Timer(\"Constitutive update\"):\n",
    "        eps_values = eval_at_quadrature_points(eps_expr)\n",
    "        eps_old_values = eps_old.x.array.reshape(ngauss, -1)\n",
    "        deps_values = eps_values - eps_old_values\n",
    "        epsv_old_values = epsv_old.x.array.reshape(ngauss, -1)\n",
    "\n",
    "        Ct_values, state = batched_constitutive_update(\n",
    "            deps_values, eps_old_values, epsv_old_values, dt\n",
    "        )\n",
    "        sig_values, epsv_new_values = state\n",
    "\n",
    "        sig.x.array[:] = sig_values.ravel()\n",
    "        epsv.x.array[:] = epsv_new_values.ravel()\n",
    "        Ct.x.array[:] = Ct_values.ravel()"
   ]
  },
  {
   "cell_type": "markdown",
   "id": "be4d9df2",
   "metadata": {},
   "source": [
    "### Custom Newton solver\n",
    "We now define a custom Newton solver defined in the {download}`solvers.py` module. The solver first relies on a `CustomLinearProblem` which is the same custom `LinearProblem` implementation which was described in the [](/tours/nonlinear_problems/plasticity/plasticity.md) demo. The latter works in particular with the iteration correction field `du` as the main unknown and solves the Newton system:\n",
    "\n",
    "$$[\\mathbf{K}_\\text{tang}]\\{\\delta U\\} = -\\{\\text{Res}\\}$$"
   ]
  },
  {
   "cell_type": "code",
   "execution_count": null,
   "id": "042440ac",
   "metadata": {},
   "outputs": [],
   "source": [
    "tangent_problem = CustomLinearProblem(\n",
    "    tangent_form,\n",
    "    -Residual,\n",
    "    u=du,\n",
    "    bcs=bcs,\n",
    "    petsc_options={\n",
    "        \"ksp_type\": \"preonly\",\n",
    "        \"pc_type\": \"lu\",\n",
    "        \"pc_factor_mat_solver_type\": \"mumps\",\n",
    "    },\n",
    ")"
   ]
  },
  {
   "cell_type": "markdown",
   "id": "898cbe29",
   "metadata": {},
   "source": [
    "Then, we define the `CustomNewtonSolver` which is a standard Newton method made for solving the previous system described in `tangent_problem`. The main difference is that such a solver implements a callback function `CustomNewtonSolver.callback` which takes as arguments the unknown field `u` and a list of other additional arguments. Here, the callback is provided to be the `constitutive_update` function defined earlier."
   ]
  },
  {
   "cell_type": "code",
   "execution_count": null,
   "id": "11c3d197",
   "metadata": {},
   "outputs": [],
   "source": [
    "newton = CustomNewtonSolver(tangent_problem)\n",
    "newton.callback = constitutive_update"
   ]
  },
  {
   "cell_type": "markdown",
   "id": "7702ee71",
   "metadata": {},
   "source": [
    "### Time-stepping loop\n",
    "\n",
    "We are now ready to define the time stepping loop and solve the nonlinear Newton system at each time increment. We will also monitor the average vertical strain and stress during the time evolution for postprocessing."
   ]
  },
  {
   "cell_type": "code",
   "execution_count": null,
   "id": "138fb4f7",
   "metadata": {},
   "outputs": [],
   "source": [
    "Nincr = 50\n",
    "time_steps = np.linspace(0, 0.5, Nincr + 1)\n",
    "results = np.zeros((Nincr + 1, 3))\n",
    "\n",
    "# we set all functions to zero before entering the loop in case we would like to reexecute this code cell\n",
    "sig.vector.set(0.0)\n",
    "epsv.vector.set(0.0)\n",
    "u.vector.set(0.0)\n",
    "\n",
    "results = np.zeros((Nincr + 1, 2))\n",
    "\n",
    "for i, dti in enumerate(np.diff(time_steps)):\n",
    "    state = (sig, eps_old, epsv_old, epsv, dti)\n",
    "    with Timer(\"Nonlinear solve\"):\n",
    "        niter, converged = newton.solve(u, *state)\n",
    "    assert converged, \"Solver did not converge.\"\n",
    "\n",
    "    # Update the previous total and viscous strain\n",
    "    eps_old.vector.array[:] = eval_at_quadrature_points(eps_expr).ravel()\n",
    "    epsv.vector.copy(epsv_old.vector)\n",
    "\n",
    "    # Post-processing\n",
    "    epsv_values = epsv.x.array.reshape(ngauss, -1)\n",
    "    sig_values = sig.x.array.reshape(ngauss, -1)\n",
    "\n",
    "    results[i + 1, 0] = np.mean(epsv_values[:, 1])\n",
    "    results[i + 1, 1] = np.mean(sig_values[:, 1])"
   ]
  },
  {
   "cell_type": "markdown",
   "id": "d0c9db3e",
   "metadata": {},
   "source": [
    "## Results\n",
    "\n",
    "We check that the solution we obtain corresponds to the exact solution of the recovery test given by:\n",
    "\n",
    "$$\\begin{align*}\n",
    "\\epsv_{yy}(t) &= \\varepsilon_r(1- \\exp(-t/\\tau))\\\\\n",
    "\\sigma_{yy}(t) &= E_0\\varepsilon_r + E_1\\varepsilon_r \\exp(-t/\\tau)\n",
    "\\end{align*}$$"
   ]
  },
  {
   "cell_type": "code",
   "execution_count": null,
   "id": "01c2df42",
   "metadata": {},
   "outputs": [],
   "source": [
    "E0 = mat_prop[\"YoungModulus\"]\n",
    "eta = mat_prop[\"eta\"]\n",
    "tau = mat_prop[\"tau\"]\n",
    "E1 = eta / tau\n",
    "\n",
    "plt.figure()\n",
    "plt.plot(time_steps, epsr * (1 - np.exp(-time_steps / tau)), \"-C3\", label=\"Exact\")\n",
    "plt.plot(time_steps, results[:, 0], \"ok\", label=\"FEM\")\n",
    "plt.xlabel(\"Time $t$\")\n",
    "plt.ylabel(r\"Viscous strain $\\varepsilon_{yy}^\\text{v}$\")\n",
    "plt.ylim(0, 1.2 * epsr)\n",
    "plt.legend()\n",
    "plt.show()\n",
    "\n",
    "plt.figure()\n",
    "plt.plot(\n",
    "    time_steps, E0 * epsr + E1 * epsr * np.exp(-time_steps / tau), \"-C3\", label=\"Exact\"\n",
    ")\n",
    "plt.plot(time_steps, results[:, 1], \"ok\", label=\"FEM\")\n",
    "plt.xlabel(\"Time $t$\")\n",
    "plt.ylabel(r\"Stress $\\sigma_{yy}$ [MPa]\")\n",
    "plt.legend()\n",
    "plt.show()"
   ]
  },
  {
   "cell_type": "markdown",
   "id": "a763dc84",
   "metadata": {},
   "source": [
    "The FE solution matches indeed the exact solution as seen above. The instantaneous stress is $\\sigma_{yy}(t=0^+) = (E_0+E_1)\\varepsilon_r = 90$ MPa whereas the long-term stress is given by $\\sigma_{yy}(t=\\infty) = E_0\\varepsilon_r = 70$ MPa.\n",
    "\n",
    "Finally, we look at the timings to check that the call to the constitutive equation is negligible compared to the time spent solving global linear systems when problems are sufficiently large."
   ]
  },
  {
   "cell_type": "code",
   "execution_count": null,
   "id": "1bf11d07",
   "metadata": {},
   "outputs": [],
   "source": [
    "from dolfinx import common\n",
    "\n",
    "common.list_timings(MPI.COMM_WORLD, [common.TimingType.wall])"
   ]
  },
  {
   "cell_type": "markdown",
   "id": "8a028666",
   "metadata": {},
   "source": [
    "## References\n",
    "\n",
    "```{bibliography}\n",
    ":filter: docname in docnames\n",
    "```"
   ]
  }
 ],
 "metadata": {
  "kernelspec": {
   "display_name": "Python 3.8.10 64-bit",
   "language": "python",
   "name": "python3"
  },
  "language_info": {
   "codemirror_mode": {
    "name": "ipython",
    "version": 3
   },
   "file_extension": ".py",
   "mimetype": "text/x-python",
   "name": "python",
   "nbconvert_exporter": "python",
   "pygments_lexer": "ipython3",
   "version": "3.12.3"
  }
 },
 "nbformat": 4,
 "nbformat_minor": 5
}
