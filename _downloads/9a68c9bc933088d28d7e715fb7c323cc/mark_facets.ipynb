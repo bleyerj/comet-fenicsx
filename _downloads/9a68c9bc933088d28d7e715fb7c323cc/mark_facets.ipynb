{
 "cells": [
  {
   "cell_type": "markdown",
   "id": "187ef090",
   "metadata": {},
   "source": [
    "# Marking facets with geometrical functions\n",
    "\n",
    "```{admonition} Objectives\n",
    ":class: objectives\n",
    "\n",
    "We provide here a utility function to tag some facets of a mesh by providing geometrical marker functions\n",
    "```\n",
    "\n",
    "```{admonition} Download sources\n",
    ":class: download\n",
    "\n",
    "* {Download}`Python script<./mark_facets.py>`\n",
    "* {Download}`Jupyter notebook<./mark_facets.ipynb>`\n",
    "```"
   ]
  },
  {
   "cell_type": "code",
   "execution_count": 1,
   "id": "1884f093",
   "metadata": {
    "execution": {
     "iopub.execute_input": "2024-01-08T12:50:26.877998Z",
     "iopub.status.busy": "2024-01-08T12:50:26.877651Z",
     "iopub.status.idle": "2024-01-08T12:50:28.758611Z",
     "shell.execute_reply": "2024-01-08T12:50:28.757634Z"
    }
   },
   "outputs": [],
   "source": [
    "from mpi4py import MPI\n",
    "import numpy as np\n",
    "from dolfinx import mesh\n",
    "\n",
    "\n",
    "def mark_facets(domain, surfaces_dict):\n",
    "    \"\"\"Mark facets of the domain according to a geometrical marker\n",
    "\n",
    "    Parameters\n",
    "    ----------\n",
    "    domain : Mesh\n",
    "        `dolfinx` mesh object\n",
    "    surfaces_dict : dict\n",
    "        A dictionary mapping integer tags with a geometrical marker function {tag: marker(x)}\n",
    "\n",
    "    Returns\n",
    "    -------\n",
    "    facet_tag array\n",
    "    \"\"\"\n",
    "    fdim = domain.topology.dim - 1\n",
    "    marked_values = []\n",
    "    marked_facets = []\n",
    "    # Concatenate and sort the arrays based on facet indices\n",
    "    for tag, location in surfaces_dict.items():\n",
    "        facets = mesh.locate_entities_boundary(domain, fdim, location)\n",
    "        marked_facets.append(facets)\n",
    "        marked_values.append(np.full_like(facets, tag))\n",
    "    marked_facets = np.hstack(marked_facets)\n",
    "    marked_values = np.hstack(marked_values)\n",
    "    sorted_facets = np.argsort(marked_facets)\n",
    "    facet_tag = mesh.meshtags(\n",
    "        domain, fdim, marked_facets[sorted_facets], marked_values[sorted_facets]\n",
    "    )\n",
    "    return facet_tag"
   ]
  },
  {
   "cell_type": "markdown",
   "id": "e89dbc31",
   "metadata": {},
   "source": [
    "For instance, tagging the bottom, right, top and left boundary of a square mesh will look like this:"
   ]
  },
  {
   "cell_type": "code",
   "execution_count": 2,
   "id": "c81293e1",
   "metadata": {
    "execution": {
     "iopub.execute_input": "2024-01-08T12:50:28.762045Z",
     "iopub.status.busy": "2024-01-08T12:50:28.761792Z",
     "iopub.status.idle": "2024-01-08T12:50:28.771499Z",
     "shell.execute_reply": "2024-01-08T12:50:28.770544Z"
    }
   },
   "outputs": [
    {
     "name": "stdout",
     "output_type": "stream",
     "text": [
      "[1 1 2 2 1 2 1 2 4 3 4 3 4 3 4 3]\n"
     ]
    }
   ],
   "source": [
    "N = 4\n",
    "domain = mesh.create_unit_square(MPI.COMM_WORLD, N, N)\n",
    "\n",
    "\n",
    "def left(x):\n",
    "    return np.isclose(x[0], 0.0)\n",
    "\n",
    "\n",
    "def bottom(x):\n",
    "    return np.isclose(x[1], 0.0)\n",
    "\n",
    "\n",
    "def right(x):\n",
    "    return np.isclose(x[0], 1.0)\n",
    "\n",
    "\n",
    "def top(x):\n",
    "    return np.isclose(x[1], 1.0)\n",
    "\n",
    "\n",
    "facets = mark_facets(domain, {1: bottom, 2: right, 3: top, 4: left})\n",
    "print(facets.values)"
   ]
  },
  {
   "cell_type": "markdown",
   "id": "139dbc6a",
   "metadata": {},
   "source": [
    "Note that we can also adapt the function to mark entities of specified dimension i.e. subdomains if `dim=tdim`, facets if `dim=tdim-1`, etc. where `tdim` is the domain topological dimension."
   ]
  },
  {
   "cell_type": "code",
   "execution_count": 3,
   "id": "fa24304d",
   "metadata": {
    "execution": {
     "iopub.execute_input": "2024-01-08T12:50:28.774746Z",
     "iopub.status.busy": "2024-01-08T12:50:28.774504Z",
     "iopub.status.idle": "2024-01-08T12:50:28.782153Z",
     "shell.execute_reply": "2024-01-08T12:50:28.781338Z"
    }
   },
   "outputs": [
    {
     "name": "stdout",
     "output_type": "stream",
     "text": [
      "[2 2 2 2 2 2 1 2 2 1 2 2 1 1 2 2 1 1 2 2 1 1 2 1 1 2 1 1 1 1 1 1]\n"
     ]
    }
   ],
   "source": [
    "def mark_entities(domain, dim, entities_dict):\n",
    "    \"\"\"Mark entities of specified dimension according to a geometrical marker function\n",
    "\n",
    "    Parameters\n",
    "    ----------\n",
    "    domain : Mesh\n",
    "        `dolfinx` mesh object\n",
    "    dim : int\n",
    "        Dimension of the entities to mark\n",
    "    entities_dict : dict\n",
    "        A dictionary mapping integer tags with a geometrical marker function {tag: marker(x)}\n",
    "\n",
    "    Returns\n",
    "    -------\n",
    "    entities_tag array\n",
    "    \"\"\"\n",
    "    marked_values = []\n",
    "    marked_entities = []\n",
    "    # number of non-ghosted entities\n",
    "    num_entities_local = domain.topology.index_map(dim).size_local\n",
    "    # Concatenate and sort the arrays based on indices\n",
    "    for tag, location in entities_dict.items():\n",
    "        entities = mesh.locate_entities(domain, dim, location)\n",
    "        entities = entities[entities < num_entities_local]  # remove ghost entities\n",
    "        marked_entities.append(entities)\n",
    "        marked_values.append(np.full_like(entities, tag))\n",
    "    marked_entities = np.hstack(marked_entities)\n",
    "    marked_values = np.hstack(marked_values)\n",
    "    sorted_entities = np.argsort(marked_entities)\n",
    "    entities_tags = mesh.meshtags(\n",
    "        domain, dim, marked_entities[sorted_entities], marked_values[sorted_entities]\n",
    "    )\n",
    "    return entities_tags\n",
    "\n",
    "\n",
    "def half_left(x):\n",
    "    return x[0] <= 0.5\n",
    "\n",
    "\n",
    "def half_right(x):\n",
    "    return x[0] >= 0.5\n",
    "\n",
    "\n",
    "tdim = domain.topology.dim\n",
    "cell_markers = mark_entities(domain, tdim, {1: half_left, 2: half_right})\n",
    "print(cell_markers.values)"
   ]
  },
  {
   "cell_type": "markdown",
   "id": "e36ad92c",
   "metadata": {},
   "source": [
    "```{warning}\n",
    "\n",
    "When calling `mesh.locate_entities` for a cell or a facet, the geometrical marker function gets evaluated for all vertices of the cell/facet. The marker must therefore evaluate to `True` for all vertices to properly identify the entity.\n",
    "```"
   ]
  }
 ],
 "metadata": {
  "jupytext": {
   "formats": "md:myst,ipynb"
  },
  "kernelspec": {
   "display_name": "Python 3",
   "language": "python",
   "name": "python3"
  },
  "language_info": {
   "codemirror_mode": {
    "name": "ipython",
    "version": 3
   },
   "file_extension": ".py",
   "mimetype": "text/x-python",
   "name": "python",
   "nbconvert_exporter": "python",
   "pygments_lexer": "ipython3",
   "version": "3.10.12"
  }
 },
 "nbformat": 4,
 "nbformat_minor": 5
}
