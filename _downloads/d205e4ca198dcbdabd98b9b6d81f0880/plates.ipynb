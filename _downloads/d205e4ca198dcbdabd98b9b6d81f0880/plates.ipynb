{
 "cells": [
  {
   "cell_type": "markdown",
   "id": "7eca86ba",
   "metadata": {},
   "source": [
    "# Reissner-Mindlin plates\n",
    "\n",
    "```{admonition} Objectives\n",
    ":class: objectives\n",
    "\n",
    "This demo illustrates how to implement a Reissner-Mindlin thick plate model. The main specificity of such models is that one needs to solve for two different fields: a vertical deflection field $w$ and a rotation vector field $\\boldsymbol{\\theta}$.\n",
    "$\\newcommand{\\bM}{\\boldsymbol{M}}\n",
    "\\newcommand{\\bQ}{\\boldsymbol{Q}}\n",
    "\\newcommand{\\bgamma}{\\boldsymbol{\\gamma}}\n",
    "\\newcommand{\\btheta}{\\boldsymbol{\\theta}}\n",
    "\\newcommand{\\bchi}{\\boldsymbol{\\chi}}\n",
    "\\renewcommand{\\div}{\\operatorname{div}}$\n",
    "```\n",
    "\n",
    "```{admonition} Download sources\n",
    ":class: download\n",
    "\n",
    "* {Download}`Python script<./plates.py>`\n",
    "* {Download}`Jupyter notebook<./plates.ipynb>`\n",
    "* {Download}`Complete sources files<./plates.zip>`\n",
    "```\n",
    "\n",
    "\n",
    "## Governing equations\n",
    "\n",
    "We recall below the main relations defining this model in the linear elastic case.\n",
    "\n",
    "### Generalized strains\n",
    "\n",
    "* *Bending curvature* strain $\\bchi = \\dfrac{1}{2}(\\nabla \\btheta + \\nabla^\\text{T} \\btheta) = \\nabla^\\text{s}\\btheta$\n",
    "* *Shear* strain $\\bgamma = \\nabla w - \\btheta$\n",
    "\n",
    "### Generalized stresses\n",
    "* *Bending moment* $\\bM$\n",
    "* *Shear force* $\\bQ$\n",
    "\n",
    "### Equilibrium conditions\n",
    "For a distributed transverse surface loading $f$,\n",
    "* Vertical equilibrium: $\\div \\bQ + f = 0$\n",
    "* Moment equilibrium: $\\div \\bM + \\bQ = 0$\n",
    "\n",
    "In weak form:\n",
    "\n",
    "$$\\int_{\\Omega} (\\bM:\\nabla^\\text{s}\\widehat{\\btheta} + \\bQ\\cdot(\\nabla \\widehat{w} - \\widehat{\\btheta}))\\text{d}\\Omega = \\int_{\\Omega} f w \\text{d}\\Omega \\quad \\forall \\widehat{w},\\widehat{\\btheta}$$\n",
    "\n",
    "### Isotropic linear elastic constitutive relation\n",
    "* Bending/curvature relation:\n",
    "\\begin{align*}\n",
    "\\begin{Bmatrix}M_{xx}\\\\ M_{yy} \\\\M_{xy} \\end{Bmatrix} &= \\textsf{D} \\begin{bmatrix}1 & \\nu & 0 \\\\ \\nu & 1 & 0 \\\\ 0 & 0 & (1-\\nu)/2 \\end{bmatrix}\\begin{Bmatrix}\\chi_{xx} \\\\ \\chi_{yy} \\\\ 2\\chi_{xy}  \\end{Bmatrix}\\\\\n",
    "\\text{ where}\\quad \\textsf{D} &= \\dfrac{E h^3}{12(1-\\nu^2)}\n",
    "\\end{align*}\n",
    "\n",
    "* Shear strain/stress relation:\n",
    "\\begin{align*}\n",
    "\\bQ &= \\textsf{F}\\bgamma\\\\\n",
    "\\text{ where}\\quad \\textsf{F} &= \\dfrac{5}{6}\\dfrac{E h}{2(1+\\nu)}\n",
    "\\end{align*}\n",
    "\n",
    "\n",
    "## Implementation\n",
    "\n",
    "We first load relevant modules and functions and generate a unit square mesh of triangles."
   ]
  },
  {
   "cell_type": "code",
   "execution_count": null,
   "id": "781366ce",
   "metadata": {},
   "outputs": [],
   "source": [
    "import numpy as np\n",
    "import ufl\n",
    "\n",
    "from mpi4py import MPI\n",
    "from dolfinx import fem, io\n",
    "import dolfinx.fem.petsc\n",
    "from dolfinx.mesh import (\n",
    "    create_unit_square,\n",
    "    CellType,\n",
    "    DiagonalType,\n",
    "    locate_entities_boundary,\n",
    ")\n",
    "\n",
    "\n",
    "N = 10\n",
    "domain = create_unit_square(\n",
    "    MPI.COMM_WORLD, N, N, cell_type=CellType.triangle, diagonal=DiagonalType.crossed\n",
    ")"
   ]
  },
  {
   "cell_type": "markdown",
   "id": "bd099521",
   "metadata": {},
   "source": [
    "Next we define material properties and functions which will be used for defining the variational formulation."
   ]
  },
  {
   "cell_type": "code",
   "execution_count": null,
   "id": "c9f44c03",
   "metadata": {},
   "outputs": [],
   "source": [
    "# material parameters\n",
    "thick = 0.05\n",
    "E = 210.0e3\n",
    "nu = 0.3\n",
    "\n",
    "# bending stiffness\n",
    "D = fem.Constant(domain, E * thick**3 / (1 - nu**2) / 12.0)\n",
    "# shear stiffness\n",
    "F = fem.Constant(domain, E / 2 / (1 + nu) * thick * 5.0 / 6.0)\n",
    "\n",
    "# uniform transversal load\n",
    "f = fem.Constant(domain, -100.0)\n",
    "\n",
    "\n",
    "# Useful function for defining strains and stresses\n",
    "def curvature(u):\n",
    "    (w, theta) = ufl.split(u)\n",
    "    return ufl.as_vector(\n",
    "        [theta[0].dx(0), theta[1].dx(1), theta[0].dx(1) + theta[1].dx(0)]\n",
    "    )\n",
    "\n",
    "\n",
    "def shear_strain(u):\n",
    "    (w, theta) = ufl.split(u)\n",
    "    return theta - ufl.grad(w)\n",
    "\n",
    "\n",
    "def bending_moment(u):\n",
    "    DD = ufl.as_matrix([[D, nu * D, 0], [nu * D, D, 0], [0, 0, D * (1 - nu) / 2.0]])\n",
    "    return ufl.dot(DD, curvature(u))\n",
    "\n",
    "\n",
    "def shear_force(u):\n",
    "    return F * shear_strain(u)"
   ]
  },
  {
   "cell_type": "markdown",
   "id": "e7c7814d",
   "metadata": {},
   "source": [
    "Now we define the corresponding function space. Our dofs are $w$ and $\\btheta$, so the full function space $V$ will be a **mixed** function space consisting of a scalar subspace related to $w$ and a vectorial subspace related to $\\btheta$. We first use a continuous $P^2$ interpolation for $w$ and a continuous $P^1$ interpolation for $\\btheta$. We then define the corresponding linear and bilinear forms."
   ]
  },
  {
   "cell_type": "code",
   "execution_count": null,
   "id": "5f721f35",
   "metadata": {
    "lines_to_next_cell": 2
   },
   "outputs": [],
   "source": [
    "# Definition of function space for U:displacement, T:rotation\n",
    "Ue = ufl.FiniteElement(\"P\", domain.ufl_cell(), 2)\n",
    "Te = ufl.VectorElement(\"P\", domain.ufl_cell(), 1)\n",
    "V = fem.functionspace(domain, ufl.MixedElement([Ue, Te]))\n",
    "\n",
    "# Functions\n",
    "u = fem.Function(V, name=\"Unknown\")\n",
    "u_ = ufl.TestFunction(V)\n",
    "(w_, theta_) = ufl.split(u_)\n",
    "du = ufl.TrialFunction(V)\n",
    "\n",
    "# Linear and bilinear forms\n",
    "dx = ufl.Measure(\"dx\", domain=domain)\n",
    "L = f * w_ * dx\n",
    "a = (\n",
    "    ufl.dot(bending_moment(u_), curvature(du))\n",
    "    + ufl.dot(shear_force(u_), shear_strain(du))\n",
    ") * dx"
   ]
  },
  {
   "cell_type": "markdown",
   "id": "072ad5dd",
   "metadata": {
    "lines_to_next_cell": 2
   },
   "source": [
    "Boundary conditions are now defined. We consider a fully clamped boundary. Note that since we are using a mixed function space, we cannnot use the `locate_dofs_geometrical` function. Instead, we locate the facets on the boundary using `dolfinx.mesh.locate_entities_boundary`. Then we locate the dofs on such facets using `locate_dofs_topological`."
   ]
  },
  {
   "cell_type": "code",
   "execution_count": null,
   "id": "44974112",
   "metadata": {},
   "outputs": [],
   "source": [
    "# Boundary of the plate\n",
    "def border(x):\n",
    "    return np.logical_or(\n",
    "        np.logical_or(np.isclose(x[0], 0), np.isclose(x[0], 1)),\n",
    "        np.logical_or(np.isclose(x[1], 0), np.isclose(x[1], 1)),\n",
    "    )\n",
    "\n",
    "\n",
    "facet_dim = 1\n",
    "clamped_facets = locate_entities_boundary(domain, facet_dim, border)\n",
    "clamped_dofs = fem.locate_dofs_topological(V, facet_dim, clamped_facets)\n",
    "\n",
    "u0 = fem.Function(V)\n",
    "bcs = [fem.dirichletbc(u0, clamped_dofs)]"
   ]
  },
  {
   "cell_type": "markdown",
   "id": "506c99ef",
   "metadata": {},
   "source": [
    "We now solve the problem and output the result. To get the deflection $w$, we use `u.sub(0).collapse()` to extract a new function living in the corresponding subspace. Note that `u.sub(0)` provides only an indexed view of the $w$ component of `u`. The computed results is compared with the analytical maximum deflection of a clamped Love-Kirchhoff plate:\n",
    "\n",
    "$$\n",
    "w_\\text{LK} = 1.265319087.10^{-3} \\dfrac{f}{\\mathsf{D}}\n",
    "$$"
   ]
  },
  {
   "cell_type": "code",
   "execution_count": null,
   "id": "47a197fc",
   "metadata": {},
   "outputs": [],
   "source": [
    "problem = fem.petsc.LinearProblem(\n",
    "    a, L, u=u, bcs=bcs, petsc_options={\"ksp_type\": \"preonly\", \"pc_type\": \"lu\"}\n",
    ")\n",
    "problem.solve()\n",
    "\n",
    "with io.VTKFile(domain.comm, \"plates.xdmf\", \"w\") as vtk:\n",
    "    w = u.sub(0).collapse()\n",
    "    w.name = \"Deflection\"\n",
    "    vtk.write_function(w)\n",
    "\n",
    "w_LK = 1.265319087e-3 * -f.value / D.value\n",
    "print(f\"Reissner-Mindlin deflection: {max(abs(w.vector.array)):.5f}\")\n",
    "print(f\"Love-Kirchhoff deflection: {w_LK:.5f}\")"
   ]
  },
  {
   "cell_type": "markdown",
   "id": "ab110999",
   "metadata": {},
   "source": [
    "```{warning}\n",
    "This simple formulation may suffer from **shear locking** issues in the thin plate limit. We refer to the various plate tours dedicated to this specific issue for more accurate treatment of plate shear locking.\n",
    "```\n",
    "\n",
    "We can plot the plate deflection $w$ and the rotation vector $\\boldsymbol{\\beta} = \\boldsymbol{e}_z\\times \\btheta$ using `pyvista`. $\\boldsymbol{\\beta}$ represents the axis vector around which the plate is rotating."
   ]
  },
  {
   "cell_type": "code",
   "execution_count": null,
   "id": "a866656a",
   "metadata": {
    "tags": [
     "hide-input"
    ]
   },
   "outputs": [],
   "source": [
    "import pyvista\n",
    "from dolfinx import plot\n",
    "\n",
    "pyvista.set_jupyter_backend(\"static\")\n",
    "\n",
    "Vw = w.function_space\n",
    "w_topology, w_cell_types, w_geometry = plot.vtk_mesh(Vw)\n",
    "w_grid = pyvista.UnstructuredGrid(w_topology, w_cell_types, w_geometry)\n",
    "w_grid.point_data[\"Deflection\"] = w.x.array\n",
    "w_grid.set_active_scalars(\"Deflection\")\n",
    "warped = w_grid.warp_by_scalar(\"Deflection\", factor=5)\n",
    "\n",
    "plotter = pyvista.Plotter()\n",
    "plotter.add_mesh(\n",
    "    warped,\n",
    "    show_scalar_bar=True,\n",
    "    scalars=\"Deflection\",\n",
    ")\n",
    "edges = warped.extract_all_edges()\n",
    "plotter.add_mesh(edges, color=\"k\", line_width=1)\n",
    "plotter.show()\n",
    "\n",
    "theta = u.sub(1).collapse()\n",
    "Vt = theta.function_space\n",
    "theta_topology, theta_cell_types, theta_geometry = plot.vtk_mesh(Vt)\n",
    "theta_grid = pyvista.UnstructuredGrid(theta_topology, theta_cell_types, theta_geometry)\n",
    "beta_3D = np.zeros((theta_geometry.shape[0], 3))\n",
    "beta_3D[:, :2] = theta.x.array.reshape(-1, 2) @ np.array([[0, -1], [1, 0]])\n",
    "theta_grid[\"beta\"] = beta_3D\n",
    "theta_grid.set_active_vectors(\"beta\")\n",
    "\n",
    "plotter = pyvista.Plotter()\n",
    "plotter.add_mesh(\n",
    "    theta_grid.arrows, lighting=False, scalar_bar_args={\"title\": \"Rotation Magnitude\"}\n",
    ")\n",
    "plotter.add_mesh(theta_grid, color=\"grey\", ambient=0.6, opacity=0.5, show_edges=True)\n",
    "plotter.show()"
   ]
  },
  {
   "cell_type": "markdown",
   "id": "ebd7ce3e",
   "metadata": {},
   "source": [
    "## Modal analysis\n",
    "\n",
    "Now we define the form corresponding to the definition of the mass matrix and we assemble the stiffness and mass forms into corresponding PETSc matrix objects. We use a value of 1 on the diagonal for K and 0 for M for the rows corresponding to the boundary conditions. Doing so, eigenvalues associated to boundary conditions are equal to infinity and will not pollute the low-frequency spectrum."
   ]
  },
  {
   "cell_type": "code",
   "execution_count": null,
   "id": "e1bda22f",
   "metadata": {},
   "outputs": [],
   "source": [
    "rho = fem.Constant(domain, 2700.0)\n",
    "m_form = rho * thick * ufl.dot(du, u_) * dx\n",
    "\n",
    "K = fem.petsc.assemble_matrix(fem.form(a), bcs, diagonal=1)\n",
    "K.assemble()\n",
    "M = fem.petsc.assemble_matrix(fem.form(m_form), bcs, diagonal=0)\n",
    "M.assemble()"
   ]
  },
  {
   "cell_type": "markdown",
   "id": "08690ed5",
   "metadata": {},
   "source": [
    "We now use `slepc4py` to define a eigenvalue solver (EPS -- *Eigenvalue Problem Solver* -- in SLEPc vocable) and solve the corresponding generalized eigenvalue problem. Functions defined in {Download}`eigenvalue_solver.py<./eigenvalue_solver.py>`\n",
    "enable to define the corresponding objects, set up the parameters, monitor the resolution and extract the corresponding eigenpairs. Here the problem is of type `GHEP` (Generalized Hermitian eigenproblem) and we use a shift-invert transform to compute the smallest eigenvalues."
   ]
  },
  {
   "cell_type": "code",
   "execution_count": null,
   "id": "77e88c38",
   "metadata": {},
   "outputs": [],
   "source": [
    "from slepc4py import SLEPc\n",
    "from eigenvalue_solver import solve_GEP_shiftinvert, EPS_get_spectrum\n",
    "\n",
    "N_eig = 6  # number of requested eigenvalues\n",
    "eigensolver = solve_GEP_shiftinvert(\n",
    "    K,\n",
    "    M,\n",
    "    problem_type=SLEPc.EPS.ProblemType.GHEP,\n",
    "    solver=SLEPc.EPS.Type.KRYLOVSCHUR,\n",
    "    nev=N_eig,\n",
    ")\n",
    "# Extract results\n",
    "(eigval, eigvec_r, eigvec_i) = EPS_get_spectrum(eigensolver, V)\n",
    "# Output eigenmodes\n",
    "with io.VTKFile(domain.comm, \"plates_eigenvalues.xdmf\", \"w\") as vtk:\n",
    "    for i in range(N_eig):\n",
    "        w = eigvec_r[i].sub(0).collapse()\n",
    "        w.name = \"Deflection\"\n",
    "        vtk.write_function(w, i)"
   ]
  },
  {
   "cell_type": "markdown",
   "id": "94b75d26",
   "metadata": {},
   "source": [
    "The eigenmodes look as follows using `pyvista`:"
   ]
  },
  {
   "cell_type": "code",
   "execution_count": null,
   "id": "313c007b",
   "metadata": {
    "tags": [
     "hide-input"
    ]
   },
   "outputs": [],
   "source": [
    "w_grid = pyvista.UnstructuredGrid(w_topology, w_cell_types, w_geometry)\n",
    "\n",
    "pl = pyvista.Plotter(shape=(2, 3))\n",
    "for i in range(2):\n",
    "    for j in range(3):\n",
    "        pl.subplot(i, j)\n",
    "        current_index = 3 * i + j\n",
    "        eigenmode = f\"eigenmode_{current_index:02}\"\n",
    "        pl.add_text(\n",
    "            f\"eigenmode {current_index}, freq. {np.real(np.sqrt(eigval[current_index]))/2/np.pi*1e3:.1f} Hz\",\n",
    "            font_size=10,\n",
    "        )\n",
    "        wi = eigvec_r[current_index].sub(0).collapse()\n",
    "        w_grid[eigenmode] = wi.x.array\n",
    "        pl.add_mesh(\n",
    "            w_grid.warp_by_scalar(eigenmode, factor=10.0),\n",
    "            scalars=eigenmode,\n",
    "            show_scalar_bar=False,\n",
    "            specular=0.5,\n",
    "            specular_power=30,\n",
    "        )\n",
    "pl.show()"
   ]
  }
 ],
 "metadata": {
  "jupytext": {
   "formats": "md:myst,ipynb"
  },
  "kernelspec": {
   "display_name": "Python 3 (ipykernel)",
   "language": "python",
   "name": "python3"
  }
 },
 "nbformat": 4,
 "nbformat_minor": 5
}
