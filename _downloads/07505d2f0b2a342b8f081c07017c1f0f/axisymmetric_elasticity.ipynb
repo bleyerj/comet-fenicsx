{
 "cells": [
  {
   "cell_type": "markdown",
   "id": "be9bd13c",
   "metadata": {},
   "source": [
    "# Axisymmetric formulation for elastic structures of revolution {far}`star`\n",
    "\n",
    "```{admonition} Objectives\n",
    ":class: objectives\n",
    "\n",
    "This demo shows how to formulate a linear elastic problem under axisymmetric conditions.\n",
    "$\\newcommand{\\bsig}{\\boldsymbol{\\sigma}}\n",
    "\\newcommand{\\beps}{\\boldsymbol{\\varepsilon}}\n",
    "\\newcommand{\\bu}{\\boldsymbol{u}}\n",
    "\\newcommand{\\bv}{\\boldsymbol{v}}\n",
    "\\newcommand{\\bT}{\\boldsymbol{T}}\n",
    "\\newcommand{\\bI}{\\boldsymbol{I}}\n",
    "\\newcommand{\\T}{^\\text{T}}\n",
    "\\newcommand{\\tr}{\\operatorname{tr}}\n",
    "\\newcommand{\\CC}{\\mathbb{C}}\n",
    "\\newcommand{\\dOm}{\\,\\text{d}\\Omega}\n",
    "\\newcommand{\\dom}{\\,\\text{d}\\omega}\n",
    "\\newcommand{\\dS}{\\,\\text{d}S}\n",
    "\\newcommand{\\ds}{\\,\\text{d}s}\n",
    "\\newcommand{\\Neumann}{{\\partial \\Omega_\\text{N}}}\n",
    "\\newcommand{\\Dirichlet}{{\\partial \\Omega_\\text{D}}}\n",
    "\\newcommand{\\neumann}{{\\partial \\omega_\\text{N}}}\n",
    "\\newcommand{\\dirichlet}{{\\partial \\omega_\\text{D}}}$\n",
    "```\n",
    "\n",
    "```{admonition} Download sources\n",
    ":class: download\n",
    "\n",
    "* {Download}`Python script<./axisymmetric_elasticity.py>`\n",
    "* {Download}`Jupyter notebook<./axisymmetric_elasticity.ipynb>`\n",
    "```\n",
    "\n",
    "\n",
    "```{image} axisymmetric_elasticity.png\n",
    ":align: center\n",
    ":width: 400px\n",
    "```\n",
    "\n",
    " We will consider a solid of revolution around a fixed axis $(Oz)$, the loading, boundary conditions and material properties being also invariant with respect to a rotation along the symmetry axis. The solid cross-section in a plane $\\theta=\\text{cst}$ will be represented by a two-dimensional domain $\\omega$. With such a 2D mesh, the first spatial variable (`x[0]` in `UFL`) will represent the radial coordinate $r$ whereas the second spatial variable (`x[1]`) will denote the axial variable $z$.\n",
    "\n",
    "## Problem position\n",
    "\n",
    "We will investigate here the case of a hollow hemisphere of inner (resp. outer) radius $R_i$ (resp. $R_e$). We impose an external pressure on the outer radius boundary. Due to the revolution symmetry, the 2D cross-section corresponds to a quarter of a hollow cylinder.\n",
    "\n",
    "We first import the relevant modules."
   ]
  },
  {
   "cell_type": "code",
   "execution_count": 1,
   "id": "4b388f7e",
   "metadata": {},
   "outputs": [],
   "source": [
    "import numpy as np\n",
    "import matplotlib.pyplot as plt\n",
    "\n",
    "import gmsh\n",
    "from mpi4py import MPI\n",
    "import ufl\n",
    "from dolfinx import mesh, fem, io\n",
    "import dolfinx.fem.petsc\n",
    "\n",
    "hsize = 0.2\n",
    "\n",
    "Re = 11.0\n",
    "Ri = 9.0"
   ]
  },
  {
   "cell_type": "markdown",
   "id": "8fe22deb",
   "metadata": {},
   "source": [
    "The domain is created and meshed using the `Gmsh` Python API."
   ]
  },
  {
   "cell_type": "code",
   "execution_count": 2,
   "id": "c5b592ce",
   "metadata": {
    "tags": [
     "hide-input"
    ]
   },
   "outputs": [],
   "source": [
    "gmsh.initialize()\n",
    "gmsh.option.setNumber(\"General.Terminal\", 0)  # to disable meshing info\n",
    "gdim = 2\n",
    "model_rank = 0\n",
    "gmsh.model.add(\"Model\")\n",
    "\n",
    "geom = gmsh.model.geo\n",
    "center = geom.add_point(0, 0, 0)\n",
    "p1 = geom.add_point(Ri, 0, 0)\n",
    "p2 = geom.add_point(Re, 0, 0)\n",
    "p3 = geom.add_point(0, Re, 0)\n",
    "p4 = geom.add_point(0, Ri, 0)\n",
    "\n",
    "x_radius = geom.add_line(p1, p2)\n",
    "outer_circ = geom.add_circle_arc(p2, center, p3)\n",
    "y_radius = geom.add_line(p3, p4)\n",
    "inner_circ = geom.add_circle_arc(p4, center, p1)\n",
    "\n",
    "boundary = geom.add_curve_loop([x_radius, outer_circ, y_radius, inner_circ])\n",
    "surf = geom.add_plane_surface([boundary])\n",
    "\n",
    "geom.synchronize()\n",
    "\n",
    "gmsh.option.setNumber(\"Mesh.CharacteristicLengthMin\", hsize)\n",
    "gmsh.option.setNumber(\"Mesh.CharacteristicLengthMax\", hsize)\n",
    "\n",
    "gmsh.model.addPhysicalGroup(gdim, [surf], 1)\n",
    "gmsh.model.addPhysicalGroup(gdim - 1, [x_radius], 1, name=\"bottom\")\n",
    "gmsh.model.addPhysicalGroup(gdim - 1, [y_radius], 2, name=\"left\")\n",
    "gmsh.model.addPhysicalGroup(gdim - 1, [outer_circ], 3, name=\"outer\")\n",
    "\n",
    "\n",
    "gmsh.model.mesh.generate(gdim)\n",
    "\n",
    "domain, _, facets = io.gmshio.model_to_mesh(\n",
    "    gmsh.model, MPI.COMM_WORLD, model_rank, gdim=gdim\n",
    ")\n",
    "gmsh.finalize()"
   ]
  },
  {
   "cell_type": "markdown",
   "id": "918a9d74",
   "metadata": {},
   "source": [
    "## Definition of axisymmetric strains and stresses\n",
    "\n",
    "For axisymmetric conditions, the unknown displacement field is of the form:\n",
    "\n",
    "$$\n",
    "\\boldsymbol{u} = u_r(r,z)\\boldsymbol{e}_r + u_z(r,z)\\boldsymbol{e}_z\n",
    "$$\n",
    "\n",
    "As a result, we will work with a standard vectorial function space of dimension 2 for discretizing $u_r$ and $u_z$ respectively. The associated strain components are however given by:\n",
    "\n",
    "$$\n",
    "\\boldsymbol{\\varepsilon} = \\begin{bmatrix} \\partial_r u_r & 0 & (\\partial_z u_r + \\partial_r u_z)/2 \\\\\n",
    "0 & u_r/r & 0 \\\\\n",
    "(\\partial_z u_r + \\partial_r u_z)/2 & 0 & \\partial_z u_z\\end{bmatrix}_{(\\boldsymbol{e}_r,\\boldsymbol{e}_\\theta,\\boldsymbol{e}_z)}\n",
    "$$\n",
    "\n",
    "The previous relation involves explicitly the radial variable $r$, which can be obtained from the `ufl.SpatialCoordinate` `x[0]`, the strain-displacement relation is then defined explicitly in the `eps` function.\n",
    "\n",
    "```{note}\n",
    "We could also express the strain components in the form of a vector of size 4 in alternative of the 3D tensor representation implemented below.\n",
    "```"
   ]
  },
  {
   "cell_type": "code",
   "execution_count": 3,
   "id": "4197d1a3",
   "metadata": {},
   "outputs": [],
   "source": [
    "x = ufl.SpatialCoordinate(domain)\n",
    "\n",
    "\n",
    "def eps(v):\n",
    "    return ufl.sym(\n",
    "        ufl.as_tensor(\n",
    "            [\n",
    "                [v[0].dx(0), 0, v[0].dx(1)],\n",
    "                [0, v[0] / x[0], 0],\n",
    "                [v[1].dx(0), 0, v[1].dx(1)],\n",
    "            ]\n",
    "        )\n",
    "    )"
   ]
  },
  {
   "cell_type": "markdown",
   "id": "6a9d2706",
   "metadata": {},
   "source": [
    "The linear elastic constitutive equation giving the stress `sigma` is written using 3D tensors:"
   ]
  },
  {
   "cell_type": "code",
   "execution_count": 4,
   "id": "a2ff3db9",
   "metadata": {},
   "outputs": [],
   "source": [
    "E = fem.Constant(domain, 1e5)\n",
    "nu = fem.Constant(domain, 0.3)\n",
    "mu = E / 2 / (1 + nu)\n",
    "lmbda = E * nu / (1 + nu) / (1 - 2 * nu)\n",
    "\n",
    "\n",
    "def sigma(v):\n",
    "    return lmbda * ufl.tr(eps(v)) * ufl.Identity(3) + 2.0 * mu * eps(v)"
   ]
  },
  {
   "cell_type": "markdown",
   "id": "2ae747ae",
   "metadata": {},
   "source": [
    "## Weak formulation\n",
    "\n",
    "The rest of the formulation is similar to the 2D elastic case with a small difference in the integration measure. Indeed, the virtual work principle reads as:\n",
    "\n",
    "$$\n",
    " \\text{Find } \\boldsymbol{u}\\in V \\text{ s.t. } \\int_{\\Omega}\n",
    " \\boldsymbol{\\sigma}(\\boldsymbol{u}):\\boldsymbol{\\varepsilon}(\\boldsymbol{v}) \\dOm\n",
    " = \\int_{\\Neumann} \\boldsymbol{T}\\cdot\\boldsymbol{v} \\dS \\quad \\forall\\boldsymbol{v} \\in V\n",
    " $$\n",
    "\n",
    "where $\\boldsymbol{T}$ is the imposed traction on some part $\\Neumann$ of the domain boundary.\n",
    "\n",
    "In axisymmetric conditions, the full 3D domain $\\Omega$ can be decomposed as $\\Omega = \\omega \\times [0;2\\pi]$ where the interval represents the $\\theta$ variable. The integration measures therefore reduce to $\\dOm = \\dom\\cdot(r\\,\\text{d}\\theta)$ and $\\dS = \\ds\\cdot(r\\,\\text{d}\\theta)$ where $dS$ is the surface integration measure on the 3D domain $\\Omega$ and $ds$ its counterpart on the cross-section boundary $\\partial \\omega$. Exploiting the invariance of all fields with respect to $\\theta$, the previous virtual work principle is reformulated on the cross-section only as follows:\n",
    "\n",
    "$$\n",
    " \\text{Find } \\boldsymbol{u}\\in V \\text{ s.t. } \\int_{\\omega}\n",
    " \\boldsymbol{\\sigma}(\\boldsymbol{u}):\\boldsymbol{\\varepsilon}(\\boldsymbol{v}) r \\dom\n",
    " = \\int_{\\neumann} \\boldsymbol{T}\\cdot\\boldsymbol{v}  r\\ds \\quad \\forall\\boldsymbol{v} \\in V\n",
    " $$\n",
    "\n",
    "where the $2\\pi$ constants arising from the integration on $\\theta$ have been cancelled on both sides. As a result, the bilinear and linear form are similar to the plane 2D case with the exception of the additional $r$ term in the integration measures.\n",
    "\n",
    "```{warning}\n",
    "Some terms in the integrand, e.g. the strain $\\beps$, contain terms exhibiting a $\\dfrac{1}{r}$ singularity at $r=0$. In practice, there should not be any issue regarding such a singularity since integrals are evaluated approximately using quadrature rules. Integrands are then evaluated at quadrature points which usually lie inside strictly inside the element (default scheme). For non-classical quadrature, such as vertex schemes or GLL points, you may have some trouble with such singular terms.\n",
    "```\n",
    "\n",
    "## Resolution\n",
    "\n",
    "The final formulation is therefore pretty straightforward. Since a uniform pressure loading is applied on the outer boundary, we will also need the exterior normal vector to define the work of external forces form."
   ]
  },
  {
   "cell_type": "code",
   "execution_count": 5,
   "id": "7f9956c0",
   "metadata": {},
   "outputs": [],
   "source": [
    "ds = ufl.Measure(\"ds\", domain=domain, subdomain_data=facets)\n",
    "dx = ufl.Measure(\"dx\", domain=domain)\n",
    "\n",
    "n = ufl.FacetNormal(domain)\n",
    "p = fem.Constant(domain, 10.0)\n",
    "\n",
    "V = fem.functionspace(domain, (\"P\", 2, (gdim,)))\n",
    "du = ufl.TrialFunction(V)\n",
    "u_ = ufl.TestFunction(V)\n",
    "a_form = ufl.inner(sigma(du), eps(u_)) * x[0] * dx\n",
    "L_form = ufl.inner(-p * n, u_) * x[0] * ds(3)\n",
    "\n",
    "u = fem.Function(V, name=\"Displacement\")"
   ]
  },
  {
   "cell_type": "markdown",
   "id": "bc2dcade",
   "metadata": {},
   "source": [
    "We apply smooth contact conditions on the vertical $r=0$ (facet tag `2`) and the horizontal $z=0$ (facet tag `1`) boundaries."
   ]
  },
  {
   "cell_type": "code",
   "execution_count": 6,
   "id": "835eddbf",
   "metadata": {},
   "outputs": [
    {
     "data": {
      "text/plain": [
       "Coefficient(FunctionSpace(Mesh(blocked element (Basix element (P, triangle, 1, equispaced, unset, False, float64, []), (2,)), 0), blocked element (Basix element (P, triangle, 2, gll_warped, unset, False, float64, []), (2,))), 0)"
      ]
     },
     "execution_count": 6,
     "metadata": {},
     "output_type": "execute_result"
    }
   ],
   "source": [
    "Vx, _ = V.sub(0).collapse()\n",
    "Vy, _ = V.sub(1).collapse()\n",
    "bottom_dofsy = fem.locate_dofs_topological((V.sub(1), Vy), gdim - 1, facets.find(1))\n",
    "top_dofsx = fem.locate_dofs_topological((V.sub(0), Vx), gdim - 1, facets.find(2))\n",
    "\n",
    "# used for post-processing\n",
    "bottom_dofsx = fem.locate_dofs_topological((V.sub(0), Vx), gdim - 1, facets.find(1))[1]\n",
    "\n",
    "u0x = fem.Function(Vx)\n",
    "u0y = fem.Function(Vy)\n",
    "bcs = [\n",
    "    fem.dirichletbc(u0x, top_dofsx, V.sub(0)),\n",
    "    fem.dirichletbc(u0y, bottom_dofsy, V.sub(1)),\n",
    "]\n",
    "\n",
    "# solve problem\n",
    "problem = fem.petsc.LinearProblem(a_form, L_form, u=u, bcs=bcs)\n",
    "problem.solve()"
   ]
  },
  {
   "cell_type": "markdown",
   "id": "653d5ecd",
   "metadata": {},
   "source": [
    "For this specific case, we can compare to the classical solution of a hollow sphere under external pressure with a purely radial displacement given by:\n",
    "\n",
    "$$\n",
    "u_r(r) = -\\dfrac{R_e^3}{R_e^3-R_i^3}\\left((1 − 2\\nu)r + (1 + \\nu)\\dfrac{R_i^3}{2r^2}\\right)\\dfrac{p}{E},\n",
    "\\quad u_z=0\n",
    "$$\n",
    "\n",
    "We extract the radial displacement dofs on the bottom boundary and compare with the analytical solution."
   ]
  },
  {
   "cell_type": "code",
   "execution_count": 7,
   "id": "ffe28ef4",
   "metadata": {},
   "outputs": [
    {
     "data": {
      "image/png": "[encoded data removed]",
      "text/plain": [
       "<Figure size 640x480 with 1 Axes>"
      ]
     },
     "metadata": {},
     "output_type": "display_data"
    }
   ],
   "source": [
    "ur = u.sub(0).collapse()\n",
    "ur_FEM = ur.vector.array[bottom_dofsx]\n",
    "\n",
    "r = Vx.tabulate_dof_coordinates()[bottom_dofsx, 0]\n",
    "\n",
    "nu0 = nu.value\n",
    "ur_theo = -(\n",
    "    Re**3\n",
    "    / (Re**3 - Ri**3)\n",
    "    * float(p / E)\n",
    "    * ((1 - 2 * nu0) * r + (1 + nu0) * Ri**3 / 2 / r**2)\n",
    ")\n",
    "\n",
    "\n",
    "plt.plot(r, np.abs(ur_theo), \"-k\", label=\"Analytical solution\")\n",
    "plt.plot(r, np.abs(ur_FEM), \"oC3\", label=\"FEM\")\n",
    "plt.xlabel(\"Radial coordinate $r$\")\n",
    "plt.ylabel(\"Radial displacement magnitude $|u_r|$\")\n",
    "plt.legend()\n",
    "plt.show()"
   ]
  }
 ],
 "metadata": {
  "jupytext": {
   "formats": "md:myst,ipynb"
  },
  "kernelspec": {
   "display_name": "Python 3",
   "language": "python",
   "name": "python3"
  },
  "language_info": {
   "codemirror_mode": {
    "name": "ipython",
    "version": 3
   },
   "file_extension": ".py",
   "mimetype": "text/x-python",
   "name": "python",
   "nbconvert_exporter": "python",
   "pygments_lexer": "ipython3",
   "version": "3.12.3"
  }
 },
 "nbformat": 4,
 "nbformat_minor": 5
}
