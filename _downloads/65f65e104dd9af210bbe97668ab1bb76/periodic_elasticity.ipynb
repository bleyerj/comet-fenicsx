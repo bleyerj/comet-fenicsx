{
 "cells": [
  {
   "cell_type": "markdown",
   "id": "1d9f86c4",
   "metadata": {},
   "source": [
    "# Periodic homogenization of linear elasticity {far}`star`\n",
    "\n",
    "```{admonition} Objectives\n",
    ":class: objectives\n",
    "\n",
    "This tour will show how to perform periodic homogenization of linear elastic heterogeneous materials. In particular, we show how to define periodic boundary conditions and compute the effective stiffness tensor.\n",
    "$\\newcommand{\\bu}{\\boldsymbol{u}}\n",
    "\\newcommand{\\bv}{\\boldsymbol{v}}\n",
    "\\newcommand{\\bt}{\\boldsymbol{t}}\n",
    "\\newcommand{\\be}{\\boldsymbol{e}}\n",
    "\\newcommand{\\ba}{\\boldsymbol{a}}\n",
    "\\newcommand{\\by}{\\boldsymbol{y}}\n",
    "\\newcommand{\\bE}{\\boldsymbol{E}}\n",
    "\\newcommand{\\beps}{\\boldsymbol{\\varepsilon}}\n",
    "\\newcommand{\\bsig}{\\boldsymbol{\\sigma}}\n",
    "\\newcommand{\\T}{^{\\text{T}}}$\n",
    "```\n",
    "\n",
    "```{attention}\n",
    "This tour requires the `dolfinx_mpc` add-on package to enforce periodic boundary conditions. More details and installation instructions are to be found here https://github.com/jorgensd/dolfinx_mpc.\n",
    "```\n",
    "\n",
    "```{admonition} Download sources\n",
    ":class: download\n",
    "\n",
    "* {Download}`Python script<./periodic_elasticity.py>`\n",
    "* {Download}`Jupyter notebook<./periodic_elasticity.ipynb>`\n",
    "```\n",
    "\n",
    "The considered 2D plane strain problem deals with a skewed unit cell of dimensions $1\\times \\sqrt{3}/2$ consisting of circular inclusions (numbered $1$) of radius $R$ with elastic properties $(E_r, \\nu_r)$ and embedded in a matrix material (numbered $0$) of properties $(E_m, \\nu_m)$ following an hexagonal pattern. A classical result of homogenization theory ensures that the resulting overall behavior will be isotropic, a property that will be numerically verified later.\n",
    "\n",
    "```{image} unit_cell.png\n",
    ":align: center\n",
    ":width: 600px\n",
    "```\n",
    "\n",
    "## Periodic homogenization framework\n",
    "\n",
    "The goal of homogenization theory consists in computing the apparent elastic moduli of the homogenized medium associated with a given microstructure. In a linear elastic setting, this amounts to solving the following auxiliary problem defined on the unit cell $\\mathcal{A}$:\n",
    "\n",
    "$$\\begin{equation}\\begin{cases}\\operatorname{div} \\boldsymbol{\\sigma} = \\boldsymbol{0} & \\text{in } \\mathcal{A} \\\\\n",
    "\\boldsymbol{\\sigma} = \\mathbb{C}(\\boldsymbol{y}):\\boldsymbol{\\varepsilon} & \\text{for }\\boldsymbol{y}\\in\\mathcal{A} \\\\\n",
    "\\boldsymbol{\\varepsilon} = \\boldsymbol{E} + \\nabla^s \\boldsymbol{v} & \\text{in } \\mathcal{A} \\\\\n",
    "\\boldsymbol{v} & \\text{is } \\mathcal{A}\\text{-periodic} \\\\\n",
    "\\boldsymbol{T}=\\boldsymbol{\\sigma}\\cdot\\boldsymbol{n} & \\text{is } \\mathcal{A}\\text{-antiperiodic}\n",
    "\\end{cases} \\label{auxiliary-problem}\n",
    "\\end{equation}$$\n",
    "\n",
    "where $\\boldsymbol{E}$ is the **given** macroscopic strain, $\\boldsymbol{v}$ a periodic fluctuation and $\\mathbb{C}(\\boldsymbol{y})$ is the heterogeneous elasticity tensor depending on the microscopic space variable $\\boldsymbol{y}\\in\\mathcal{A}$. By construction, the local microscopic strain is equal on average to the macroscopic strain: $\\langle \\boldsymbol{\\varepsilon} \\rangle = \\boldsymbol{E}$. Upon defining the macroscopic stress $\\boldsymbol{\\Sigma}$ as the microscopic stress average: $\\langle \\boldsymbol{\\sigma} \\rangle = \\boldsymbol{\\Sigma}$, there will be a linear relationship between the auxiliary problem loading parameters $\\boldsymbol{E}$ and the resulting average stress:\n",
    "\n",
    "$$\\boldsymbol{\\Sigma}  = \\mathbb{C}^\\text{hom}:\\boldsymbol{E}$$\n",
    "\n",
    "where $\\mathbb{C}^\\text{hom}$ represents the apparent elastic moduli of the homogenized medium. Hence, its components can be computed by solving elementary load cases corresponding to the different components of $\\boldsymbol{E}$ and performing a unit cell average of the resulting microscopic stress components.\n",
    "\n",
    "### Total displacement as the main unknown\n",
    "\n",
    "The previous problem can also be reformulated by using the total displacement $\\boldsymbol{u} = \\boldsymbol{E}\\cdot\\boldsymbol{y} + \\boldsymbol{v}$ as the main unknown with now $\\boldsymbol{\\varepsilon} = \\nabla^s \\boldsymbol{u}$. The periodicity condition is therefore equivalent to the following constraint:\n",
    "\n",
    "$$\\boldsymbol{u}(\\boldsymbol{y}^+)-\\boldsymbol{u}(\\boldsymbol{y}^-) = \\boldsymbol{E}\\cdot(\\boldsymbol{y}^+-\\boldsymbol{y}^-)$$\n",
    "\n",
    "where $\\boldsymbol{y}^{\\pm}$ are opposite points on the unit cell boundary related by the periodicity condition. This formulation is widely used in solid mechanics FE software as it does not require specific change of the problem formulation but just adding tying constraints between some degrees of freedom.\n",
    "\n",
    "This formulation is however not the easiest to deal with in `dolfinx_mpc`.\n",
    "\n",
    "### Periodic fluctuation as the main unknown\n",
    "\n",
    "Instead, we will keep the initial formulation and consider the periodic fluctuation $\\boldsymbol{v}$ as the main unknown. The periodicity constraint on $\\boldsymbol{v}$ will be imposed using the `create_periodic_constraint` functions of `dolfinx_mpc`. To do so, one must define the periodic map linking the different unit cell boundaries i.e. the right part is mapped onto the left part, the top part onto the bottom part.\n",
    "\n",
    "## Implementation\n",
    "\n",
    "### Mesh generation\n",
    "\n",
    "Here the unit cell is 2D and its boundary is represented by a parallelogram of vertices ``corners`` and the corresponding base vectors `a1` and `a2` are computed. The right part is then mapped onto the left part, the top part onto the bottom part and the top-right corner onto the bottom-left one."
   ]
  },
  {
   "cell_type": "code",
   "execution_count": null,
   "id": "2ecd1ff9",
   "metadata": {},
   "outputs": [],
   "source": [
    "import numpy as np\n",
    "from mpi4py import MPI\n",
    "import gmsh\n",
    "import ufl\n",
    "from dolfinx import fem, io\n",
    "import dolfinx.fem.petsc\n",
    "from dolfinx.io.gmshio import model_to_mesh\n",
    "import dolfinx_mpc.utils\n",
    "from dolfinx_mpc import LinearProblem\n",
    "\n",
    "Lx = 1.0\n",
    "Ly = np.sqrt(3) / 2.0 * Lx\n",
    "c = 0.5 * Lx\n",
    "R = 0.2 * Lx\n",
    "h = 0.02 * Lx\n",
    "\n",
    "corners = np.array([[0.0, 0.0], [Lx, 0.0], [Lx + c, Ly], [c, Ly]])\n",
    "a1 = corners[1, :] - corners[0, :]  # first vector generating periodicity\n",
    "a2 = corners[3, :] - corners[0, :]  # second vector generating periodicity"
   ]
  },
  {
   "cell_type": "markdown",
   "id": "bd2c9037",
   "metadata": {},
   "source": [
    "The geometry is then generated using `gmsh` Python API and the Open Cascade kernel. We tag the matrix with tag `1` and the inclusions with tag `2`. The bottom, right, top and left boundaries are respectively tagged `1, 2, 3, 4`."
   ]
  },
  {
   "cell_type": "code",
   "execution_count": null,
   "id": "5dabcb1e",
   "metadata": {
    "tags": [
     "hide-input",
     "hide-output"
    ]
   },
   "outputs": [],
   "source": [
    "gdim = 2  # domain geometry dimension\n",
    "fdim = 1  # facets dimension\n",
    "gmsh.initialize()\n",
    "\n",
    "occ = gmsh.model.occ\n",
    "mesh_comm = MPI.COMM_WORLD\n",
    "model_rank = 0\n",
    "if model_rank == 0:\n",
    "    points = [occ.add_point(*corner, 0) for corner in corners]\n",
    "    lines = [occ.add_line(points[i], points[(i + 1) % 4]) for i in range(4)]\n",
    "    loop = occ.add_curve_loop(lines)\n",
    "    unit_cell = occ.add_plane_surface([loop])\n",
    "    inclusions = [occ.add_disk(*corner, 0, R, R) for corner in corners]\n",
    "    vol_dimTag = (gdim, unit_cell)\n",
    "    out = occ.intersect(\n",
    "        [vol_dimTag], [(gdim, incl) for incl in inclusions], removeObject=False\n",
    "    )\n",
    "    incl_dimTags = out[0]\n",
    "    occ.synchronize()\n",
    "    occ.cut([vol_dimTag], incl_dimTags, removeTool=False)\n",
    "    occ.synchronize()\n",
    "\n",
    "    # tag physical domains and facets\n",
    "    gmsh.model.addPhysicalGroup(gdim, [vol_dimTag[1]], 1, name=\"Matrix\")\n",
    "    gmsh.model.addPhysicalGroup(\n",
    "        gdim,\n",
    "        [tag for _, tag in incl_dimTags],\n",
    "        2,\n",
    "        name=\"Inclusions\",\n",
    "    )\n",
    "    gmsh.model.addPhysicalGroup(fdim, [7, 20, 10], 1, name=\"bottom\")\n",
    "    gmsh.model.addPhysicalGroup(fdim, [9, 19, 16], 2, name=\"right\")\n",
    "    gmsh.model.addPhysicalGroup(fdim, [15, 18, 12], 3, name=\"top\")\n",
    "    gmsh.model.addPhysicalGroup(fdim, [11, 17, 5], 4, name=\"left\")\n",
    "    gmsh.option.setNumber(\"Mesh.CharacteristicLengthMin\", h)\n",
    "    gmsh.option.setNumber(\"Mesh.CharacteristicLengthMax\", h)\n",
    "\n",
    "    gmsh.model.mesh.generate(gdim)\n",
    "\n",
    "domain, cells, facets = model_to_mesh(gmsh.model, mesh_comm, model_rank, gdim=gdim)\n",
    "gmsh.finalize()"
   ]
  },
  {
   "cell_type": "markdown",
   "id": "7c580a4e",
   "metadata": {},
   "source": [
    "We compute the unit cell volume from the mesh for verification:"
   ]
  },
  {
   "cell_type": "code",
   "execution_count": null,
   "id": "b975b946",
   "metadata": {
    "lines_to_next_cell": 2
   },
   "outputs": [],
   "source": [
    "vol = fem.assemble_scalar(fem.form(1 * ufl.dx(domain=domain)))\n",
    "print(\"Volume:\", vol)"
   ]
  },
  {
   "cell_type": "markdown",
   "id": "14d38d16",
   "metadata": {
    "lines_to_next_cell": 2
   },
   "source": [
    "### Variational formulation with heterogeneous material properties\n",
    "\n",
    "In the [legacy demo](https://comet-fenics.readthedocs.io/en/latest/demo/periodic_homog_elas/periodic_homog_elas.html), the variational formulation made use of two different terms in the bilinear form using `dx(1)` and `dx(2)` cell measures representing the contribution of both phases to the global weak form. This approach is not necessarily well adapted to more complex types of heterogeneities such as the case with a large number of phases with different properties or phases with spatially-dependent properties. As an alternative, we thus consider a single constitutive law expression for all phases but with material properties (Young modulus and Poisson ratio) being represented as functions defined on the mesh. In this case, we use piecewise constant (`DG0`) functions with constant value on the matrix and on the inclusion phases. To easily set up such fields we define the function `create_piecewise_constant_field` to generate scalar `DG0` functions using a dictionary mapping phase labels to values, see [](/tips/piecewise_constant_field/piecewise_constant_field.md).  If needed, such a helper function could be generalized to vector or tensor-valued functions."
   ]
  },
  {
   "cell_type": "code",
   "execution_count": null,
   "id": "f2c5f8e7",
   "metadata": {},
   "outputs": [],
   "source": [
    "def create_piecewise_constant_field(domain, cell_markers, property_dict, name=None):\n",
    "    \"\"\"Create a piecewise constant field with different values per subdomain.\n",
    "\n",
    "    Parameters\n",
    "    ----------\n",
    "    domain : Mesh\n",
    "        `dolfinx` mesh object\n",
    "    cell_markers : MeshTag\n",
    "        cell marker MeshTag\n",
    "    property_dict : dict\n",
    "        A dictionary mapping region tags to physical values {tag: value}\n",
    "\n",
    "    Returns\n",
    "    -------\n",
    "    A DG-0 function\n",
    "    \"\"\"\n",
    "    V0 = fem.functionspace(domain, (\"DG\", 0))\n",
    "    k = fem.Function(V0, name=name)\n",
    "    for tag, value in property_dict.items():\n",
    "        cells = cell_markers.find(tag)\n",
    "        k.x.array[cells] = np.full_like(cells, value, dtype=np.float64)\n",
    "    return k\n",
    "\n",
    "\n",
    "E = create_piecewise_constant_field(\n",
    "    domain, cells, {1: 50e3, 2: 210e3}, name=\"YoungModulus\"\n",
    ")\n",
    "nu = create_piecewise_constant_field(\n",
    "    domain, cells, {1: 0.2, 2: 0.3}, name=\"PoissonRatio\"\n",
    ")\n",
    "\n",
    "lmbda = E * nu / (1 + nu) / (1 - 2 * nu)\n",
    "mu = E / 2 / (1 + nu)"
   ]
  },
  {
   "cell_type": "markdown",
   "id": "a47825e0",
   "metadata": {},
   "source": [
    "As discussed before, our main unknown is the periodic fluctuation $\\bv$. The loading will be imposed by the macroscopic strain $\\bE$ which we define as a `fem.Constant`. We will then be able to rebuild the total displacement $\\bu = \\bE\\cdot\\by + \\bv$ using the `ufl.SpatialCoordinate`. Below we define the variational form. Note that `ufl.inner(sigma(du), epsilon(u_)) * ufl.dx` contains both bilinear and linear terms, the latter being due to the presence of the macroscopic strain $\\bE$ acting as an external loading. We make use of `ufl.system` to split the form into a bilinear and linear form."
   ]
  },
  {
   "cell_type": "code",
   "execution_count": null,
   "id": "f23deb98",
   "metadata": {},
   "outputs": [],
   "source": [
    "Eps = fem.Constant(domain, np.zeros((2, 2)))\n",
    "Eps_ = fem.Constant(domain, np.zeros((2, 2)))\n",
    "y = ufl.SpatialCoordinate(domain)\n",
    "\n",
    "\n",
    "def epsilon(v):\n",
    "    return ufl.sym(ufl.grad(v))\n",
    "\n",
    "\n",
    "def sigma(v):\n",
    "    eps = Eps + epsilon(v)\n",
    "    return lmbda * ufl.tr(eps) * ufl.Identity(gdim) + 2 * mu * eps\n",
    "\n",
    "\n",
    "V = fem.functionspace(domain, (\"P\", 2, (gdim,)))\n",
    "du = ufl.TrialFunction(V)\n",
    "u_ = ufl.TestFunction(V)\n",
    "a_form, L_form = ufl.system(ufl.inner(sigma(du), epsilon(u_)) * ufl.dx)"
   ]
  },
  {
   "cell_type": "markdown",
   "id": "309d1695",
   "metadata": {},
   "source": [
    "### Periodic boundary conditions enforcement using `dolfinx_mpc`\n",
    "\n",
    "We must now define the periodic boundary conditions for the fluctuation field. For that, we make use of `dolfinx_mpc` providing a `MultiPointConstraint` object which can account for periodicity conditions. Note that periodic conditions do not fix rigid body translations. To remove them we choose here, for simplicity, to fix the displacement of the single point of coordinate `(0, 0)`. An alternative can consist of introducing constant Lagrange multipliers as discussed in the legacy demo. This solution requires however to use `Real` elements which require special care and are currently available in the `scifem` package https://github.com/scientificcomputing/scifem."
   ]
  },
  {
   "cell_type": "code",
   "execution_count": null,
   "id": "e8969dfa",
   "metadata": {
    "lines_to_next_cell": 2
   },
   "outputs": [],
   "source": [
    "point_dof = fem.locate_dofs_geometrical(\n",
    "    V, lambda x: np.isclose(x[0], 0.0) & np.isclose(x[1], 0)\n",
    ")\n",
    "bcs = [fem.dirichletbc(np.zeros((gdim,)), point_dof, V)]"
   ]
  },
  {
   "cell_type": "markdown",
   "id": "d7b250e9",
   "metadata": {
    "lines_to_next_cell": 2
   },
   "source": [
    "We first instantiate the `MultiPointConstraint` object `mpc` defined with respect to our function space `V`. The function `create_periodic_constraint_topological` enables to link dofs on corresponding surfaces. We must first define a mapping between points on corresponding surfaces. For instance, we apply the first condition to the right surface, tagged `2`. The `periodic_relation_left_right` transforms input coordinates on the right surface to points on the left surface as follows: $(x, y) \\mapsto (x-L_x, y)$. More generally, the mapping is $(x, y) \\mapsto (x-a_{1x}, y-a_{1y})$ for the first periodicity-generating base vector $\\ba_1$. We do the same for the top surface, tagged `3`, which is mapped to th\n",
    "e bottom one using the second periodicity-generating base vector $\\ba_2.$"
   ]
  },
  {
   "cell_type": "code",
   "execution_count": null,
   "id": "b9f14691",
   "metadata": {},
   "outputs": [],
   "source": [
    "def periodic_relation_left_right(x):\n",
    "    out_x = np.zeros(x.shape)\n",
    "    out_x[0] = x[0] - a1[0]\n",
    "    out_x[1] = x[1] - a1[1]\n",
    "    out_x[2] = x[2]\n",
    "    return out_x\n",
    "\n",
    "\n",
    "def periodic_relation_bottom_top(x):\n",
    "    out_x = np.zeros(x.shape)\n",
    "    out_x[0] = x[0] - a2[0]\n",
    "    out_x[1] = x[1] - a2[1]\n",
    "    out_x[2] = x[2]\n",
    "    return out_x\n",
    "\n",
    "\n",
    "mpc = dolfinx_mpc.MultiPointConstraint(V)\n",
    "mpc.create_periodic_constraint_topological(\n",
    "    V, facets, 2, periodic_relation_left_right, bcs\n",
    ")\n",
    "mpc.create_periodic_constraint_topological(\n",
    "    V, facets, 3, periodic_relation_bottom_top, bcs\n",
    ")\n",
    "mpc.finalize()"
   ]
  },
  {
   "cell_type": "markdown",
   "id": "6e23de4d",
   "metadata": {},
   "source": [
    "### Problem resolution\n",
    "\n",
    "We are now in position of defining the problem instance. Note that we must use here the `LinearProblem` provided by `dolfinx_mpc` and not that of `dolfinx.fem.petsc`. The former expands upon the latter by including the `MultiPointConstraint` object in its arguments. Note also that the solution function field $\\bv$, and the related total displacement $\\bu$, must be built from the reduced function space object provided by `mpc.function_space` and not `V` in order to properly account for the imposed kinematic constraint."
   ]
  },
  {
   "cell_type": "code",
   "execution_count": null,
   "id": "c041521e",
   "metadata": {},
   "outputs": [],
   "source": [
    "u = fem.Function(mpc.function_space, name=\"Displacement\")\n",
    "v = fem.Function(mpc.function_space, name=\"Periodic_fluctuation\")\n",
    "problem = LinearProblem(\n",
    "    a_form,\n",
    "    L_form,\n",
    "    mpc,\n",
    "    bcs=bcs,\n",
    "    u=v,\n",
    "    petsc_options={\"ksp_type\": \"preonly\", \"pc_type\": \"lu\"},\n",
    ")"
   ]
  },
  {
   "cell_type": "markdown",
   "id": "06d6f3bc",
   "metadata": {},
   "source": [
    "To solve the homogenization problem, we define a list of elementary load cases representing macroscopic uniaxial tension in both $x$ and $y$ directions and uniform macroscopic shear in the $xy$ direction. For each of such elementary load case, we update the value of the macroscopic strain constant $\\bE$ and solve the corresponding problem. The microscopic total displacement $\\bu(\\by)$ is then built from the periodic fluctuation. For each load case, we compute the different components of the macroscopic average stress $\\boldsymbol{\\Sigma}$. Since we considered unit load cases, the latter directly provide the components of the macroscopic effective stiffness tensor $\\mathbb{C}^\\text{hom}$."
   ]
  },
  {
   "cell_type": "code",
   "execution_count": null,
   "id": "1cc18ca1",
   "metadata": {
    "tags": [
     "hide-input"
    ]
   },
   "outputs": [],
   "source": [
    "import pyvista\n",
    "from dolfinx import plot\n",
    "\n",
    "pyvista.set_jupyter_backend(\"static\")\n",
    "\n",
    "\n",
    "def plot_warped(u, scale=1.0, plot_mesh=False, user_callback=None, title=None):\n",
    "    Vu = u.function_space\n",
    "    u_topology, u_cell_types, u_geometry = plot.vtk_mesh(Vu)\n",
    "    u_grid = pyvista.UnstructuredGrid(u_topology, u_cell_types, u_geometry)\n",
    "    u_3D = np.zeros((u_geometry.shape[0], 3))\n",
    "    u_3D[:, :2] = u.x.array.reshape(-1, 2)\n",
    "    u_grid.point_data[u.name] = u_3D\n",
    "    u_grid.set_active_vectors(u.name)\n",
    "    warped = u_grid.warp_by_vector(u.name, factor=scale)\n",
    "\n",
    "    plotter = pyvista.Plotter()\n",
    "    plotter.window_size = (800, 300)\n",
    "    plotter.add_mesh(warped)\n",
    "    if plot_mesh:\n",
    "        edges = warped.extract_all_edges()\n",
    "        plotter.add_mesh(edges, color=\"k\", line_width=1, opacity=0.5)\n",
    "    plotter.view_xy()\n",
    "    if title:\n",
    "        plotter.add_text(title, font_size=14)\n",
    "    plotter.show()"
   ]
  },
  {
   "cell_type": "code",
   "execution_count": null,
   "id": "10bcc915",
   "metadata": {},
   "outputs": [],
   "source": [
    "elementary_load = [\n",
    "    np.array([[1.0, 0.0], [0.0, 0.0]]),\n",
    "    np.array([[0.0, 0.0], [0.0, 1.0]]),\n",
    "    np.array([[0.0, 0.5], [0.5, 0.0]]),\n",
    "]\n",
    "load_labels = [\"Exx\", \"Eyy\", \"Exy\"]\n",
    "dim_load = len(elementary_load)\n",
    "\n",
    "C_hom = np.zeros((dim_load, dim_load))\n",
    "for nload in range(dim_load):\n",
    "    Eps.value = elementary_load[nload]\n",
    "    u.interpolate(\n",
    "        fem.Expression(\n",
    "            ufl.dot(Eps, y), mpc.function_space.element.interpolation_points()\n",
    "        )\n",
    "    )\n",
    "\n",
    "    problem.solve()\n",
    "    u.x.array[:] += v.x.array[:]\n",
    "\n",
    "    plot_warped(u, scale=0.5, plot_mesh=True, title=load_labels[nload])\n",
    "\n",
    "    for nload_ in range(dim_load):\n",
    "        Eps_.value = elementary_load[nload_]\n",
    "\n",
    "        C_hom[nload, nload_] = (\n",
    "            fem.assemble_scalar(fem.form(ufl.inner(sigma(v), Eps_) * ufl.dx)) / vol\n",
    "        )"
   ]
  },
  {
   "cell_type": "markdown",
   "id": "e8eb123d",
   "metadata": {},
   "source": [
    "### Effective stiffness"
   ]
  },
  {
   "cell_type": "code",
   "execution_count": null,
   "id": "e6ce01a4",
   "metadata": {},
   "outputs": [],
   "source": [
    "with np.printoptions(suppress=True, precision=0):\n",
    "    print(C_hom)"
   ]
  },
  {
   "cell_type": "markdown",
   "id": "72466ac2",
   "metadata": {},
   "source": [
    "It can first be verified that the obtained macroscopic stiffness is indeed symmetric and that the corresponding behavior is quasi-isotropic (up to the finite element discretization error). Indeed, if $\\lambda^{hom} = \\mathbb{C}_{xxyy}$ and $\\mu^{hom} = \\mathbb{C}_{xyxy}$ we have that $\\mathbb{C}_{xxxx}\\approx\\mathbb{C}_{yyyy}\\approx \\mathbb{C}_{xxyy}+2\\mathbb{C}_{xyxy} = \\lambda^{hom}+2\\mu^{hom}$."
   ]
  },
  {
   "cell_type": "code",
   "execution_count": null,
   "id": "8b36e9b8",
   "metadata": {},
   "outputs": [],
   "source": [
    "lmbda_hom = C_hom[0, 1]\n",
    "mu_hom = C_hom[2, 2]\n",
    "print(\"Isotropy check:\", C_hom[0, 0], lmbda_hom + 2 * mu_hom)"
   ]
  },
  {
   "cell_type": "markdown",
   "id": "5db573d1",
   "metadata": {},
   "source": [
    "```{note}\n",
    "The macroscopic stiffness is not exactly symmetric because we computed it from the average stress which is not strictly verifying local equilibrium on the unit cell due to the FE discretization. A truly symmetric version can be obtained from the computation of the bilinear form for a pair of solutions to the elementary load cases.\n",
    "```\n",
    "\n",
    "We then deduce that $E^{hom} = \\mu^{hom}\\dfrac{3\\lambda^{hom}+2\\mu^{hom}}{\\lambda^{hom}+\\mu^{hom}}$ and $\\nu^{hom} = \\dfrac{\\lambda^{hom}}{2(\\lambda^{hom}+\\mu^{hom})}$ that is:"
   ]
  },
  {
   "cell_type": "code",
   "execution_count": null,
   "id": "6a9adeb4",
   "metadata": {},
   "outputs": [],
   "source": [
    "E_hom = mu_hom * (3 * lmbda_hom + 2 * mu_hom) / (lmbda_hom + mu_hom)\n",
    "nu_hom = lmbda_hom / (lmbda_hom + mu_hom) / 2\n",
    "print(f\"Apparent Young modulus: {E_hom:.0f}\")\n",
    "print(f\"Apparent Poisson ratio: {nu_hom:.3f}\")"
   ]
  }
 ],
 "metadata": {
  "jupytext": {
   "formats": "md:myst,ipynb"
  },
  "kernelspec": {
   "display_name": "Python 3 (ipykernel)",
   "language": "python",
   "name": "python3"
  }
 },
 "nbformat": 4,
 "nbformat_minor": 5
}
