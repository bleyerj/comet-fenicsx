{
 "cells": [
  {
   "cell_type": "markdown",
   "id": "bc3428d2",
   "metadata": {},
   "source": [
    "# Elasto-plastic analysis of a 2D von Mises material {far}`star`{far}`star`{far}`star`\n",
    "\n",
    "```{admonition} Objectives\n",
    ":class: objectives\n",
    "\n",
    "This demo shows how to implement a 2D elasto-plastic problem. Since the elasto-plastic behavior is isotropic with von Mises plasticity and linear hardening, the elasto-plastic constitutive update will have a closed-form analytical solution. We also implement a custom Newton nonlinear solver interacting with the constitutive update.\n",
    "\n",
    "This demo works in parallel.\n",
    "$\\newcommand{\\bsig}{\\boldsymbol{\\sigma}}\n",
    "\\newcommand{\\beps}{\\boldsymbol{\\varepsilon}}\n",
    "\\newcommand{\\bI}{\\boldsymbol{I}}\n",
    "\\newcommand{\\CC}{\\mathbb{C}}\n",
    "\\newcommand{\\bepsp}{\\boldsymbol{\\varepsilon}^\\text{p}}\n",
    "\\newcommand{\\dev}{\\operatorname{dev}}\n",
    "\\newcommand{\\tr}{\\operatorname{tr}}\n",
    "\\newcommand{\\sigeq}{\\sigma_\\text{eq}}\n",
    "\\newcommand{\\bs}{\\boldsymbol{s}}$\n",
    "```\n",
    "\n",
    "```{admonition} Coauthors\n",
    ":class: coauthors\n",
    "\n",
    "This tour has been written with the help of:\n",
    "* Andrey Latyshev (University of Luxembourg, Sorbonne Université, andrey.latyshev@uni.lu)\n",
    "* Corrado Maurini (Sorbonne Université, corrado.maurini@sorbonne-universite.fr)\n",
    "```\n",
    "\n",
    "```{image} plastic_strain.gif\n",
    ":width: 600px\n",
    ":align: center\n",
    "```\n",
    "\n",
    "```{admonition} Download sources\n",
    ":class: download\n",
    "\n",
    "* {Download}`Python script<./plasticity.py>`\n",
    "* {Download}`Jupyter notebook<./plasticity.ipynb>`\n",
    "```\n",
    "\n",
    "## Problem position\n",
    "\n",
    "This example is concerned with the incremental analysis of an elasto-plastic von Mises material. The structure response is computed using an iterative predictor-corrector return mapping algorithm embedded in a Newton-Raphson global loop for restoring equilibrium. Due to the simple expression of the von Mises criterion, the return mapping procedure is completely analytical (with linear isotropic hardening).\n",
    "\n",
    "### Elastoplastic behavior\n",
    "\n",
    "The material is represented by an isotropic elasto-plastic von Mises yield condition of uniaxial strength $\\sigma_0$ and with isotropic hardening of modulus $H$. The elastic behavior is linear isotropic:\n",
    "```{math}\n",
    "\\bsig = \\lambda \\tr(\\beps-\\bepsp)\\bI + 2\\mu(\\beps-\\bepsp) = \\CC:(\\beps-\\bepsp)\n",
    "```\n",
    "\n",
    "The yield condition is given by:\n",
    "```{math}\n",
    "\n",
    " f(\\bsig) = \\sqrt{\\frac{3}{2}\\boldsymbol{s}:\\boldsymbol{s}} - \\sigma_0 -Hp \\leq 0\n",
    "```\n",
    "where $\\bs = \\dev(\\bsig)$ is the deviatoric stress and $p$ is the cumulated equivalent plastic strain which is such that $\\dot{p} = \\sqrt{\\frac{2}{3}}\\|\\dot{\\beps}^\\text{p}\\|$. We also introduce the von Mises equivalent stress:\n",
    "```{math}\n",
    "\\sigeq =  \\sqrt{\\frac{3}{2}\\boldsymbol{s}:\\boldsymbol{s}}\n",
    "```\n",
    "\n",
    "Plastic evolution is given by the associated flow rule:\n",
    "```{math}\n",
    "\\dot{\\beps}^\\text{p} = \\dot{\\lambda}\\dfrac{\\partial f}{\\partial \\bsig}\n",
    "```\n",
    "which gives in the present case:\n",
    "```{math}\n",
    ":label: flow-rule\n",
    "\\dot{\\beps}^\\text{p} = \\dot{p}\\dfrac{3}{2\\sigeq}\\bs\n",
    "```\n",
    "\n",
    "### Predictor-corrector algorithm for constitutive behavior integration\n",
    "\n",
    "The return mapping procedure consists in finding a new stress $\\bsig_{n+1}$ and internal variable $p_{n+1}$ state verifying the current plasticity condition from a previous stress $\\bsig_{n}$ and internal variable $p_n$ state and an increment of total deformation $\\Delta \\beps$. This step is quite classical in FEM plasticity for a von Mises criterion with isotropic hardening and follow notations from {cite:p}`bonnet2014finite`.\n",
    "\n",
    "In the case of plastic flow, the flow rule {eq}`flow-rule` is approximated at $t_{n+1}$ using a backward-Euler approximation:\n",
    "```{math}\n",
    ":label: flow-rule-incr\n",
    "\\Delta \\bepsp = \\Delta p \\dfrac{3}{2\\sigma_{\\text{eq},n+1}}\\bs_{n+1}\n",
    "```\n",
    "\n",
    "An elastic trial stress $\\bsig_{\\text{elas}} = \\bsig_{n} + \\CC:\\Delta \\beps$ is first computed. The plasticity criterion is then evaluated with the previous plastic strain $f_{\\text{elas}} = \\sigeq^{\\text{elas}} - \\sigma_0 - H p_n$ where $\\sigeq^{\\text{elas}}$ is the von Mises equivalent stress of the elastic trial stress.\n",
    "\n",
    "* If $f_{\\text{elas}} < 0$, no plasticity occurs during this time increment and $\\Delta p,\\Delta  \\boldsymbol{\\varepsilon}^p =0$ and $\\bsig_{n+1} = \\bsig_\\text{elas}$.\n",
    "\n",
    "* Otherwise, plasticity occurs and the increment of plastic strain $\\Delta p$ is such that:\n",
    "\n",
    "```{math}\n",
    ":label: plastic-ev-discr\n",
    "\\begin{align}\n",
    "\\bsig_{n+1} &= \\bsig_\\text{elas} - 2\\mu\\Delta \\bepsp\\\\\n",
    "\\Delta \\bepsp &= \\Delta p \\dfrac{3}{2\\sigma_{\\text{eq},n+1}}\\bs_{n+1}\\\\\n",
    "f(\\bsig_{n+1}) &= \\sigma_{\\text{eq},n+1} - \\sigma_0 - H p_n - H\\Delta p = 0\\\\\n",
    "\\end{align}\n",
    "```\n",
    "\n",
    "Taking the deviatoric part of the first equation and injecting in the second shows that:\n",
    "\n",
    "$$\n",
    "\\left(1+\\dfrac{3\\mu\\Delta p}{\\sigma_{\\text{eq},n+1}}\\right)\\bs_{n+1} = \\bs_\\text{elas}\n",
    "$$\n",
    "\n",
    "which results in:\n",
    "\n",
    "$$\n",
    "\\sigma_{\\text{eq},n+1} = \\sigeq^\\text{elas} - 3\\mu \\Delta p\n",
    "$$\n",
    "\n",
    "Replacing in the third equation of {eq}`plastic-ev-discr`, we deduce the value of the cumulated plastic strain increment:\n",
    "\n",
    "$$\n",
    "\\Delta p = \\dfrac{f_\\text{elas}}{3\\mu+H}\n",
    "$$\n",
    "\n",
    "and the plastic strain increment using the previous relations:\n",
    "\n",
    "$$\n",
    "\\Delta \\bepsp = \\Delta p \\dfrac{3}{2\\sigma_{\\text{eq},n+1}}\\bs_{n+1} = \\Delta p \\dfrac{3}{2\\sigeq^\\text{elas}}\\bs_\\text{elas}\n",
    "$$\n",
    "\n",
    "Hence, both elastic and plastic evolution can be accounted for by defining the plastic strain increment as follows:\n",
    "\n",
    "```{math}\n",
    ":label: Deltap-formula\n",
    "\\Delta p = \\dfrac{\\langle f_\\text{elas}\\rangle_+}{3\\mu+H}\n",
    "```\n",
    "\n",
    "where $\\langle \\star \\rangle_+$ denotes the positive part of $\\star$.\n",
    "\n",
    "## Implementation\n",
    "\n",
    "The considered problem is that of a plane strain hollow cylinder of internal (resp. external) radius $R_i$ (resp. $R_e$) under internal uniform pressure $q$.\n",
    "\n",
    "We start by importing the relevant modules and define some geometrical constants."
   ]
  },
  {
   "cell_type": "code",
   "execution_count": null,
   "id": "0219f5fe",
   "metadata": {},
   "outputs": [],
   "source": [
    "import numpy as np\n",
    "import matplotlib.pyplot as plt\n",
    "\n",
    "import gmsh\n",
    "from mpi4py import MPI\n",
    "import ufl\n",
    "import basix\n",
    "from dolfinx import mesh, fem, io\n",
    "import dolfinx.fem.petsc\n",
    "from petsc4py import PETSc\n",
    "\n",
    "hsize = 0.2\n",
    "\n",
    "Re = 1.3\n",
    "Ri = 1.0"
   ]
  },
  {
   "cell_type": "markdown",
   "id": "f3da3169",
   "metadata": {},
   "source": [
    "We then model a quarter of cylinder using `Gmsh` similarly to the [](/tours/linear_problems/axisymmetric_elasticity/axisymmetric_elasticity.md) demo."
   ]
  },
  {
   "cell_type": "code",
   "execution_count": null,
   "id": "5d74ba8d",
   "metadata": {
    "tags": [
     "hide-input"
    ]
   },
   "outputs": [],
   "source": [
    "gmsh.initialize()\n",
    "gdim = 2\n",
    "model_rank = 0\n",
    "if MPI.COMM_WORLD.rank == 0:\n",
    "    gmsh.option.setNumber(\"General.Terminal\", 0)  # to disable meshing info\n",
    "    gmsh.model.add(\"Model\")\n",
    "\n",
    "    geom = gmsh.model.geo\n",
    "    center = geom.add_point(0, 0, 0)\n",
    "    p1 = geom.add_point(Ri, 0, 0)\n",
    "    p2 = geom.add_point(Re, 0, 0)\n",
    "    p3 = geom.add_point(0, Re, 0)\n",
    "    p4 = geom.add_point(0, Ri, 0)\n",
    "\n",
    "    x_radius = geom.add_line(p1, p2)\n",
    "    outer_circ = geom.add_circle_arc(p2, center, p3)\n",
    "    y_radius = geom.add_line(p3, p4)\n",
    "    inner_circ = geom.add_circle_arc(p4, center, p1)\n",
    "\n",
    "    boundary = geom.add_curve_loop([x_radius, outer_circ, y_radius, inner_circ])\n",
    "    surf = geom.add_plane_surface([boundary])\n",
    "\n",
    "    geom.synchronize()\n",
    "\n",
    "    gmsh.option.setNumber(\"Mesh.CharacteristicLengthMin\", hsize)\n",
    "    gmsh.option.setNumber(\"Mesh.CharacteristicLengthMax\", hsize)\n",
    "\n",
    "    gmsh.model.addPhysicalGroup(gdim, [surf], 1)\n",
    "    gmsh.model.addPhysicalGroup(gdim - 1, [x_radius], 1, name=\"bottom\")\n",
    "    gmsh.model.addPhysicalGroup(gdim - 1, [y_radius], 2, name=\"left\")\n",
    "    gmsh.model.addPhysicalGroup(gdim - 1, [inner_circ], 3, name=\"inner\")\n",
    "\n",
    "    gmsh.model.mesh.generate(gdim)\n",
    "\n",
    "domain, _, facets = io.gmshio.model_to_mesh(\n",
    "    gmsh.model, MPI.COMM_WORLD, model_rank, gdim=gdim\n",
    ")\n",
    "gmsh.finalize()"
   ]
  },
  {
   "cell_type": "markdown",
   "id": "9214cb36",
   "metadata": {},
   "source": [
    "We now define some material parameters and the function space for the displacement field. We choose here a standard $\\mathbb{P}_2$ Lagrange space."
   ]
  },
  {
   "cell_type": "code",
   "execution_count": null,
   "id": "a7da57c6",
   "metadata": {},
   "outputs": [],
   "source": [
    "E = fem.Constant(domain, 70e3)  # in MPa\n",
    "nu = fem.Constant(domain, 0.3)\n",
    "lmbda = E * nu / (1 + nu) / (1 - 2 * nu)\n",
    "mu = E / 2.0 / (1 + nu)\n",
    "sig0 = fem.Constant(domain, 250.0)  # yield strength in MPa\n",
    "Et = E / 100.0  # tangent modulus\n",
    "H = E * Et / (E - Et)  # hardening modulus\n",
    "\n",
    "\n",
    "deg_u = 2\n",
    "shape = (gdim,)\n",
    "V = fem.functionspace(domain, (\"P\", deg_u, shape))"
   ]
  },
  {
   "cell_type": "markdown",
   "id": "f20fcdfa",
   "metadata": {},
   "source": [
    "```{attention}\n",
    "Elasto-plastic computations might result in volumetric locking issues induced by incompressible plastic deformations. In this demo, we do not attempt to solve this issue and use quadratic triangles which in 2D are sufficient to mitigate the locking phenomenon.\n",
    "```\n",
    "\n",
    "Boundary conditions correspond to symmetry conditions on the bottom and left parts (resp. numbered 1 and 2). Loading consists of a uniform pressure on the internal boundary (numbered 3). It will be progressively increased from 0 to a value slightly larger than $q_\\text{lim}=\\dfrac{2}{\\sqrt{3}}\\sigma_0\\log\\left(\\dfrac{R_e}{R_i}\\right)$ which is the analytical collapse load for a perfectly-plastic material (no hardening)."
   ]
  },
  {
   "cell_type": "code",
   "execution_count": null,
   "id": "3e94303c",
   "metadata": {},
   "outputs": [],
   "source": [
    "Vx, _ = V.sub(0).collapse()\n",
    "Vy, _ = V.sub(1).collapse()\n",
    "bottom_dofsy = fem.locate_dofs_topological((V.sub(1), Vy), gdim - 1, facets.find(1))\n",
    "top_dofsx = fem.locate_dofs_topological((V.sub(0), Vx), gdim - 1, facets.find(2))\n",
    "\n",
    "\n",
    "# used for post-processing\n",
    "def bottom_inside(x):\n",
    "    return np.logical_and(np.isclose(x[0], Ri), np.isclose(x[1], 0))\n",
    "\n",
    "\n",
    "bottom_inside_dof = fem.locate_dofs_geometrical((V.sub(0), Vx), bottom_inside)[0]\n",
    "\n",
    "u0x = fem.Function(Vx)\n",
    "u0y = fem.Function(Vy)\n",
    "bcs = [\n",
    "    fem.dirichletbc(u0x, top_dofsx, V.sub(0)),\n",
    "    fem.dirichletbc(u0y, bottom_dofsy, V.sub(1)),\n",
    "]\n",
    "\n",
    "n = ufl.FacetNormal(domain)\n",
    "q_lim = float(2 / np.sqrt(3) * np.log(Re / Ri) * sig0)\n",
    "\n",
    "loading = fem.Constant(domain, 0.0)"
   ]
  },
  {
   "cell_type": "markdown",
   "id": "e4ed449c",
   "metadata": {},
   "source": [
    "### Internal state variables and `Quadrature` elements\n",
    "\n",
    "When dealing with nonlinear constitutive models, internal state variables such as plastic strains represent the history seen by the material and have to be stored in some way. We choose here to represent them using `Quadrature` elements. This choice will make it possible to express the complex non-linear material constitutive equation at the Gauss points only, without involving any interpolation of non-linear expressions throughout the element. It will ensure an optimal convergence rate for the Newton-Raphson method, see chap. 26 of {cite:p}`logg2012fenicsbook`. We will need `Quadrature` elements for 4-dimensional vectors and scalars, the number of Gauss points will be determined by the required degree `deg_quad` of the `Quadrature` element, see the [](/tips/quadrature_schemes/quadrature_schemes.md) tour for more details on the choice of quadrature rules.\n",
    "\n",
    "```{note}\n",
    "We point out that, although the problem is 2D, plastic strain still occur in the transverse $zz$ direction. This will require us to keep track of the out-of-plane $zz$ components of stress/strain states.\n",
    "```"
   ]
  },
  {
   "cell_type": "code",
   "execution_count": null,
   "id": "c45914de",
   "metadata": {},
   "outputs": [],
   "source": [
    "deg_quad = 2  # quadrature degree for internal state variable representation\n",
    "W0e = basix.ufl.quadrature_element(\n",
    "    domain.basix_cell(), value_shape=(), scheme=\"default\", degree=deg_quad\n",
    ")\n",
    "We = basix.ufl.quadrature_element(\n",
    "    domain.basix_cell(), value_shape=(4,), scheme=\"default\", degree=deg_quad\n",
    ")\n",
    "W = fem.functionspace(domain, We)\n",
    "W0 = fem.functionspace(domain, W0e)"
   ]
  },
  {
   "cell_type": "markdown",
   "id": "c13711b5",
   "metadata": {},
   "source": [
    "Various functions are defined to keep track of the current internal state and currently computed increments."
   ]
  },
  {
   "cell_type": "code",
   "execution_count": null,
   "id": "a564141a",
   "metadata": {
    "lines_to_next_cell": 2
   },
   "outputs": [],
   "source": [
    "sig = fem.Function(W)\n",
    "sig_old = fem.Function(W)\n",
    "n_elas = fem.Function(W)\n",
    "beta = fem.Function(W0)\n",
    "p = fem.Function(W0, name=\"Cumulative_plastic_strain\")\n",
    "dp = fem.Function(W0)\n",
    "u = fem.Function(V, name=\"Total_displacement\")\n",
    "du = fem.Function(V, name=\"Iteration_correction\")\n",
    "Du = fem.Function(V, name=\"Current_increment\")\n",
    "v = ufl.TrialFunction(V)\n",
    "u_ = ufl.TestFunction(V)\n",
    "\n",
    "P0 = fem.functionspace(domain, (\"DG\", 0))\n",
    "p_avg = fem.Function(P0, name=\"Plastic_strain\")"
   ]
  },
  {
   "cell_type": "markdown",
   "id": "eabb1a7d",
   "metadata": {
    "lines_to_next_cell": 2
   },
   "source": [
    "Before writing the variational form, we now define some useful functions which will enable performing the constitutive relation update using the return mapping procedure described earlier. First, the strain tensor will be represented in a 3D fashion by appending zeros on the out-of-plane components since, even if the problem is 2D, the plastic constitutive relation will involve out-of-plane plastic strains. The elastic constitutive relation is also defined and a function `as_3D_tensor` will enable to represent a 4 dimensional vector containing respectively $xx, yy, zz$ and $xy$ components as a 3D tensor:"
   ]
  },
  {
   "cell_type": "code",
   "execution_count": null,
   "id": "f9577982",
   "metadata": {},
   "outputs": [],
   "source": [
    "def eps(v):\n",
    "    e = ufl.sym(ufl.grad(v))\n",
    "    return ufl.as_tensor([[e[0, 0], e[0, 1], 0], [e[0, 1], e[1, 1], 0], [0, 0, 0]])\n",
    "\n",
    "\n",
    "def elastic_behavior(eps_el):\n",
    "    return lmbda * ufl.tr(eps_el) * ufl.Identity(3) + 2 * mu * eps_el\n",
    "\n",
    "\n",
    "def as_3D_tensor(X):\n",
    "    return ufl.as_tensor([[X[0], X[3], 0], [X[3], X[1], 0], [0, 0, X[2]]])\n",
    "\n",
    "\n",
    "def to_vect(X):\n",
    "    return ufl.as_vector([X[0, 0], X[1, 1], X[2, 2], X[0, 1]])"
   ]
  },
  {
   "cell_type": "markdown",
   "id": "652abda2",
   "metadata": {},
   "source": [
    "The return mapping procedure is implemented in the `constitutive_update` function which takes as an argument a total strain increment Δε, the previous stress state `old_sig` and the previous plastic strain `old_p`. For computing the plastic strain increment, we use formula {eq}`Deltap-formula` where `ppos` implements the positive part function.\n",
    "\n",
    "Plastic evolution also requires the computation of the normal vector to the final yield surface given by $\\boldsymbol{n}_{\\text{elas}} = \\boldsymbol{s}_\\text{elas}/\\sigeq^{\\text{elas}}$. In the following, this vector must be zero in case of elastic evolution. Hence, we multiply it by $\\dfrac{\\langle f_{\\text{elas}}\\rangle_+}{ f_{\\text{elas}}}$ to tackle both cases in a single expression. The final stress state is corrected by the plastic strain as follows $\\bsig_{n+1} = \\bsig_{\\text{elas}} - \\beta \\boldsymbol{s}_\\text{elas}$ with $\\beta = \\dfrac{3\\mu}{\\sigeq^{\\text{elas}}}\\Delta p$. It can be observed that the last term vanishes in case of elastic evolution so that the final stress is indeed the elastic predictor."
   ]
  },
  {
   "cell_type": "code",
   "execution_count": null,
   "id": "57ac677d",
   "metadata": {
    "lines_to_next_cell": 2
   },
   "outputs": [],
   "source": [
    "ppos = lambda x: ufl.max_value(x, 0)\n",
    "\n",
    "\n",
    "def constitutive_update(Δε, old_sig, old_p):\n",
    "    sig_n = as_3D_tensor(old_sig)\n",
    "    sig_elas = sig_n + elastic_behavior(Δε)\n",
    "    s = ufl.dev(sig_elas)\n",
    "    sig_eq = ufl.sqrt(3 / 2.0 * ufl.inner(s, s))\n",
    "    f_elas = sig_eq - sig0 - H * old_p\n",
    "    dp = ppos(f_elas) / (3 * mu + H)\n",
    "    n_elas = s / sig_eq * ppos(f_elas) / f_elas\n",
    "    beta = 3 * mu * dp / sig_eq\n",
    "    new_sig = sig_elas - beta * s\n",
    "    return to_vect(new_sig), to_vect(n_elas), beta, dp"
   ]
  },
  {
   "cell_type": "markdown",
   "id": "f56ad6cb",
   "metadata": {
    "lines_to_next_cell": 2
   },
   "source": [
    "In order to use a Newton-Raphson procedure to resolve global equilibrium, we also need to derive the algorithmic consistent tangent matrix given by:\n",
    "```{math}\n",
    "\\CC_{\\text{tang}}^{\\text{alg}} = \\CC - 3\\mu\\left(\\dfrac{3\\mu}{3\\mu+H}-\\beta\\right)  \\boldsymbol{n}_{\\text{elas}} \\otimes \\boldsymbol{n}_{\\text{elas}} - 2\\mu\\beta\\mathbb{Dev}\n",
    "```\n",
    "\n",
    "where $\\mathbb{Dev}$ is the 4th-order tensor associated with the deviatoric operator (note that $\\CC_{\\text{tang}}^{\\text{alg}}=\\CC$ for elastic evolution). Contrary to what is done in {cite:p}`logg2012fenicsbook`, we do not store it as the components of a 4th-order tensor but it will suffice keeping track of the normal vector and the $\\beta$ parameter related to the plastic strains. We instead define the function `sigma_tang` computing the tangent stress $\\bsig_\\text{tang} = \\CC_{\\text{tang}}^{\\text{alg}}: \\boldsymbol{\\varepsilon}$ as follows:"
   ]
  },
  {
   "cell_type": "code",
   "execution_count": null,
   "id": "8a8fc563",
   "metadata": {},
   "outputs": [],
   "source": [
    "def sigma_tang(eps):\n",
    "    N_elas = as_3D_tensor(n_elas)\n",
    "    return (\n",
    "        elastic_behavior(eps)\n",
    "        - 3 * mu * (3 * mu / (3 * mu + H) - beta) * ufl.inner(N_elas, eps) * N_elas\n",
    "        - 2 * mu * beta * ufl.dev(eps)\n",
    "    )"
   ]
  },
  {
   "cell_type": "markdown",
   "id": "01b2e145",
   "metadata": {},
   "source": [
    "```{attention}\n",
    "In this simple case, the stress expression from `constitutive_update` is explicit and can be represented using pure `ufl` expressions. Hence, we could use this nonlinear expression in the nonlinear residual and use automatic differentiation to compute directly the corresponding tangent form. Here, we voluntarily do differently, as a pedagogical way towards more complex constitutive models for which the stress expression is no longer explicit. In these cases, the stress and tangent stiffness have to be formally represented as quadrature points and the `constitutive_update` provides the corresponding values at quadrature points.\n",
    "```\n",
    "\n",
    "### Global problem and custom Newton-Raphson procedure\n",
    "\n",
    "We now are in position to define the nonlinear residual variational form and the corresponding tangent bilinear form to be used in a global Newton-Raphson scheme. Each iteration will require establishing equilibrium by driving to zero the residual between the internal forces associated with the current stress state `sig` and the external force vector. Because we use `Quadrature` elements a custom integration measure `dx` must be defined to match the quadrature degree and scheme used by the Quadrature elements."
   ]
  },
  {
   "cell_type": "code",
   "execution_count": null,
   "id": "bbf35586",
   "metadata": {},
   "outputs": [],
   "source": [
    "ds = ufl.Measure(\"ds\", domain=domain, subdomain_data=facets)\n",
    "dx = ufl.Measure(\n",
    "    \"dx\",\n",
    "    domain=domain,\n",
    "    metadata={\"quadrature_degree\": deg_quad, \"quadrature_scheme\": \"default\"},\n",
    ")\n",
    "Residual = ufl.inner(eps(u_), as_3D_tensor(sig)) * dx - ufl.inner(\n",
    "    -loading * n, u_\n",
    ") * ds(3)\n",
    "tangent_form = ufl.inner(eps(v), sigma_tang(eps(u_))) * dx"
   ]
  },
  {
   "cell_type": "markdown",
   "id": "2384132e",
   "metadata": {},
   "source": [
    "During the Newton-Raphson iterations, we will have to interpolate some `ufl` expressions at quadrature points to update the corresponding functions. We define the `interpolate_quadrature` function to do so. We first get the quadrature points location in the reference element and then use the `fem.Expression.eval` to evaluate the expression on all cells."
   ]
  },
  {
   "cell_type": "code",
   "execution_count": null,
   "id": "e10de9fc",
   "metadata": {
    "lines_to_next_cell": 2
   },
   "outputs": [],
   "source": [
    "basix_celltype = getattr(basix.CellType, domain.topology.cell_type.name)\n",
    "quadrature_points, weights = basix.make_quadrature(basix_celltype, deg_quad)\n",
    "\n",
    "map_c = domain.topology.index_map(domain.topology.dim)\n",
    "num_cells = map_c.size_local + map_c.num_ghosts\n",
    "cells = np.arange(0, num_cells, dtype=np.int32)\n",
    "\n",
    "\n",
    "def interpolate_quadrature(ufl_expr, function):\n",
    "    expr_expr = fem.Expression(ufl_expr, quadrature_points)\n",
    "    expr_eval = expr_expr.eval(domain, cells)\n",
    "    function.x.array[:] = expr_eval.flatten()[:]"
   ]
  },
  {
   "cell_type": "markdown",
   "id": "fac3dbff",
   "metadata": {
    "lines_to_next_cell": 2
   },
   "source": [
    "We now define the global Newton-Raphson loop. At each iteration, we need to solve a linear system of the form:\n",
    "\n",
    "$$\n",
    "\\mathbf{A}_\\text{tang}\\mathbf{du} = -\\mathbf{R}\n",
    "$$\n",
    "\n",
    "where $\\mathbf{R}$ is the current value of the nonlinear residual, $\\mathbf{du}$ the iteration correction to the unknown field $\\mathbf{u}$ and $\\mathbf{A}_\\text{tang}$ the tangent operator of the nonlinear residual. To simplify the implementation, we rely on the `fem.petsc.LinearProblem` utility class to define and solve linear problems. In the following, we need to explicitly separate the steps where we assemble the linear system right-hand side from when we assemble the matrix left-hand side and solve the linear system. We therefore define a new class inheriting from `LinearProblem` and splitting these different steps.\n",
    "\n",
    "```{warning}\n",
    "We will use the `CustomLinearProblem` class within a custom implementation of the Newton method. During the course of the Newton iterations, we need to account for possible non-zero Dirichlet boundary conditions (although all Dirichlet boundary conditions are zero in the present case). We use the implementation provided in [the FEniCSx Tutorial - Newton’s method with DirichletBC](https://jsdokken.com/dolfinx-tutorial/chapter4/newton-solver.html#newtons-method-with-dirichletbc) for lifting the right-hand side of the Newton system with non-zero Dirichlet boundary conditions.\n",
    "```"
   ]
  },
  {
   "cell_type": "code",
   "execution_count": null,
   "id": "017e022e",
   "metadata": {},
   "outputs": [],
   "source": [
    "class CustomLinearProblem(fem.petsc.LinearProblem):\n",
    "    def assemble_rhs(self, u=None):\n",
    "        \"\"\"Assemble right-hand side and lift Dirichlet bcs.\n",
    "\n",
    "        Parameters\n",
    "        ----------\n",
    "        u : dolfinx.fem.Function, optional\n",
    "            For non-zero Dirichlet bcs u_D, use this function to assemble rhs with the value u_D - u_{bc}\n",
    "            where u_{bc} is the value of the given u at the corresponding. Typically used for custom Newton methods\n",
    "            with non-zero Dirichlet bcs.\n",
    "        \"\"\"\n",
    "\n",
    "        # Assemble rhs\n",
    "        with self._b.localForm() as b_loc:\n",
    "            b_loc.set(0)\n",
    "        fem.petsc.assemble_vector(self._b, self._L)\n",
    "\n",
    "        # Apply boundary conditions to the rhs\n",
    "        x0 = [] if u is None else [u.vector]\n",
    "        fem.petsc.apply_lifting(self._b, [self._a], bcs=[self.bcs], x0=x0, scale=1.0)\n",
    "        self._b.ghostUpdate(addv=PETSc.InsertMode.ADD, mode=PETSc.ScatterMode.REVERSE)\n",
    "        x0 = None if u is None else u.vector\n",
    "        fem.petsc.set_bc(self._b, self.bcs, x0, scale=1.0)\n",
    "\n",
    "    def assemble_lhs(self):\n",
    "        self._A.zeroEntries()\n",
    "        fem.petsc.assemble_matrix_mat(self._A, self._a, bcs=self.bcs)\n",
    "        self._A.assemble()\n",
    "\n",
    "    def solve_system(self):\n",
    "        # Solve linear system and update ghost values in the solution\n",
    "        self._solver.solve(self._b, self._x)\n",
    "        self.u.x.scatter_forward()\n",
    "\n",
    "\n",
    "tangent_problem = CustomLinearProblem(\n",
    "    tangent_form,\n",
    "    -Residual,\n",
    "    u=du,\n",
    "    bcs=bcs,\n",
    "    petsc_options={\n",
    "        \"ksp_type\": \"preonly\",\n",
    "        \"pc_type\": \"lu\",\n",
    "        \"pc_factor_mat_solver_type\": \"mumps\",\n",
    "    },\n",
    ")"
   ]
  },
  {
   "cell_type": "markdown",
   "id": "ffba0d52",
   "metadata": {},
   "source": [
    "We discretize the applied loading using `Nincr` increments from $0$ up to a value slightly larger than $1$ (we exclude $0$ from the list of load steps). A nonlinear discretization is adopted to refine the load steps during the plastic evolution phase. At each time increment, the system is assembled and the residual norm is computed. The incremental displacement `Du` is initialized to zero and the inner iteration loop performing the constitutive update is initiated. Inside this loop, corrections `du` to the displacement increment `Du` are computed by solving the Newton system and the return mapping update is performed using the current total strain increment `deps`. The resulting quantities are then interpolated onto their appropriate `Quadrature` function space. The Newton system and residuals are reassembled and this procedure continues until the residual norm falls below a given tolerance. After convergence of the iteration loop, the total displacement, stress and plastic strain states are updated for the next time step."
   ]
  },
  {
   "cell_type": "code",
   "execution_count": null,
   "id": "21b0d7cf",
   "metadata": {},
   "outputs": [],
   "source": [
    "Nitermax, tol = 200, 1e-6  # parameters of the Newton-Raphson procedure\n",
    "Nincr = 20\n",
    "load_steps = np.linspace(0, 1.1, Nincr + 1)[1:] ** 0.5\n",
    "results = np.zeros((Nincr + 1, 3))\n",
    "\n",
    "# we set all functions to zero before entering the loop in case we would like to reexecute this code cell\n",
    "sig.vector.set(0.0)\n",
    "sig_old.vector.set(0.0)\n",
    "p.vector.set(0.0)\n",
    "u.vector.set(0.0)\n",
    "n_elas.vector.set(0.0)\n",
    "beta.vector.set(0.0)\n",
    "\n",
    "Δε = eps(Du)\n",
    "sig_, n_elas_, beta_, dp_ = constitutive_update(Δε, sig_old, p)\n",
    "\n",
    "\n",
    "for i, t in enumerate(load_steps):\n",
    "    loading.value = t * q_lim\n",
    "\n",
    "    # compute the residual norm at the beginning of the load step\n",
    "    tangent_problem.assemble_rhs()\n",
    "    nRes0 = tangent_problem._b.norm()\n",
    "    nRes = nRes0\n",
    "    Du.x.array[:] = 0\n",
    "\n",
    "    niter = 0\n",
    "    while nRes / nRes0 > tol and niter < Nitermax:\n",
    "        # solve for the displacement correction\n",
    "        tangent_problem.assemble_lhs()\n",
    "        tangent_problem.solve_system()\n",
    "\n",
    "        # update the displacement increment with the current correction\n",
    "        Du.vector.axpy(1, du.vector)  # Du = Du + 1*du\n",
    "        Du.x.scatter_forward()\n",
    "\n",
    "        # interpolate the new stresses and internal state variables\n",
    "        interpolate_quadrature(sig_, sig)\n",
    "        interpolate_quadrature(n_elas_, n_elas)\n",
    "        interpolate_quadrature(beta_, beta)\n",
    "\n",
    "        # compute the new residual\n",
    "        tangent_problem.assemble_rhs()\n",
    "        nRes = tangent_problem._b.norm()\n",
    "\n",
    "        niter += 1\n",
    "\n",
    "    # Update the displacement with the converged increment\n",
    "    u.vector.axpy(1, Du.vector)  # u = u + 1*Du\n",
    "    u.x.scatter_forward()\n",
    "\n",
    "    # Update the previous plastic strain\n",
    "    interpolate_quadrature(dp_, dp)\n",
    "    p.vector.axpy(1, dp.vector)\n",
    "\n",
    "    # Update the previous stress\n",
    "    sig_old.x.array[:] = sig.x.array[:]\n",
    "\n",
    "    if len(bottom_inside_dof) > 0:  # test if proc has dof\n",
    "        results[i + 1, :] = (u.x.array[bottom_inside_dof[0]], t, niter)"
   ]
  },
  {
   "cell_type": "markdown",
   "id": "32006174",
   "metadata": {},
   "source": [
    "We plot the evolution e of the cylinder displacement on the inner boundary with the applied loading. We can check that we recover the correct analytical limit load when considering no hardening."
   ]
  },
  {
   "cell_type": "code",
   "execution_count": null,
   "id": "5105ff71",
   "metadata": {},
   "outputs": [],
   "source": [
    "if len(bottom_inside_dof) > 0:  # test if proc has dof\n",
    "    plt.plot(results[:, 0], results[:, 1], \"-oC3\")\n",
    "    plt.xlabel(\"Displacement of inner boundary\")\n",
    "    plt.ylabel(r\"Applied pressure $q/q_{lim}$\")\n",
    "    plt.show()"
   ]
  },
  {
   "cell_type": "markdown",
   "id": "05be1d7c",
   "metadata": {},
   "source": [
    "Finally, we also report the evolution of the number of Newton iterations as a function of the loading increments:"
   ]
  },
  {
   "cell_type": "code",
   "execution_count": null,
   "id": "b90ca8c1",
   "metadata": {},
   "outputs": [],
   "source": [
    "if len(bottom_inside_dof) > 0:\n",
    "    plt.bar(np.arange(Nincr + 1), results[:, 2], color=\"C2\")\n",
    "    plt.xlabel(\"Loading step\")\n",
    "    plt.ylabel(\"Number of iterations\")\n",
    "    plt.xlim(0)\n",
    "    plt.show()"
   ]
  },
  {
   "cell_type": "markdown",
   "id": "22b158f2",
   "metadata": {},
   "source": [
    "## References\n",
    "\n",
    "```{bibliography}\n",
    ":filter: docname in docnames\n",
    "```"
   ]
  }
 ],
 "metadata": {
  "jupytext": {
   "formats": "md:myst,ipynb"
  },
  "kernelspec": {
   "display_name": "Python 3.8.10 64-bit",
   "language": "python",
   "name": "python3"
  },
  "language_info": {
   "name": "python3",
   "pygments_lexer": "ipython3"
  }
 },
 "nbformat": 4,
 "nbformat_minor": 5
}
