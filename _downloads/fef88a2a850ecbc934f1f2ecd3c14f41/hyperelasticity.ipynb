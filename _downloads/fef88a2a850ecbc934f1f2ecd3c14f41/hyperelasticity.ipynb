{
 "cells": [
  {
   "cell_type": "markdown",
   "id": "8704e339",
   "metadata": {},
   "source": [
    "# Hyperelasticity\n",
    "\n",
    "```{admonition} Objectives\n",
    ":class: objectives\n",
    "\n",
    "In this tour, we will build upon the previous one on linear elasticity to formulate a non-linear problem arising from finite-strain elasticity. The symbolic differentiation capabilities of UFL prove to be very useful in such examples.\n",
    "$\\newcommand{\\bsig}{\\boldsymbol{\\sigma}}\n",
    "\\newcommand{\\beps}{\\boldsymbol{\\varepsilon}}\n",
    "\\newcommand{\\bu}{\\boldsymbol{u}}\n",
    "\\newcommand{\\bv}{\\boldsymbol{v}}\n",
    "\\newcommand{\\bT}{\\boldsymbol{T}}\n",
    "\\newcommand{\\bC}{\\boldsymbol{C}}\n",
    "\\newcommand{\\bF}{\\boldsymbol{F}}\n",
    "\\newcommand{\\bI}{\\boldsymbol{I}}\n",
    "\\newcommand{\\bP}{\\boldsymbol{P}}\n",
    "\\newcommand{\\dOm}{\\,\\text{d}\\Omega}\n",
    "\\newcommand{\\dS}{\\,\\text{d}S}\n",
    "\\newcommand{\\T}{{}^\\text{T}}\n",
    "\\newcommand{\\tr}{\\operatorname{tr}}\n",
    "\\newcommand{\\Neumann}{{\\partial \\Omega_\\text{N}}}\n",
    "\\newcommand{\\Dirichlet}{{\\partial \\Omega_\\text{D}}}\n",
    "\\newcommand{\\argmin}{\\operatorname*{arg\\,min}}$\n",
    "```\n",
    "\n",
    "```{image} hyperelasticity.gif\n",
    ":width: 600px\n",
    ":align: center\n",
    "```\n",
    "\n",
    "```{admonition} Download sources\n",
    ":class: download\n",
    "\n",
    "* {Download}`Python script<./hyperelasticity.py>`\n",
    "* {Download}`Jupyter notebook<./hyperelasticity.ipynb>`\n",
    "```\n",
    "\n",
    "## Variational formulation\n",
    "\n",
    "There exist different ways of writing a variational formulation in a finite-strain setting depending on the chosen geometric configuration and strain measures. Here, we will use a total Lagrangian formulation and therefore naturally write equilibrium on the reference configuration which we still denote $\\Omega$.\n",
    "\n",
    "Weak equilibrium reads here:\n",
    "> Find $\\bu \\in V$ such that:\n",
    "> \\begin{equation*}\n",
    "\\int_\\Omega \\bP(\\bu):\\nabla \\bv \\dOm = \\int_\\Omega \\boldsymbol{f}\\cdot\\bv \\dOm + \\int_\\Neumann \\bT\\cdot\\bv \\dS \\quad \\forall \\bv \\in V_0\n",
    "\\end{equation*}\n",
    "\n",
    "where $\\bP(\\bu)$ denotes the first Piola-Kirchhoff (PK1) stress.\n",
    "\n",
    "Moreover, in the case of a hyperelastic material, the constitutive relation derives from a free-energy potential $\\psi(\\bF)$ depending on the deformation gradient $\\bF = \\bI + \\nabla \\bu$. The above non-linear variational equation corresponds in fact to the first-order optimality condition of the following minimum principle:\n",
    "> \\begin{equation*}\n",
    "\\min_{\\bu\\in V} \\int_\\Omega \\psi(\\bF) \\dOm - \\int_\\Omega \\boldsymbol{f}\\cdot\\bu \\dOm - \\int_\\Neumann \\bT\\cdot\\bu \\dS\n",
    "\\end{equation*}\n",
    "\n",
    "which we will use in the subsequent implementation.\n",
    "\n",
    "## Problem position\n",
    "\n",
    "We consider a cylinder of square cross-section which is fixed at its bottom face and to which we impose a rigid rotation of the top face of angle $\\theta$ around the vertical axis. We start first with a simple compressible neo-Hookean model given by:\n",
    "\n",
    "```{math}\n",
    ":label: psi-neo-Hookean\n",
    "\n",
    "\\psi(\\bF) = \\dfrac{\\mu}{2}\\left(I_1-3-2\\ln J\\right) + \\dfrac{\\lambda}{2}(J-1)^2\n",
    "```\n",
    "\n",
    "where $I_1 = \\tr(\\bC) = \\tr(\\bF\\T\\bF)$ and $J = \\det\\bF$.\n",
    "\n",
    "## Implementation\n",
    "\n",
    "We load the relevant modules and useful functions and setup the corresponding box mesh. In the following, we will use hexahedra of degree 1."
   ]
  },
  {
   "cell_type": "code",
   "execution_count": null,
   "id": "8632e790",
   "metadata": {},
   "outputs": [],
   "source": [
    "import numpy as np\n",
    "import ufl\n",
    "\n",
    "from mpi4py import MPI\n",
    "from dolfinx import fem, io, nls\n",
    "import dolfinx.fem.petsc\n",
    "import dolfinx.nls.petsc\n",
    "from dolfinx.mesh import create_box, CellType\n",
    "from ufl import (\n",
    "    as_matrix,\n",
    "    dot,\n",
    "    cos,\n",
    "    sin,\n",
    "    SpatialCoordinate,\n",
    "    Identity,\n",
    "    grad,\n",
    "    ln,\n",
    "    tr,\n",
    "    det,\n",
    "    variable,\n",
    "    derivative,\n",
    "    TestFunction,\n",
    "    TrialFunction,\n",
    ")\n",
    "\n",
    "L = 3.0\n",
    "N = 4\n",
    "mesh = create_box(\n",
    "    MPI.COMM_WORLD,\n",
    "    [[-0.5, -0.5, 0.0], [0.5, 0.5, L]],\n",
    "    [N, N, 4 * N],\n",
    "    CellType.hexahedron,\n",
    ")\n",
    "\n",
    "dim = mesh.topology.dim\n",
    "print(f\"Mesh topology dimension d={dim}.\")\n",
    "\n",
    "degree = 1\n",
    "shape = (dim,)\n",
    "V = fem.functionspace(mesh, (\"P\", degree, shape))\n",
    "\n",
    "u = fem.Function(V, name=\"Displacement\")"
   ]
  },
  {
   "cell_type": "markdown",
   "id": "5fa88385",
   "metadata": {},
   "source": [
    "Next, we define the corresponding hyperelastic potential using UFL operators. We can easily obtain the UFL expression for the PK1 stress by differentiating the potential $\\psi$ {eq}`psi-neo-Hookean` with respect to the deformation gradient $\\bF$. We therefore declare it as a variable using `ufl.variable` and then compute $\\bP = \\dfrac{\\partial \\psi}{\\partial \\bF}$ using `ufl.diff`."
   ]
  },
  {
   "cell_type": "code",
   "execution_count": null,
   "id": "2ce2a3c4",
   "metadata": {
    "lines_to_next_cell": 2
   },
   "outputs": [],
   "source": [
    "# Identity tensor\n",
    "Id = Identity(dim)\n",
    "\n",
    "# Deformation gradient\n",
    "F = variable(Id + grad(u))\n",
    "\n",
    "# Right Cauchy-Green tensor\n",
    "C = F.T * F\n",
    "\n",
    "# Invariants of deformation tensors\n",
    "I1 = tr(C)\n",
    "J = det(F)\n",
    "\n",
    "# Shear modulus\n",
    "E = 1e4\n",
    "nu = 0.4\n",
    "mu = fem.Constant(mesh, E / 2 / (1 + nu))\n",
    "lmbda = fem.Constant(mesh, E * nu / (1 - 2 * nu) / (1 + nu))\n",
    "\n",
    "# Stored strain energy density (compressible neo-Hookean model)\n",
    "psi = mu / 2 * (I1 - 3 - 2 * ln(J)) + lmbda / 2 * (J - 1) ** 2\n",
    "\n",
    "# PK1 stress = d_psi/d_F\n",
    "P = ufl.diff(psi, F)\n",
    "print(P)"
   ]
  },
  {
   "cell_type": "markdown",
   "id": "dd8acfd3",
   "metadata": {
    "lines_to_next_cell": 2
   },
   "source": [
    "Now, we set up the boundary conditions by first identifying the top and bottom dofs. We use Functions to provide the imposed displacement on both faces. For now, such functions are zero."
   ]
  },
  {
   "cell_type": "code",
   "execution_count": null,
   "id": "bd8f9532",
   "metadata": {},
   "outputs": [],
   "source": [
    "def bottom(x):\n",
    "    return np.isclose(x[2], 0.0)\n",
    "\n",
    "\n",
    "def top(x):\n",
    "    return np.isclose(x[2], L)\n",
    "\n",
    "\n",
    "bottom_dofs = fem.locate_dofs_geometrical(V, bottom)\n",
    "top_dofs = fem.locate_dofs_geometrical(V, top)\n",
    "\n",
    "u_bot = fem.Function(V)\n",
    "u_top = fem.Function(V)\n",
    "\n",
    "bcs = [fem.dirichletbc(u_bot, bottom_dofs), fem.dirichletbc(u_top, top_dofs)]"
   ]
  },
  {
   "cell_type": "markdown",
   "id": "4475910b",
   "metadata": {},
   "source": [
    "We will later update the value of the `u_top` function based on a UFL expression corresponding to the imposed rigid body rotation. This expression depends on a scalar value $\\theta$ represented as a `Constant` object. The use of a `fem.Expression` results in JIT compilation of the code corresponding to the evaluation of this expression at specific points in the reference elements (here the interpolation points of $V$ i.e. the hexahedron vertices)."
   ]
  },
  {
   "cell_type": "code",
   "execution_count": null,
   "id": "c76e28be",
   "metadata": {},
   "outputs": [],
   "source": [
    "x = SpatialCoordinate(mesh)\n",
    "theta = fem.Constant(mesh, 0.0)\n",
    "Rot = as_matrix([[cos(theta), sin(theta), 0], [-sin(theta), cos(theta), 0], [0, 0, 1]])\n",
    "rotation_displ = dot(Rot, x) - x\n",
    "rot_expr = fem.Expression(rotation_displ, V.element.interpolation_points())"
   ]
  },
  {
   "cell_type": "markdown",
   "id": "a3cbd4ad",
   "metadata": {},
   "source": [
    "Now, we define the global non-linear potential energy. Note that since we have non-linear expressions, we specify to the measure `dx` the desired level of accuracy of the quadrature method. Otherwise, FEniCS may use overly conservative estimates of the required number of quadrature points.\n",
    "\n",
    "Next, we compute the corresponding non-linear residual using the `ufl.derivative` function which computes the directional derivative in the direction of the TestFunction `v`.\n",
    "We also apply it to the residual itself to compute the corresponding consistent tangent bilinear form, usually called the Jacobian in the context of a Newton method. The latter is computed in the direction of the TrialFunction `du`."
   ]
  },
  {
   "cell_type": "code",
   "execution_count": null,
   "id": "d5851ad9",
   "metadata": {},
   "outputs": [],
   "source": [
    "dx = ufl.Measure(\"dx\", domain=mesh, metadata={\"quadrature_degree\": 4})\n",
    "E_pot = psi * dx\n",
    "\n",
    "v = TestFunction(V)\n",
    "du = TrialFunction(V)\n",
    "Residual = derivative(\n",
    "    E_pot, u, v\n",
    ")  # This is equivalent to Residual = inner(P, grad(v))*dx\n",
    "Jacobian = derivative(Residual, u, du)"
   ]
  },
  {
   "cell_type": "markdown",
   "id": "34e8fe3b",
   "metadata": {},
   "source": [
    "Finally, we set up a `NonlinearProblem` instance based on the corresponding residual and jacobian, unknown function and boundary conditions. The latter will also be attached to a nonlinear solver implementing a Newton method."
   ]
  },
  {
   "cell_type": "code",
   "execution_count": null,
   "id": "192b5d3a",
   "metadata": {},
   "outputs": [],
   "source": [
    "problem = fem.petsc.NonlinearProblem(Residual, u, bcs)\n",
    "\n",
    "solver = nls.petsc.NewtonSolver(mesh.comm, problem)\n",
    "# Set Newton solver options\n",
    "solver.atol = 1e-4\n",
    "solver.rtol = 1e-4\n",
    "solver.convergence_criterion = \"incremental\""
   ]
  },
  {
   "cell_type": "markdown",
   "id": "00c0b1c6",
   "metadata": {},
   "source": [
    "We are now in position to write the load-stepping loop which simply updates the value of $\\theta$. Since, `rot_expr` is symbolically linked to `theta`, this new value is automatically accounted for when interpolating the imposed top displacement from `rot_expr`."
   ]
  },
  {
   "cell_type": "code",
   "execution_count": null,
   "id": "152b532c",
   "metadata": {},
   "outputs": [],
   "source": [
    "angle_max = 2 * np.pi\n",
    "Nsteps = 15\n",
    "\n",
    "out_file = \"hyperelasticity.xdmf\"\n",
    "with io.XDMFFile(mesh.comm, out_file, \"w\") as xdmf:\n",
    "    xdmf.write_mesh(mesh)\n",
    "\n",
    "u.vector.set(0.0)\n",
    "for n, angle in enumerate(np.linspace(0, angle_max, Nsteps + 1)[1:]):\n",
    "    theta.value = angle\n",
    "    u_top.interpolate(rot_expr)\n",
    "\n",
    "    num_its, converged = solver.solve(u)\n",
    "    assert converged\n",
    "\n",
    "    u.x.scatter_forward()  # updates ghost values for parallel computations\n",
    "\n",
    "    print(\n",
    "        f\"Time step {n}, Number of iterations {num_its}, Angle {angle*180/np.pi:.0f} deg.\"\n",
    "    )\n",
    "\n",
    "    with io.XDMFFile(mesh.comm, out_file, \"a\") as xdmf:\n",
    "        xdmf.write_function(u, n + 1)"
   ]
  },
  {
   "cell_type": "markdown",
   "id": "7b748a0f",
   "metadata": {},
   "source": [
    "## Exercise\n",
    "\n",
    "Change the hyperelasticity model to another version of a compressible neo-Hookean model:\n",
    "\\begin{equation*}\n",
    "\\psi(\\bF) = \\dfrac{\\mu}{2}(\\overline{I}_1-3) + \\left(\\dfrac{\\mu}{12}+\\dfrac{\\lambda}{8}\\right)\\left(J^2 + J^{-2}-2 \\right)\n",
    "\\end{equation*}\n",
    "where $\\overline{I}_1 = \\tr(\\overline{\\bC})$ with $\\overline{\\bC} = J^{-2/3}\\bC$."
   ]
  }
 ],
 "metadata": {
  "jupytext": {
   "formats": "md:myst,ipynb"
  },
  "kernelspec": {
   "display_name": "Python 3 (ipykernel)",
   "language": "python",
   "name": "python3"
  },
  "language_info": {
   "name": "python3",
   "pygments_lexer": "ipython3"
  }
 },
 "nbformat": 4,
 "nbformat_minor": 5
}
