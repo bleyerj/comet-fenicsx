{
 "cells": [
  {
   "cell_type": "markdown",
   "id": "07088596",
   "metadata": {},
   "source": [
    "# Importing a `.msh` file\n",
    "\n",
    "```{admonition} Objectives\n",
    ":class: objectives\n",
    "\n",
    "We show here how to import a `\".msh\"` mesh file generated with `Gmsh` externally and define the corresponding volume and surface integration measures.\n",
    "```\n",
    "\n",
    "```{admonition} Download sources\n",
    ":class: download\n",
    "\n",
    "* {Download}`Python script<./import_msh.py>`\n",
    "* {Download}`Jupyter notebook<./import_msh.ipynb>`\n",
    "```\n",
    "\n",
    "The geometry is a square plate of size $L$ with a circular hole of radius $R$. In the `Gmsh` file {Download}`plate_hole.msh<./plate_hole.msh>`, the square domain boundary has been tagged `10` and the hole inner boundary as been tagged `20`. We check that the corresponding area and perimeters match the expected values."
   ]
  },
  {
   "cell_type": "code",
   "execution_count": 1,
   "id": "c80921fe",
   "metadata": {
    "execution": {
     "iopub.execute_input": "2024-01-08T12:50:23.372911Z",
     "iopub.status.busy": "2024-01-08T12:50:23.372706Z",
     "iopub.status.idle": "2024-01-08T12:50:25.495795Z",
     "shell.execute_reply": "2024-01-08T12:50:25.494500Z"
    }
   },
   "outputs": [
    {
     "name": "stdout",
     "output_type": "stream",
     "text": [
      "Info    : Reading 'plate_hole.msh'...\n",
      "Info    : 19 entities\n",
      "Info    : 152 nodes\n",
      "Info    : 304 elements\n",
      "Info    : Done reading 'plate_hole.msh'\n",
      "Expected area = 87.434   Computed area = 87.754\n",
      "Expected length = 40.000   Computed length = 40.000\n",
      "Expected length = 12.566   Computed length = 12.486\n"
     ]
    }
   ],
   "source": [
    "import numpy as np\n",
    "from mpi4py import MPI\n",
    "from dolfinx import io, fem\n",
    "import ufl\n",
    "\n",
    "L, R = 10, 2\n",
    "domain, markers, facets = io.gmshio.read_from_msh(\"plate_hole.msh\", MPI.COMM_WORLD)\n",
    "\n",
    "dx = ufl.Measure(\"dx\", domain=domain, subdomain_data=markers)\n",
    "ds = ufl.Measure(\"ds\", domain=domain, subdomain_data=facets)\n",
    "\n",
    "area = fem.assemble_scalar(fem.form(1.0 * dx))\n",
    "print(f\"Expected area = {L**2-np.pi*R**2:.3f}   Computed area = {area:.3f}\")\n",
    "\n",
    "\n",
    "length_1 = fem.assemble_scalar(fem.form(1.0 * ds(10)))\n",
    "print(f\"Expected length = {4*L:.3f}   Computed length = {length_1:.3f}\")\n",
    "length_2 = fem.assemble_scalar(fem.form(1.0 * ds(20)))\n",
    "print(f\"Expected length = {2*np.pi*R:.3f}   Computed length = {length_2:.3f}\")"
   ]
  },
  {
   "cell_type": "code",
   "execution_count": null,
   "id": "056cfff6",
   "metadata": {
    "tags": [
     "hide-input"
    ]
   },
   "outputs": [],
   "source": [
    "import pyvista\n",
    "from dolfinx import plot\n",
    "\n",
    "pyvista.set_jupyter_backend(\"static\")\n",
    "\n",
    "topology, cell_types, geometry = plot.vtk_mesh(domain, 2)\n",
    "grid = pyvista.UnstructuredGrid(topology, cell_types, geometry)\n",
    "\n",
    "# Create plotter and pyvista grid\n",
    "p = pyvista.Plotter()\n",
    "p.add_mesh(grid, show_edges=True)\n",
    "p.view_xy()\n",
    "p.show_axes()\n",
    "p.show()"
   ]
  }
 ],
 "metadata": {
  "jupytext": {
   "formats": "md:myst,ipynb"
  },
  "kernelspec": {
   "display_name": "Python 3",
   "language": "python",
   "name": "python3"
  },
  "language_info": {
   "codemirror_mode": {
    "name": "ipython",
    "version": 3
   },
   "file_extension": ".py",
   "mimetype": "text/x-python",
   "name": "python",
   "nbconvert_exporter": "python",
   "pygments_lexer": "ipython3",
   "version": "3.10.12"
  }
 },
 "nbformat": 4,
 "nbformat_minor": 5
}
