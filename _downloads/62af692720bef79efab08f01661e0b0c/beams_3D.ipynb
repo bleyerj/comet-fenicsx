{
 "cells": [
  {
   "cell_type": "markdown",
   "id": "94bebf44",
   "metadata": {},
   "source": [
    "# Elastic 3D beam structures {far}`star`\n",
    "\n",
    "\n",
    "```{admonition} Objectives\n",
    ":class: objectives\n",
    "\n",
    "This tour explores the formulation of 3D beam-like elastic structures. One particularity of this tour is that the mesh topology is 1D (beams) but is embedded in a 3D ambient space. We will also show how to define a local frame containing the beam axis direction and two perpendicular directions for the definition of the cross-section geometrical properties.\n",
    "```\n",
    "\n",
    "```{seealso}\n",
    "This tour bears similarities with the [](/tours/beams/linear_truss/linear_truss.md) and [](/tours/shells/linear_shell/linear_shell.md) tours.\n",
    "```\n",
    "```{admonition} Download sources\n",
    ":class: download\n",
    "\n",
    "* {Download}`Python script<./beams_3D.py>`\n",
    "* {Download}`Jupyter notebook<./beams_3D.ipynb>`\n",
    "```\n",
    "\n",
    "## Beam kinematics\n",
    "\n",
    "The variational formulation for 3D beams requires to distinguish between motion along the beam direction and along both perpendicular directions. These two directions often correspond to principal directions of inertia and distinguish between strong and weak bending directions. The user must therefore specify this local orientation frame throughout the whole structure. In this example, we will first compute the vector $\\boldsymbol{t}$ tangent to the beam direction, and two perpendicular directions $\\boldsymbol{a}_1$ and $\\boldsymbol{a}_2$. $\\boldsymbol{a}_1$ will always be perpendicular to $t$ and the vertical direction, while $\\boldsymbol{a}_2$ will be such that $(\\boldsymbol{t}, \\boldsymbol{a}_1, \\boldsymbol{a}_2)$ is a direct orthonormal frame.\n",
    "\n",
    "Classical Euler-Bernoulli beam theory would typically require $C^1$-continuous interpolation of the displacement field, using Hermite polynomials for instance. Such discretization scheme is unfortunately not available natively in `dolfinx`. Instead, we will consider a Timoshenko beam model with St-Venant uniform torsion theory for the torsional part. The beam kinematics will then be described by a 3D displacement field $\\boldsymbol{u}$ and an independent 3D rotation field $\\boldsymbol{\\theta}$, that is 6 degrees of freedom at each point. $(u_t,u_1,u_2)$ will respectively denote the displacement components in the section local frame $(\\boldsymbol{t}, \\boldsymbol{a}_1, \\boldsymbol{a}_2)$. Similarly, $\\theta_1$ and $\\theta_2$ will denote the section rotations about the two section axis whereas $\\theta_t$ is the twist angle.\n",
    "\n",
    "The beam strains are given by (straight beam with constant local frame):\n",
    "\n",
    "* the **normal strain**: $\\delta = \\dfrac{d u_t}{ds}$\n",
    "* the **bending curvatures**: $\\chi_1 = \\dfrac{d\\theta_1}{ds}$ and $\\chi_2 = \\dfrac{d\\theta_2}{ds}$\n",
    "* the **shear strains**: $\\gamma_1 = \\dfrac{du_1}{ds}-\\theta_2$ and\n",
    "    $\\gamma_2 = \\dfrac{du_2}{ds}+\\theta_1$. \n",
    "* the **torsional strain**: $\\omega = \\dfrac{d\\theta_t}{ds}$. \n",
    "\n",
    "where $\\dfrac{dv}{ds} = \\nabla v \\cdot t$ is the tangential gradient. Associated with these generalized strains are the corresponding generalized stresses:\n",
    "\n",
    "* the **normal force** $N$\n",
    "* the **bending moments** $M_1$ and $M_2$\n",
    "* the **shear forces** $Q_1$ and $Q_2$\n",
    "* the **torsional moment** $M_T$\n",
    "\n",
    "## Constitutive equations\n",
    "\n",
    "The beam constitutive equations (assuming no normal force/bending moment coupling and that $a_1$ and $a_2$ are the principle axis of inertia) read as:\n",
    "\n",
    "$$\\begin{Bmatrix}\n",
    "N \\\\ Q_1 \\\\ Q_2 \\\\ M_T \\\\ M_1 \\\\ M_2 \n",
    "\\end{Bmatrix} = \\begin{bmatrix}\n",
    "ES & 0 & 0 & 0 & 0 & 0\\\\\n",
    "0 & GS_1 & 0 & 0 & 0 & 0\\\\\n",
    "0 & 0 & GS_2 & 0 & 0 & 0\\\\\n",
    "0 & 0 & 0 & GJ & 0 & 0\\\\\n",
    "0 & 0 & 0 & 0 & EI_1 & 0\\\\\n",
    "0 & 0 & 0 & 0 & 0 & EI_2\n",
    "\\end{bmatrix}\\begin{Bmatrix}\n",
    "\\delta \\\\ \\gamma_1 \\\\ \\gamma_2 \\\\ \\omega \\\\ \\chi_1 \\\\ \\chi_2 \n",
    "\\end{Bmatrix}$$\n",
    "\n",
    "where $S$ is the cross-section area, $E$ the material Young modulus and $G$ the shear modulus, $I_1=\\int_S x_2^2 dS$ (resp. $I_2=\\int_S x_1^2 dS$) are the bending second moment of inertia about axis $a_1$ (resp. $a_2$), $J$ is the torsion inertia, $S_1$ (resp. $S_2$) is the shear area in direction $a_1$ (resp. $a_2$).\n",
    "\n",
    "## Variational formulation\n",
    "\n",
    "The 3D beam variational formulation finally reads as: Find $(\\boldsymbol{u},\\boldsymbol{\\theta})\\in V$ such that:\n",
    "\n",
    "$$\\int_S (N\\widehat{\\delta}+Q_1\\widehat{\\gamma}_1+Q_2\\widehat{\\gamma}_2+M_T\\widehat{\\omega}+M_1\\widehat{\\chi}_1+M_2\\widehat{\\chi}_2)dS = \\int \\boldsymbol{f}\\cdot\\widehat{\\boldsymbol{u}}dS \\quad \\forall (\\widehat{\\boldsymbol{u}},\\widehat{\\boldsymbol{\\theta}})\\in V$$\n",
    "\n",
    "where we considered only a distributed loading $\\boldsymbol{f}$ and where $\\widehat{\\delta},\\ldots,\\widehat{\\chi}_2$ are the generalized strains associated with test functions $(\\widehat{\\boldsymbol{u}},\\widehat{\\boldsymbol{\\theta}})$.\n",
    "\n",
    "## Implementation\n",
    "\n",
    "We start by loading the relevant modules."
   ]
  },
  {
   "cell_type": "code",
   "execution_count": null,
   "id": "3fd1b654",
   "metadata": {},
   "outputs": [],
   "source": [
    "import numpy as np\n",
    "import gmsh\n",
    "import ufl\n",
    "import basix\n",
    "from mpi4py import MPI\n",
    "from dolfinx import mesh, fem, io\n",
    "import dolfinx.fem.petsc"
   ]
  },
  {
   "cell_type": "markdown",
   "id": "2d2eba07",
   "metadata": {},
   "source": [
    "We generate the mesh (`domain`) using the `Gmsh` Python API."
   ]
  },
  {
   "cell_type": "code",
   "execution_count": null,
   "id": "78084f44",
   "metadata": {
    "tags": [
     "hide-input",
     "hide-output"
    ]
   },
   "outputs": [],
   "source": [
    "# Initialize gmsh\n",
    "gmsh.initialize()\n",
    "\n",
    "# Parameters\n",
    "N = 20\n",
    "h = 10\n",
    "a = 20\n",
    "M = 20\n",
    "d = 1\n",
    "\n",
    "# Creating points and lines\n",
    "p0 = gmsh.model.occ.addPoint(a, 0, 0, d)\n",
    "lines = []\n",
    "\n",
    "for i in range(1, N + 1):\n",
    "    p1 = gmsh.model.occ.addPoint(\n",
    "        a * np.cos(0.99*i / N * np.pi / 2.0),\n",
    "        0,\n",
    "        h * np.sin(i / N * np.pi / 2.0),\n",
    "        d,\n",
    "    )\n",
    "    ll = gmsh.model.occ.addLine(p0, p1)\n",
    "    lines.append(ll)\n",
    "    p0 = p1\n",
    "in_lines = [(1, line) for line in lines]\n",
    "# Extruding lines\n",
    "for j in range(1, M + 1):\n",
    "    out = gmsh.model.occ.revolve(\n",
    "        in_lines,\n",
    "        0,\n",
    "        0,\n",
    "        0,\n",
    "        0,\n",
    "        0,\n",
    "        1,\n",
    "        angle=2 * np.pi / M,\n",
    "    )\n",
    "    in_lines = out[::4]\n",
    "\n",
    "# Coherence (remove duplicate entities and ensure topological consistency)\n",
    "# gmsh.model.occ.dilate(entities, 0.0, 0.0, 0.0, 1, 0.1, 1)\n",
    "# gmsh.model.occ.synchronize()\n",
    "# Save the mesh\n",
    "gmsh.model.occ.remove_all_duplicates()\n",
    "gmsh.model.occ.synchronize()\n",
    "lines = gmsh.model.get_entities(1)\n",
    "\n",
    "gmsh.model.add_physical_group(1, [l[1] for l in lines], 1)\n",
    "gmsh.model.mesh.generate(dim=1)\n",
    "\n",
    "domain, _, _ = io.gmshio.model_to_mesh(gmsh.model, MPI.COMM_WORLD, 0)\n",
    "domain.geometry.x[:, 1] *= 2/3.\n",
    "\n",
    "# Finalize gmsh\n",
    "gmsh.finalize()"
   ]
  },
  {
   "cell_type": "markdown",
   "id": "8c57a313",
   "metadata": {},
   "source": [
    "We can check that the mesh is embedded in a 3D geometrical space while being of 1D topology."
   ]
  },
  {
   "cell_type": "code",
   "execution_count": null,
   "id": "378c9689",
   "metadata": {},
   "outputs": [],
   "source": [
    "gdim = domain.geometry.dim\n",
    "tdim = domain.topology.dim\n",
    "\n",
    "print(f\"Geometrical dimension = {gdim}\")\n",
    "print(f\"Topological dimension = {tdim}\")"
   ]
  },
  {
   "cell_type": "markdown",
   "id": "5eb98d4b",
   "metadata": {},
   "source": [
    "We use the `ufl.Jacobian` function to compute the transformation Jacobian between a reference element (interval here) and the current element. In our case, the Jacobian is of shape (3,1). Transforming it into a vector of unit length will give us the local tangent vector $\\boldsymbol{t}$."
   ]
  },
  {
   "cell_type": "code",
   "execution_count": null,
   "id": "dded42ae",
   "metadata": {},
   "outputs": [],
   "source": [
    "dx_dX = ufl.Jacobian(domain)[:, 0]\n",
    "t = dx_dX / ufl.sqrt(ufl.inner(dx_dX, dx_dX))"
   ]
  },
  {
   "cell_type": "markdown",
   "id": "dc0ec1bf",
   "metadata": {},
   "source": [
    "We now compute the section local axis. As mentioned earlier, $\\boldsymbol{a}_1$ will be perpendicular to $\\boldsymbol{t}$ and the vertical direction $\\boldsymbol{e}_z=(0,0,1)$. After normalization, $\\boldsymbol{a}_2$ is built by taking the cross product between $\\boldsymbol{t}$ and $\\boldsymbol{a}_1$, $\\boldsymbol{a}_2$ will therefore belong to the plane made by $\\boldsymbol{t}$ and the vertical direction."
   ]
  },
  {
   "cell_type": "code",
   "execution_count": null,
   "id": "d7458f80",
   "metadata": {},
   "outputs": [],
   "source": [
    "ez = ufl.as_vector([0, 0, 1])\n",
    "a1 = ufl.cross(t, ez)\n",
    "a1 /= ufl.sqrt(ufl.dot(a1, a1))\n",
    "a2 = ufl.cross(t, a1)\n",
    "a2 /= ufl.sqrt(ufl.dot(a2, a2))"
   ]
  },
  {
   "cell_type": "markdown",
   "id": "3b3cc29b",
   "metadata": {},
   "source": [
    "We now define the material and geometrical constants which will be used in the constitutive relation. We consider the case of a rectangular cross-section of width $b$ and height $h$ in directions $\\boldsymbol{a}_1$ and $\\boldsymbol{a}_2$. The bending inertia will therefore be $I_1 = bh^3/12$ and $I_2=hb^3/12$. The torsional inertia is $J=\\beta hb^3$ with $\\beta\\approx 0.26$ for $h=3b$. Finally, the shear areas are approximated by $S_1=S_2=\\kappa S$ with $\\kappa=5/6$."
   ]
  },
  {
   "cell_type": "code",
   "execution_count": null,
   "id": "dc367329",
   "metadata": {},
   "outputs": [],
   "source": [
    "thick = fem.Constant(domain, 0.3)\n",
    "width = thick/3\n",
    "E = fem.Constant(domain, 70e3)\n",
    "nu = fem.Constant(domain, 0.3)\n",
    "G = E/2/(1+nu)\n",
    "rho = fem.Constant(domain, 2.7e-3)\n",
    "g = fem.Constant(domain, 9.81)\n",
    "\n",
    "S = thick*width\n",
    "ES = E*S\n",
    "EI1 = E*width*thick**3/12\n",
    "EI2 = E*width**3*thick/12\n",
    "GJ = G*0.26*thick*width**3\n",
    "kappa = fem.Constant(domain, 5./6.)\n",
    "GS1 = kappa*G*S\n",
    "GS2 = kappa*G*S"
   ]
  },
  {
   "cell_type": "markdown",
   "id": "ccdf1090",
   "metadata": {},
   "source": [
    "We now consider a mixed $\\mathbb{P}_1/\\mathbb{P}_1$-Lagrange interpolation for the displacement and rotation fields. The variational form is built using a function `generalized_strains` giving the vector of six generalized strains as well as a function `generalized_stresses` which computes the dot product of the strains with the above-mentioned constitutive matrix (diagonal here). Note that since the 1D beams are embedded in an ambient 3D space, the gradient operator has shape (3,), we therefore define a tangential gradient operator `tgrad` by taking the dot product with the local tangent vector $t$.\n",
    "\n",
    "Finally, similarly to Reissner-Mindlin plates, shear-locking issues might arise in the thin beam limit. To avoid this, reduced integration is performed on the shear part $Q_1\\widehat{\\gamma}_1+Q_2\\widehat{\\gamma}_2$ of the variational form using a one-point rule."
   ]
  },
  {
   "cell_type": "code",
   "execution_count": null,
   "id": "cfd51190",
   "metadata": {},
   "outputs": [],
   "source": [
    "Ue = basix.ufl.element(\"P\", domain.basix_cell(), 1, shape=(gdim,))\n",
    "W = fem.functionspace(domain, basix.ufl.mixed_element([Ue, Ue]))\n",
    "\n",
    "\n",
    "u_, theta_ = ufl.TestFunctions(W)\n",
    "du, dtheta = ufl.TrialFunctions(W)\n",
    "\n",
    "def tgrad(u):\n",
    "    return ufl.dot(ufl.grad(u), t)\n",
    "def generalized_strains(u, theta):\n",
    "    return ufl.as_vector([ufl.dot(tgrad(u), t),\n",
    "                      ufl.dot(tgrad(u), a1)-ufl.dot(theta, a2),\n",
    "                      ufl.dot(tgrad(u), a2)+ufl.dot(theta, a1),\n",
    "                      ufl.dot(tgrad(theta), t),\n",
    "                      ufl.dot(tgrad(theta), a1),\n",
    "                      ufl.dot(tgrad(theta), a2)])\n",
    "def generalized_stresses(u, theta):\n",
    "    return ufl.dot(ufl.diag(ufl.as_vector([ES, GS1, GS2, GJ, EI1, EI2])), generalized_strains(u, theta))\n",
    "\n",
    "Sig = generalized_stresses(du, dtheta)\n",
    "Eps_ =  generalized_strains(u_, theta_)\n",
    "\n",
    "dx_shear = ufl.dx(scheme=\"default\",metadata={\"quadrature_scheme\":\"default\", \"quadrature_degree\": 0})\n",
    "k_form = sum([Sig[i]*Eps_[i]*ufl.dx for i in [0, 3, 4, 5]]) + (Sig[1]*Eps_[1]+Sig[2]*Eps_[2])*dx_shear\n",
    "l_form = -rho*S*g*u_[2]*ufl.dx"
   ]
  },
  {
   "cell_type": "markdown",
   "id": "cebeb83b",
   "metadata": {},
   "source": [
    "Clamped boundary conditions are considered at the bottom $z=0$ level and the linear problem is finally solved."
   ]
  },
  {
   "cell_type": "code",
   "execution_count": null,
   "id": "d13b2bad",
   "metadata": {},
   "outputs": [],
   "source": [
    "def bottom(x):\n",
    "    return np.isclose(x[2], 0.)\n",
    "\n",
    "Vu, _ = W.sub(0).collapse()\n",
    "Vt, _ = W.sub(1).collapse()\n",
    "u_dofs = fem.locate_dofs_geometrical((W.sub(0), Vu), bottom)\n",
    "theta_dofs = fem.locate_dofs_geometrical((W.sub(1), Vt), bottom)\n",
    "u0 = fem.Function(Vu)\n",
    "theta0 = fem.Function(Vt)\n",
    "bcs = [fem.dirichletbc(u0, u_dofs, W.sub(0)), fem.dirichletbc(theta0, theta_dofs, W.sub(1))]\n",
    "\n",
    "w = fem.Function(W, name=\"Generalized_displacement\")\n",
    "\n",
    "problem = fem.petsc.LinearProblem(\n",
    "    k_form, l_form, u=w, bcs=bcs, petsc_options={\"ksp_type\": \"preonly\", \"pc_type\": \"lu\"}\n",
    ")\n",
    "problem.solve();"
   ]
  },
  {
   "cell_type": "markdown",
   "id": "19f3de5b",
   "metadata": {},
   "source": [
    "We finally plot the deflected shape and the bending moment distribution using `pyvista`."
   ]
  },
  {
   "cell_type": "code",
   "execution_count": null,
   "id": "fdc4c789",
   "metadata": {
    "tags": [
     "hide-input"
    ]
   },
   "outputs": [],
   "source": [
    "import pyvista\n",
    "from dolfinx import plot\n",
    "\n",
    "u = w.sub(0).collapse()\n",
    "\n",
    "plotter = pyvista.Plotter()\n",
    "topology, cell_types, geometry = plot.vtk_mesh(Vu)\n",
    "grid = pyvista.UnstructuredGrid(topology, cell_types, geometry)\n",
    "grid.point_data[\"Deflection\"] = u.x.array.reshape(-1, 3)\n",
    "warped = grid.warp_by_vector(\"Deflection\", factor=500.0)\n",
    "plotter.add_mesh(grid, show_edges=True, color=\"k\", line_width=1, opacity=0.5)\n",
    "plotter.add_mesh(warped, show_edges=True, line_width=5)\n",
    "plotter.show()\n",
    "\n",
    "\n",
    "M = fem.Function(Vu, name=\"Bending moments (M1,M2)\")\n",
    "Sig = generalized_stresses(w.sub(0), w.sub(1))\n",
    "M_exp = fem.Expression(ufl.as_vector([Sig[4], Sig[5], 0]), Vu.element.interpolation_points())\n",
    "M.interpolate(M_exp)\n",
    "\n",
    "grid.point_data[\"Bending_moments\"] = M.x.array.reshape(-1, 3)\n",
    "plotter = pyvista.Plotter()\n",
    "plotter.add_mesh(grid, show_edges=True, line_width=5, scalars=\"Bending_moments\")\n",
    "plotter.show()"
   ]
  },
  {
   "cell_type": "markdown",
   "id": "364d8cbd",
   "metadata": {},
   "source": [
    "## Attention\n",
    "\n",
    "```{attention}\n",
    "- The $\\mathbb{P}_1-\\mathbb{P}_1$ discretization choice made here might be too poor for achieving a decent error with a moderate mesh size. Increasing the order of interpolation, e.g. for the displacement $\\boldsymbol{u}$ is obviously possible but the integration degree for the reduced integration measure `dx_shear` must be adapted to this case.\n",
    "\n",
    "- To add concentrated forces, one can use the `dS` measure with appropriate tags or follow the strategy hinted in [](/tours/beams/linear_truss/linear_truss.md).\n",
    "```"
   ]
  }
 ],
 "metadata": {
  "kernelspec": {
   "display_name": "Python 3",
   "language": "python",
   "name": "python3"
  }
 },
 "nbformat": 4,
 "nbformat_minor": 5
}
