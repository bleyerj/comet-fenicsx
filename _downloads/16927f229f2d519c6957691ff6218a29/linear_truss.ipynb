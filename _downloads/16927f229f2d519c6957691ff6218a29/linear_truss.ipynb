{
 "cells": [
  {
   "cell_type": "markdown",
   "id": "12a91dd8",
   "metadata": {},
   "source": [
    "# Linear elastic 2D truss {far}`star`\n",
    "\n",
    "```{admonition} Objectives\n",
    ":class: objectives\n",
    "\n",
    "This tour shows how to implement a 2D linear elastic truss model. The key point is the definition of the local tangent vector of each truss member.$\\newcommand{\\bu}{\\boldsymbol{u}}\\newcommand{\\bt}{\\boldsymbol{t}}\\newcommand{\\bx}{\\boldsymbol{x}}\\newcommand{\\bv}{\\boldsymbol{v}}\\newcommand{\\eps}{\\varepsilon}\\newcommand{\\ds}{\\text{d}s}$\n",
    "```\n",
    "\n",
    "```{admonition} Download sources\n",
    ":class: download\n",
    "\n",
    "* {Download}`Python script<./linear_truss.py>`\n",
    "* {Download}`Jupyter notebook<./linear_truss.ipynb>`\n",
    "```\n",
    "\n",
    "## Governing equations\n",
    "\n",
    "We consider a truss $\\Omega$ consisting of straight members, pinned at their extremities. The normal force $N$ in each member is related to the corresponding member axial strain $\\eps$ via a linear elastic relation:\n",
    "\n",
    "```{math}\n",
    ":label: truss-constitutive-elastic\n",
    "N = ES\\eps\n",
    "```\n",
    "\n",
    "where $E$ is the material Young modulus, $S$ the member cross-section area and where the axial strain is given by the tangential displacement gradient along the member direction:\n",
    "\n",
    "$$\n",
    "\\eps = \\bt\\cdot\\dfrac{d\\bu}{ds} = \\bt\\cdot\\dfrac{d\\bu}{d\\bx}\\cdot\\bt\n",
    "$$\n",
    "\n",
    "where $\\bu$ is the truss displacement and $\\bt = \\dfrac{d\\bx}{ds}$ is the member unit vector, $s$ being the curvilinear coordinate.\n",
    "\n",
    "The weak form of equilibrium for the truss model is simply given by:\n",
    "\n",
    "$$\n",
    "\\int_{\\Omega} N\\eps[\\bv]\\ds = \\sum_i \\boldsymbol{F}_i\\cdot\\bv_i \\quad \\forall\\bv\\in V\n",
    "$$\n",
    "\n",
    "where $\\bv$ is a test function and $\\boldsymbol{F}_i$ are concentrated external forces applied at nodes $i$.\n",
    "\n",
    "## Implementation\n",
    "\n",
    "### Geometry"
   ]
  },
  {
   "cell_type": "code",
   "execution_count": null,
   "id": "ba60d5f1",
   "metadata": {},
   "outputs": [],
   "source": [
    "import numpy as np\n",
    "import pyvista\n",
    "import gmsh\n",
    "from mpi4py import MPI\n",
    "from petsc4py import PETSc\n",
    "import ufl\n",
    "from dolfinx import fem, io, plot\n",
    "import dolfinx.fem.petsc"
   ]
  },
  {
   "cell_type": "markdown",
   "id": "6a85f7c4",
   "metadata": {},
   "source": [
    "We create the truss domain with the `Gmsh` Python API. Importantly, we generate a 1D mesh and add physical groups for nodes: `tag=1` for the left and right supports and `tag=2` for the bottom nodes for applied loading."
   ]
  },
  {
   "cell_type": "code",
   "execution_count": null,
   "id": "9b54585c",
   "metadata": {
    "tags": [
     "hide-input"
    ]
   },
   "outputs": [],
   "source": [
    "l = 5.0\n",
    "h1 = 3.33\n",
    "h2 = 5.33\n",
    "h3 = 6.0\n",
    "\n",
    "gmsh.initialize()\n",
    "gmsh.option.setNumber(\"General.Terminal\", 0)  # to disable meshing info\n",
    "geom = gmsh.model.geo\n",
    "\n",
    "left = geom.add_point(0.0, 0.0, 0.0)\n",
    "right = geom.add_point(6 * l, 0.0, 0.0)\n",
    "bottom_points = [\n",
    "    geom.add_point(l, 0.0, 0.0),\n",
    "    geom.add_point(2 * l, 0.0, 0.0),\n",
    "    geom.add_point(3 * l, 0.0, 0.0),\n",
    "    geom.add_point(4 * l, 0.0, 0.0),\n",
    "    geom.add_point(5 * l, 0.0, 0.0),\n",
    "]\n",
    "top_points = [\n",
    "    geom.add_point(l, h1, 0.0),\n",
    "    geom.add_point(2 * l, h2, 0.0),\n",
    "    geom.add_point(3 * l, h3, 0.0),\n",
    "    geom.add_point(4 * l, h2, 0.0),\n",
    "    geom.add_point(5 * l, h1, 0.0),\n",
    "]\n",
    "ext_bottom_points = [left] + bottom_points + [right]\n",
    "ext_top_points = [left] + top_points + [right]\n",
    "\n",
    "bottom_lines = [\n",
    "    geom.add_line(ext_bottom_points[i], ext_bottom_points[i + 1])\n",
    "    for i in range(len(ext_bottom_points) - 1)\n",
    "]\n",
    "\n",
    "top_lines = [\n",
    "    geom.add_line(ext_top_points[i], ext_top_points[i + 1])\n",
    "    for i in range(len(ext_top_points) - 1)\n",
    "]\n",
    "\n",
    "vertical_lines = [geom.add_line(p1, p2) for p1, p2 in zip(bottom_points, top_points)]\n",
    "\n",
    "left_diagonal_lines = [\n",
    "    geom.add_line(top_points[i], bottom_points[i + 1])\n",
    "    for i in range(len(bottom_points) - 1)\n",
    "]\n",
    "right_diagonal_lines = [\n",
    "    geom.add_line(bottom_points[i], top_points[i + 1])\n",
    "    for i in range(len(bottom_points) - 1)\n",
    "]\n",
    "lines = (\n",
    "    bottom_lines\n",
    "    + top_lines\n",
    "    + vertical_lines\n",
    "    + right_diagonal_lines\n",
    "    + left_diagonal_lines\n",
    ")\n",
    "geom.synchronize()\n",
    "\n",
    "for l in lines:\n",
    "    gmsh.model.mesh.set_transfinite_curve(l, 2)\n",
    "gmsh.model.add_physical_group(0, bottom_points, 1)\n",
    "gmsh.model.add_physical_group(0, [left] + [right], 2)\n",
    "gmsh.model.add_physical_group(1, bottom_lines, 1)\n",
    "gmsh.model.add_physical_group(1, top_lines\n",
    "    + vertical_lines\n",
    "    + right_diagonal_lines\n",
    "    + left_diagonal_lines, 2)\n",
    "gmsh.model.mesh.generate(dim=1)\n",
    "gmsh.write(\"truss.msh\")\n",
    "\n",
    "domain, markers, facets = io.gmshio.model_to_mesh(gmsh.model, MPI.COMM_WORLD, 0, gdim=2)\n",
    "\n",
    "gmsh.finalize()"
   ]
  },
  {
   "cell_type": "code",
   "execution_count": null,
   "id": "cf7d4d09",
   "metadata": {},
   "outputs": [],
   "source": [
    "gdim = domain.geometry.dim\n",
    "tdim = domain.topology.dim\n",
    "\n",
    "print(f\"Geometrical dimension = {gdim}\")\n",
    "print(f\"Topological dimension = {tdim}\")\n",
    "\n",
    "V = fem.functionspace(domain, (\"CG\", 1, (gdim,)))\n",
    "Vv = fem.functionspace(domain, (\"DG\", 0, (gdim,)))"
   ]
  },
  {
   "cell_type": "markdown",
   "id": "a40573f6",
   "metadata": {},
   "source": [
    "We now define the local tangent vector of the domain using `ufl.Jacobian` which returns the Jacobian $J=\\dfrac{d\\boldsymbol{x}}{dX}$ where $X$ denotes the 1D-coordinate of the reference unit interval. This vector aligns with the local truss element orientation. We then normalize the vector to obtain the unit tangent vector:\n",
    "\n",
    "$$\n",
    "\\boldsymbol{t} = \\dfrac{d\\boldsymbol{x}}{ds} = \\dfrac{1}{\\left\\|\\frac{d\\boldsymbol{x}}{dX}\\right\\|}\\dfrac{d\\boldsymbol{x}}{dX}\n",
    "$$"
   ]
  },
  {
   "cell_type": "code",
   "execution_count": null,
   "id": "09119b73",
   "metadata": {},
   "outputs": [],
   "source": [
    "dx_dX = ufl.Jacobian(domain)[:, 0]\n",
    "t_ufl = dx_dX / ufl.sqrt(ufl.inner(dx_dX, dx_dX))\n",
    "t = fem.Function(Vv, name=\"Tangent_vector\")\n",
    "t.interpolate(fem.Expression(t_ufl, Vv.element.interpolation_points()))"
   ]
  },
  {
   "cell_type": "markdown",
   "id": "7d3614d0",
   "metadata": {},
   "source": [
    "To apply point loads on the truss nodes, it will be more convenient to define a piecewise linear function `F` and set the corresponding degrees of freedom with the corresponding nodal forces. In this case, we apply vertical downwards concentrated forces of intensity 1 on the bottom nodes which we retrieve from the facet tag `1`. We also retrieve the left and right dofs for applying Dirichlet boundary conditions"
   ]
  },
  {
   "cell_type": "code",
   "execution_count": null,
   "id": "792ed3c6",
   "metadata": {},
   "outputs": [],
   "source": [
    "F = fem.Function(V)\n",
    "fdim = tdim - 1\n",
    "load_dofs = fem.locate_dofs_topological(V.sub(1), fdim, facets.find(1))\n",
    "F.x.array[load_dofs] = -1\n",
    "\n",
    "bc_dofs = fem.locate_dofs_topological(V, fdim, facets.find(2))\n",
    "bcs = [fem.dirichletbc(np.zeros((gdim,)), bc_dofs, V)]"
   ]
  },
  {
   "cell_type": "markdown",
   "id": "db7b65bc",
   "metadata": {},
   "source": [
    "We plot the mesh, the loading (in black) and the unit tangent vectors in red using `pyvista`."
   ]
  },
  {
   "cell_type": "code",
   "execution_count": null,
   "id": "5ea9d1fa",
   "metadata": {
    "tags": [
     "hide-input"
    ]
   },
   "outputs": [],
   "source": [
    "pyvista.set_jupyter_backend(\"static\")\n",
    "plotter = pyvista.Plotter()\n",
    "\n",
    "u_topology, u_cell_types, u_geometry = plot.vtk_mesh(V)\n",
    "u_grid = pyvista.UnstructuredGrid(u_topology, u_cell_types, u_geometry)\n",
    "F_3D = np.zeros((u_geometry.shape[0], 3))\n",
    "F_3D[:, :2] = F.x.array.reshape(-1, 2)\n",
    "u_grid.point_data[\"F\"] = F_3D\n",
    "glyphs = u_grid.glyph(\n",
    "    orient=\"F\",\n",
    "    factor=3.0,\n",
    ")\n",
    "plotter.add_mesh(glyphs, color=\"black\")\n",
    "\n",
    "grid = pyvista.UnstructuredGrid(*plot.vtk_mesh(domain))\n",
    "plotter.add_mesh(grid, show_edges=True, line_width=10, color=\"royalblue\")\n",
    "t_3D = np.zeros((grid.n_cells, 3))\n",
    "t_3D[:, :2] = t.x.array.reshape(-1, 2)\n",
    "grid.cell_data[\"t\"] = t_3D\n",
    "grid.set_active_vectors(\"t\")\n",
    "arrow = pyvista.Arrow(\n",
    "    start=(-0.5, 0, 0),\n",
    ")\n",
    "glyphs = grid.glyph(orient=\"t\", factor=3.0, geom=arrow)\n",
    "\n",
    "plotter.add_mesh(glyphs, color=\"darkred\")\n",
    "plotter.show_axes()\n",
    "plotter.view_xy()\n",
    "plotter.zoom_camera(1.3)\n",
    "plotter.show()"
   ]
  },
  {
   "cell_type": "markdown",
   "id": "2c631ce3",
   "metadata": {},
   "source": [
    "### Define variational problem\n",
    "\n",
    "We define the variational problem"
   ]
  },
  {
   "cell_type": "code",
   "execution_count": null,
   "id": "47b08119",
   "metadata": {},
   "outputs": [],
   "source": [
    "du = ufl.TrialFunction(V)\n",
    "u_ = ufl.TestFunction(V)\n",
    "u = fem.Function(V, name=\"Displacement\")\n",
    "\n",
    "E = fem.Constant(domain, 200e3)\n",
    "S = fem.Constant(domain, 1.0)\n",
    "\n",
    "\n",
    "def strain(u):\n",
    "    return ufl.dot(ufl.dot(ufl.grad(u), t_ufl), t_ufl)\n",
    "\n",
    "\n",
    "def normal_force(u):\n",
    "    return E * S * strain(u)\n",
    "\n",
    "dx = ufl.Measure(\"dx\", subdomain_data=markers)\n",
    "a_form = fem.form(ufl.inner(normal_force(du), strain(u_)) *dx)"
   ]
  },
  {
   "cell_type": "markdown",
   "id": "4063c7e4",
   "metadata": {},
   "source": [
    "### Concentrated loadings\n",
    "\n",
    "To define concentrated loadings, several (undirect) approaches can be used, considering the fact that point measures are not available. A first possibility is to define a distributed loading which when assembled into a global nodal forces vectors approximates the corresponding concentrated loading. A second approach is to assemble an empty nodal force vector and set the corresponding entries to the wanted concentrated loading. Below, we follow this approach. However, it prevents us from using the `LinearProblem` class and we must instead write the assembly and solve steps manually using `petsc4py`."
   ]
  },
  {
   "cell_type": "code",
   "execution_count": null,
   "id": "8da79d46",
   "metadata": {},
   "outputs": [],
   "source": [
    "F0 = fem.Constant(domain, np.zeros((gdim,)))\n",
    "L_form = fem.form(ufl.dot(F0, u_) * dx)\n",
    "\n",
    "A = fem.petsc.assemble_matrix(a_form, bcs=bcs)\n",
    "A.assemble()\n",
    "b = fem.petsc.create_vector(L_form)\n",
    "\n",
    "b.array[:] = F.x.array[:]"
   ]
  },
  {
   "cell_type": "markdown",
   "id": "d21358a2",
   "metadata": {},
   "source": [
    "### Solving the problem\n",
    "\n",
    "We finally setup the linear solver and solve the problem."
   ]
  },
  {
   "cell_type": "code",
   "execution_count": null,
   "id": "8163c655",
   "metadata": {},
   "outputs": [],
   "source": [
    "solver = PETSc.KSP().create(domain.comm)\n",
    "solver.setOperators(A)\n",
    "solver.setType(PETSc.KSP.Type.PREONLY)\n",
    "solver.getPC().setType(PETSc.PC.Type.LU)\n",
    "\n",
    "solver.solve(b, u.vector)\n",
    "u.x.scatter_forward()"
   ]
  },
  {
   "cell_type": "markdown",
   "id": "167514f1",
   "metadata": {},
   "source": [
    "The normal force obtained from the elastic behavior {eq}`truss-constitutive-elastic` is then interpolated onto a piecewise-constant function space."
   ]
  },
  {
   "cell_type": "code",
   "execution_count": null,
   "id": "2e1264ac",
   "metadata": {},
   "outputs": [],
   "source": [
    "V0 = fem.functionspace(domain, (\"DG\", 0, ()))\n",
    "N_exp = fem.Expression(normal_force(u), V0.element.interpolation_points())\n",
    "N = fem.Function(V0, name=\"Normal_force\")\n",
    "N.interpolate(N_exp)"
   ]
  },
  {
   "cell_type": "markdown",
   "id": "3e36db0f",
   "metadata": {},
   "source": [
    "AWe plot the resulting normal force on the (scaled) deformed configuration using `pyvista`."
   ]
  },
  {
   "cell_type": "code",
   "execution_count": null,
   "id": "a8468e28",
   "metadata": {
    "tags": [
     "hide-input"
    ]
   },
   "outputs": [],
   "source": [
    "plotter = pyvista.Plotter()\n",
    "u_topology, u_cell_types, u_geometry = plot.vtk_mesh(V)\n",
    "u_grid = pyvista.UnstructuredGrid(u_topology, u_cell_types, u_geometry)\n",
    "u_3D = np.zeros((u_geometry.shape[0], 3))\n",
    "u_3D[:, :2] = u.x.array.reshape(-1, 2)\n",
    "u_3D[:, 2] = (\n",
    "    1e-3  # slightly offset to avoid overlap in xy view with underlying undeformed mesh\n",
    ")\n",
    "u_grid.point_data[\"Deflection\"] = u_3D\n",
    "u_grid.set_active_vectors(\"Deflection\")\n",
    "warped = u_grid.warp_by_vector(\"Deflection\", factor=2000.0)\n",
    "warped.cell_data[\"Normal force\"] = N.x.array\n",
    "plotter.add_mesh(\n",
    "    u_grid, show_edges=True, line_width=10, color=\"royalblue\", opacity=0.25\n",
    ")\n",
    "\n",
    "Nmax = max(abs(N.x.array))\n",
    "plotter.add_mesh(\n",
    "    warped,\n",
    "    show_scalar_bar=True,\n",
    "    scalars=\"Normal force\",\n",
    "    render_lines_as_tubes=True,\n",
    "    style=\"wireframe\",\n",
    "    line_width=10,\n",
    "    opacity=1,\n",
    "    cmap=\"bwr\",\n",
    "    clim=[-Nmax, Nmax],\n",
    ")\n",
    "plotter.view_xy()\n",
    "plotter.zoom_camera(1.3)\n",
    "plotter.show()"
   ]
  }
 ],
 "metadata": {
  "kernelspec": {
   "display_name": "Python 3",
   "language": "python",
   "name": "python3"
  }
 },
 "nbformat": 4,
 "nbformat_minor": 5
}
