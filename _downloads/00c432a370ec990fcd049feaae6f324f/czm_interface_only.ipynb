{
 "cells": [
  {
   "cell_type": "markdown",
   "id": "48fdb657",
   "metadata": {},
   "source": [
    "# Cohesive zone modeling restricted to an interface {far}`star`{far}`star`{far}`star`\n",
    "\n",
    "```{admonition} Objectives\n",
    ":class: objectives\n",
    "\n",
    "This tutorial demonstrates how to formulate a cohesive zone model (CZM) involving two subdomains connected by a cohesive interface. Contrary to the previous tour on [](/tours/interfaces/intrinsic_czm/intrinsic_czm.md) which uses a Discontinuous Galerkin formulation everywhere (*case (a)*), discontinuities modeled as CZM are here considered at the interface only. This prevents from the use of a single continuous functions space across the whole mesh and requires instead to work with **disconnected submeshes** and mixed Continuous Galerkin interpolation (*case (b)*).$\n",
    "\\newcommand{\\bu}{\\boldsymbol{u}}\n",
    "\\newcommand{\\bv}{\\boldsymbol{v}}\n",
    "\\newcommand{\\bn}{\\boldsymbol{n}}\n",
    "\\newcommand{\\jump}[1]{[\\![#1]\\!]}$\n",
    "```\n",
    "\n",
    "```{image} CZM_mesh.svg\n",
    ":width: 800px\n",
    ":align: center\n",
    "```\n",
    "```{attention}\n",
    "This tour requires version `0.9.0` of FEniCSx.\n",
    "```\n",
    "\n",
    "```{admonition} Download sources\n",
    ":class: download\n",
    "\n",
    "* {Download}`Python script<./czm_interface_only.py>`\n",
    "* {Download}`Jupyter notebook<./czm_interface_only.ipynb>`\n",
    "* {Download}`Complete sources files<./czm_interface_only.zip>`\n",
    "```\n",
    "\n",
    "```{seealso}\n",
    "This tour borrows from different resources discussing mixed domain formulations and DG couplings such as:\n",
    "- [Joe P. Dean mixed domain demos](https://github.com/jpdean/mixed_domain_demos)\n",
    "- [This gist by Jørgen Dokken](https://gist.github.com/jorgensd/8a5c32f491195e838f5863ca88b27bce)\n",
    "- [This post](https://fenicsproject.discourse.group/t/discontinuity-at-interface-using-mixed-domains/15040)\n",
    "```\n",
    "\n",
    "## Introduction\n",
    "\n",
    "We consider the same geometry and the same cohesive zone model formulation as in [](/tours/interfaces/intrinsic_czm/intrinsic_czm.md). The only difference here is that we do not want to introduce a DG formulation everywhere which might be too costly for large meshes due to the increased number of degrees of freedom. We are only concerned here with modeling the debonding of the matrix/inclusion interface.\n",
    "\n",
    "To do so, we will build a formulation involving the matrix and the inclusion submeshes with a standard Continuous Galerkin formulation in both of them. The two domains will then be tied by the formulation of a CZM on the interface. The interface itself will also be defined as a submesh (of codimension 1) to define the damage internal state variable of the CZM law, see again the previous tour.\n",
    "\n",
    "```{attention}\n",
    "- The approach proposed here is well suited for interfaces separating a moderate number of subdomains as we explicitly need to define each subdomain and each interface between pairs of subdomains separately. For more complex problems, it might be more beneficial to resort to a fully DG formulation.\n",
    "\n",
    "- Currently, parallel computations are not fully supported.\n",
    "```\n",
    "\n",
    "## Implementation\n",
    "\n",
    "For this problem, we need many utility functions which are implemented in a complementary {download}`utils.py` module."
   ]
  },
  {
   "cell_type": "code",
   "execution_count": null,
   "id": "c3e541a6",
   "metadata": {
    "lines_to_next_cell": 2
   },
   "outputs": [],
   "source": [
    "from IPython.display import clear_output, HTML\n",
    "import numpy as np\n",
    "import matplotlib.pyplot as plt\n",
    "import gmsh\n",
    "import pyvista\n",
    "from mpi4py import MPI\n",
    "import ufl\n",
    "import basix\n",
    "from dolfinx import fem, io\n",
    "import dolfinx.fem.petsc\n",
    "from utils import (\n",
    "    create_piecewise_constant_field,\n",
    "    BlockedLinearProblem,\n",
    "    interface_int_entities,\n",
    "    transfer_meshtags_to_submesh,\n",
    "    interpolate_submesh_to_parent,\n",
    ")"
   ]
  },
  {
   "cell_type": "markdown",
   "id": "a5590ff5",
   "metadata": {
    "lines_to_next_cell": 2
   },
   "source": [
    "### Mesh and subdomains\n",
    "\n",
    "The same mesh is defined using `gmsh`.\n",
    "\n",
    "```{note}\n",
    "For `gmsh`, there is no discontinuity between the matrix and the inclusion. Elements from each side of the interface share common nodes from the mesh point of view. It is when defining two function spaces on both submeshes and when formulating the CZM law that we introduce the possibility of a jump at the interface.\n",
    "```"
   ]
  },
  {
   "cell_type": "code",
   "execution_count": null,
   "id": "0317c039",
   "metadata": {
    "tags": [
     "hide-input"
    ]
   },
   "outputs": [],
   "source": [
    "def create_matrix_inclusion_mesh(L, W, R, hsize):\n",
    "    comm = MPI.COMM_WORLD\n",
    "\n",
    "    gmsh.initialize()\n",
    "    gdim = 2\n",
    "    model_rank = 0\n",
    "    if comm.rank == model_rank:\n",
    "        gmsh.option.setNumber(\"General.Terminal\", 0)  # to disable meshing info\n",
    "        gmsh.model.add(\"Model\")\n",
    "\n",
    "        gmsh.model.occ.addRectangle(0.0, 0.0, 0.0, L, W, tag=1)\n",
    "        gmsh.model.occ.addDisk(0.4, 0.0, 0.0, R, R, tag=2)\n",
    "        gmsh.model.occ.addDisk(0.6, W, 0.0, R, R, tag=3)\n",
    "        gmsh.model.occ.fragment([(gdim, 1)], [(gdim, 2), (gdim, 3)], removeObject=True)\n",
    "\n",
    "        gmsh.model.occ.synchronize()\n",
    "\n",
    "        gmsh.model.occ.remove([(gdim, 5), (gdim, 4)], recursive=True)\n",
    "\n",
    "        gmsh.model.occ.synchronize()\n",
    "\n",
    "        gmsh.option.setNumber(\"Mesh.CharacteristicLengthMin\", hsize)\n",
    "        gmsh.option.setNumber(\"Mesh.CharacteristicLengthMax\", hsize)\n",
    "\n",
    "        gmsh.model.addPhysicalGroup(gdim, [1], 1, name=\"Matrix\")\n",
    "        gmsh.model.addPhysicalGroup(gdim, [2, 3], 2, name=\"Inclusions\")\n",
    "\n",
    "        gmsh.model.addPhysicalGroup(gdim - 1, [3], 1, name=\"left\")\n",
    "        gmsh.model.addPhysicalGroup(gdim - 1, [7], 2, name=\"right\")\n",
    "        gmsh.model.addPhysicalGroup(gdim - 1, [1, 5], 3, name=\"interface\")\n",
    "        gmsh.model.addPhysicalGroup(gdim - 1, [2, 9, 8, 4, 10, 6], 4, name=\"sides\")\n",
    "        gmsh.model.mesh.generate(gdim)\n",
    "\n",
    "    partitioner = dolfinx.cpp.mesh.create_cell_partitioner(\n",
    "        dolfinx.mesh.GhostMode.shared_facet\n",
    "    )\n",
    "    domain, cells, facets = dolfinx.io.gmshio.model_to_mesh(\n",
    "        gmsh.model, MPI.COMM_WORLD, model_rank, gdim=gdim, partitioner=partitioner\n",
    "    )\n",
    "    gmsh.finalize()\n",
    "    return (domain, cells, facets)"
   ]
  },
  {
   "cell_type": "markdown",
   "id": "b0f475ed",
   "metadata": {},
   "source": [
    "We first create the mesh and define the different tags for identifying physical domains and interfaces."
   ]
  },
  {
   "cell_type": "code",
   "execution_count": null,
   "id": "d6c8e1f3",
   "metadata": {},
   "outputs": [],
   "source": [
    "length = 1.0\n",
    "width = 0.5\n",
    "radius = 0.25\n",
    "hsize = 0.02\n",
    "domain, cells, facets = create_matrix_inclusion_mesh(length, width, radius, hsize)\n",
    "MATRIX_TAG = 1  # tag of matrix phase\n",
    "INCL_TAG = 2  # tag of inclusion phase\n",
    "INT_TAG = 3  # tag of interface\n",
    "LEFT_TAG = 1  # tag of left boundary\n",
    "RIGHT_TAG = 2  # tag of right boundary\n",
    "interface_facets = facets.find(INT_TAG)\n",
    "\n",
    "tdim = domain.topology.dim\n",
    "fdim = tdim - 1"
   ]
  },
  {
   "cell_type": "markdown",
   "id": "1aa6fd05",
   "metadata": {},
   "source": [
    "We define three submeshes: two submeshes (of codim. 0) corresponding to the matrix and inclusion 2D domains and one submesh (of codim. 1) corresponding to the facet restriction on the interface."
   ]
  },
  {
   "cell_type": "code",
   "execution_count": null,
   "id": "0bc7a35d",
   "metadata": {},
   "outputs": [],
   "source": [
    "subdomain2, subdomain2_cell_map, subdomain2_vertex_map, _ = dolfinx.mesh.create_submesh(\n",
    "    domain, tdim, cells.find(INCL_TAG)\n",
    ")\n",
    "subdomain1, subdomain1_cell_map, subdomain1_vertex_map, _ = dolfinx.mesh.create_submesh(\n",
    "    domain, tdim, cells.find(MATRIX_TAG)\n",
    ")\n",
    "interface_mesh, interface_cell_map, _, _ = dolfinx.mesh.create_submesh(\n",
    "    domain, fdim, interface_facets\n",
    ")"
   ]
  },
  {
   "cell_type": "markdown",
   "id": "bb769631",
   "metadata": {},
   "source": [
    "Each submesh is plotted individually:"
   ]
  },
  {
   "cell_type": "code",
   "execution_count": null,
   "id": "d8b5142f",
   "metadata": {
    "tags": [
     "hide-input"
    ]
   },
   "outputs": [],
   "source": [
    "plotter = pyvista.Plotter(off_screen=True)\n",
    "grid1 = pyvista.UnstructuredGrid(*dolfinx.plot.vtk_mesh(subdomain1))\n",
    "plotter.add_mesh(grid1, show_edges=True, color=\"gold\")\n",
    "grid2 = pyvista.UnstructuredGrid(*dolfinx.plot.vtk_mesh(subdomain2))\n",
    "plotter.add_mesh(grid2, show_edges=True, color=\"darkblue\")\n",
    "gridi = pyvista.UnstructuredGrid(*dolfinx.plot.vtk_mesh(interface_mesh))\n",
    "plotter.add_mesh(gridi, show_edges=True, color=\"darkred\", line_width=5)\n",
    "plotter.show_axes()\n",
    "plotter.view_xy()\n",
    "plotter.show()"
   ]
  },
  {
   "cell_type": "markdown",
   "id": "8cbc0785",
   "metadata": {},
   "source": [
    "Now that we have defined submeshes, we need to transfer (facets) meshtags from those defined on the original domain to their subdomain counterpart."
   ]
  },
  {
   "cell_type": "code",
   "execution_count": null,
   "id": "1eaea871",
   "metadata": {},
   "outputs": [],
   "source": [
    "subdomain1_facet_tags, subdomain1_facet_map = transfer_meshtags_to_submesh(\n",
    "    domain, facets, subdomain1, subdomain1_vertex_map, subdomain1_cell_map\n",
    ")\n",
    "subdomain2_facet_tags, subdomain2_facet_map = transfer_meshtags_to_submesh(\n",
    "    domain, facets, subdomain2, subdomain2_vertex_map, subdomain2_cell_map\n",
    ")"
   ]
  },
  {
   "cell_type": "markdown",
   "id": "b7ef9254",
   "metadata": {},
   "source": [
    "### Entity map and integration measures\n",
    "\n",
    "Similarly to the previous CZM tour, *entity maps* must be defined to link integration of quantities defined on the subdomains."
   ]
  },
  {
   "cell_type": "code",
   "execution_count": null,
   "id": "1f58bdde",
   "metadata": {},
   "outputs": [],
   "source": [
    "cell_imap = domain.topology.index_map(tdim)\n",
    "num_cells = cell_imap.size_local + cell_imap.num_ghosts\n",
    "domain_to_subdomain1 = np.full(num_cells, -1, dtype=np.int32)\n",
    "domain_to_subdomain1[subdomain1_cell_map] = np.arange(\n",
    "    len(subdomain1_cell_map), dtype=np.int32\n",
    ")\n",
    "domain_to_subdomain2 = np.full(num_cells, -1, dtype=np.int32)\n",
    "domain_to_subdomain2[subdomain2_cell_map] = np.arange(\n",
    "    len(subdomain2_cell_map), dtype=np.int32\n",
    ")\n",
    "\n",
    "subdomain1.topology.create_connectivity(fdim, tdim)\n",
    "subdomain2.topology.create_connectivity(fdim, tdim)\n",
    "\n",
    "facet_imap = domain.topology.index_map(facets.dim)\n",
    "num_facets = facet_imap.size_local + facet_imap.num_ghosts\n",
    "domain_to_interface = np.full(num_facets, -1)\n",
    "domain_to_interface[interface_cell_map] = np.arange(len(interface_cell_map))"
   ]
  },
  {
   "cell_type": "markdown",
   "id": "f964acab",
   "metadata": {},
   "source": [
    "Before setting up the `entity_maps` dictionary, we need a specific treatment for integrating terms on the interface. The `interface_int_integration` manually defines integration quantities on the interface. Besides, interface terms seen from one specific subdomain only exist on one side. As the assembler complains about this, there is a specific tweak to map cells from one side of the interface to the other side, thereby modifying the `domain_to_subdomain` maps. Moreover, we also consistently switch the orientation of the facets so that cells in subdomain 1 correspond to the `\"+\"` side of the interface and cells in subdomain 2 to the `\"-\"` side.\n",
    "\n",
    "```{note}\n",
    "Having a correct facet orientation does not really impact the results here as we do not distinguish between positive and negative opening of the cohesive zone in the formulation of the `effective_opening`. In case one wants to distinguish between positive and negative opening, an inconsistent facet orientation would produce incorrect results.\n",
    "\n",
    "```{image} facet_orientation.png\n",
    ":width: 700px\n",
    ":align: center\n",
    "```"
   ]
  },
  {
   "cell_type": "code",
   "execution_count": null,
   "id": "60180db6",
   "metadata": {},
   "outputs": [],
   "source": [
    "interface_entities, domain_to_subdomain1, domain_to_subdomain2 = interface_int_entities(\n",
    "    domain, interface_facets, domain_to_subdomain1, domain_to_subdomain2\n",
    ")\n",
    "\n",
    "entity_maps = {\n",
    "    interface_mesh: domain_to_interface,\n",
    "    subdomain1: domain_to_subdomain1,\n",
    "    subdomain2: domain_to_subdomain2,\n",
    "}"
   ]
  },
  {
   "cell_type": "markdown",
   "id": "01f04eac",
   "metadata": {},
   "source": [
    "We are now in position to define the various integration measures. The key point here is that the `dInt` interface measure is defined using prescribed integration entities which have been defined earlier. This is done by passing them to `subdomain_data` as follows."
   ]
  },
  {
   "cell_type": "code",
   "execution_count": null,
   "id": "00bae6e9",
   "metadata": {},
   "outputs": [],
   "source": [
    "dx = ufl.Measure(\"dx\", domain=domain, subdomain_data=cells)\n",
    "ds = ufl.Measure(\"ds\", domain=domain, subdomain_data=facets)\n",
    "dx_int = ufl.Measure(\"dx\", domain=interface_mesh)\n",
    "dInt = ufl.Measure(\n",
    "    \"dS\",\n",
    "    domain=domain,\n",
    "    subdomain_data=[(INT_TAG, interface_entities)],\n",
    "    subdomain_id=INT_TAG,\n",
    ")"
   ]
  },
  {
   "cell_type": "markdown",
   "id": "00ccbce0",
   "metadata": {},
   "source": [
    "We can check that the length of the interface is properly computed."
   ]
  },
  {
   "cell_type": "code",
   "execution_count": null,
   "id": "139d1bc0",
   "metadata": {},
   "outputs": [],
   "source": [
    "Gamma = fem.assemble_scalar(fem.form(1 * dInt, entity_maps=entity_maps))\n",
    "print(f\"Check that Gamma is such that {Gamma} ~ {np.pi*2*radius}\")"
   ]
  },
  {
   "cell_type": "markdown",
   "id": "64f047e8",
   "metadata": {},
   "source": [
    "### Weak form definition\n",
    "\n",
    "We generate a piecewise constant field of elastic properties, as in the previous tour."
   ]
  },
  {
   "cell_type": "code",
   "execution_count": null,
   "id": "d4bcb1a0",
   "metadata": {},
   "outputs": [],
   "source": [
    "E = create_piecewise_constant_field(domain, cells, {MATRIX_TAG: 3.09e3, INCL_TAG: 10e3})\n",
    "nu = create_piecewise_constant_field(domain, cells, {MATRIX_TAG: 0.25, INCL_TAG: 0.4})\n",
    "mu = E / (2.0 * (1.0 + nu))\n",
    "lmbda = E * nu / ((1.0 + nu) * (1.0 - 2.0 * nu))\n",
    "\n",
    "\n",
    "def epsilon(v):\n",
    "    return ufl.sym(ufl.grad(v))\n",
    "\n",
    "\n",
    "def sigma(v):\n",
    "    return lmbda * ufl.tr(epsilon(v)) * ufl.Identity(tdim) + 2.0 * mu * epsilon(v)"
   ]
  },
  {
   "cell_type": "markdown",
   "id": "34bd000d",
   "metadata": {},
   "source": [
    "Interfacial mechanical properties and expressions for the CZM law are defined similarly except that we consider constant properties since we define the CZM at the interface only."
   ]
  },
  {
   "cell_type": "code",
   "execution_count": null,
   "id": "34a207e7",
   "metadata": {
    "lines_to_next_cell": 2
   },
   "outputs": [],
   "source": [
    "Gc = fem.Constant(domain, 0.5)\n",
    "sig_max = fem.Constant(domain, 50.0)\n",
    "delta_0 = Gc / sig_max / ufl.exp(1)\n",
    "beta = fem.Constant(domain, 2.0)\n",
    "\n",
    "\n",
    "def normal_opening(v, n):\n",
    "    return ufl.dot(v, n)\n",
    "\n",
    "\n",
    "def tangential_opening(v, n):\n",
    "    return v - normal_opening(v, n) * n\n",
    "\n",
    "\n",
    "def effective_opening(v, n):\n",
    "    return ufl.sqrt(normal_opening(v, n) ** 2 + beta**2 * tangential_opening(v, n) ** 2)\n",
    "\n",
    "\n",
    "def T(opening, d):\n",
    "    K_int = ufl.avg(Gc / delta_0**2) * (1 - d)\n",
    "    return K_int * opening"
   ]
  },
  {
   "cell_type": "markdown",
   "id": "4713f527",
   "metadata": {
    "lines_to_next_cell": 2
   },
   "source": [
    "In the previous tour, it was possible to use `ufl.jump` to define $\\jump{\\bu}$. Here, we need to define it manually from two displacement fields `u1` and `u2` which live on two different subdomains. Here, we define $\\jump{\\bu} = \\bu^{(2)} - \\bu^{(1)}$ where $(1)$ denotes subdomain 1 (the matrix) and $(2)$ denotes subdomain 2 (the inclusions). Note that we need to restrict quantities since we work with a facet measure. Although only one side exist for each subdomain, cells of a given subdomain from one side have been mapped to the other side, as discussed before. As a result, it does not really matter which side is used here. For consistency, we use the the `\"+\"` side for subdomain 1 and the `\"-\"` side for subdomain 2."
   ]
  },
  {
   "cell_type": "code",
   "execution_count": null,
   "id": "ed39a3c6",
   "metadata": {},
   "outputs": [],
   "source": [
    "def jump(u1, u2):\n",
    "    return u2(\"-\") - u1(\"+\")"
   ]
  },
  {
   "cell_type": "markdown",
   "id": "42007007",
   "metadata": {},
   "source": [
    "We now define the relevant function spaces. As hinted before, the unknown $\\bu$ will consist of two displacements $(\\bu^{(1)},\\bu^{(2)})$ respectively belonging to a continuous Lagrange space defined on subdomains 1 and 2. We use a `MixedFunctionSpace` for this, meaning that we will end up with a block system. For easier post-processing, the computed displacement will be stored as a `DG` function, with jumps being non zero only at the interface."
   ]
  },
  {
   "cell_type": "code",
   "execution_count": null,
   "id": "fd0681f5",
   "metadata": {},
   "outputs": [],
   "source": [
    "V1 = fem.functionspace(subdomain1, (\"Lagrange\", 1, (tdim,)))\n",
    "V2 = fem.functionspace(subdomain2, (\"Lagrange\", 1, (tdim,)))\n",
    "W = ufl.MixedFunctionSpace(V1, V2)\n",
    "u1 = fem.Function(V1, name=\"Displacement_1\")\n",
    "u2 = fem.Function(V2, name=\"Displacement_2\")\n",
    "v1, v2 = ufl.TestFunctions(W)\n",
    "du1, du2 = ufl.TrialFunctions(W)"
   ]
  },
  {
   "cell_type": "markdown",
   "id": "d30c98a9",
   "metadata": {},
   "source": [
    "For easier post-processing, the computed displacement will be stored as a `DG` function, with jumps being non zero only at the interface. This space will not be used for defining the weak forms."
   ]
  },
  {
   "cell_type": "code",
   "execution_count": null,
   "id": "6ebf4d7d",
   "metadata": {},
   "outputs": [],
   "source": [
    "V = fem.functionspace(domain, (\"DG\", 1, (tdim,)))  # for post-processing only\n",
    "u = fem.Function(V, name=\"Displacement\")"
   ]
  },
  {
   "cell_type": "markdown",
   "id": "7b692f29",
   "metadata": {},
   "source": [
    "Similarly to the previous tour, a `DG-1` function space on the interface `V_int` will be used to represent the damage fields. Again, we could have used a Quadrature space but this choice proves easier for visualization purposes."
   ]
  },
  {
   "cell_type": "code",
   "execution_count": null,
   "id": "97e0c3a8",
   "metadata": {},
   "outputs": [],
   "source": [
    "V_int = fem.functionspace(interface_mesh, (\"DG\", 1))\n",
    "d = fem.Function(V_int, name=\"Interfacial_damage\")\n",
    "d_prev = fem.Function(V_int, name=\"Previous_interfacial_damage\")\n",
    "d_old = fem.Function(V_int, name=\"Interfacial_damage_old\")"
   ]
  },
  {
   "cell_type": "markdown",
   "id": "6a1a0ed7",
   "metadata": {},
   "source": [
    "We can now define the expression for the interfacial damage based on the effective opening $\\delta$. The latter involves $\\jump{\\bu}$ and the interface normal. Since $\\jump{\\bu} = \\bu^{(2)} - \\bu^{(1)}$ , we need the normal $\\bn^{(1)\\to(2)}$ from subdomain 1 to subdomain 2. This is `n(\"+\")` since subdomain 1 is on `\"+\"` side of the interface and the facet normal points outwards the cell."
   ]
  },
  {
   "cell_type": "code",
   "execution_count": null,
   "id": "9f30a1ca",
   "metadata": {},
   "outputs": [],
   "source": [
    "n1_to_2 = ufl.FacetNormal(domain)(\"+\")\n",
    "delta = effective_opening(jump(u1, u2), n1_to_2)\n",
    "d_expr = ufl.max_value(ufl.avg(d_prev), 1 - ufl.exp(-delta / ufl.avg(delta_0)))"
   ]
  },
  {
   "cell_type": "markdown",
   "id": "4af562bd",
   "metadata": {},
   "source": [
    "Bulk and interface contributions to the bilinear form are defined by separating the contributions of both subdomains."
   ]
  },
  {
   "cell_type": "code",
   "execution_count": null,
   "id": "0e862f1a",
   "metadata": {},
   "outputs": [],
   "source": [
    "a_bulk = ufl.inner(sigma(du1), epsilon(v1)) * dx(1) + ufl.inner(\n",
    "    sigma(du2), epsilon(v2)\n",
    ") * dx(2)\n",
    "a_interface = ufl.dot(T(jump(du1, du2), ufl.avg(d)), jump(v1, v2)) * dInt\n",
    "a = a_bulk + a_interface\n",
    "f = fem.Constant(domain, np.zeros((tdim,)))\n",
    "L = ufl.dot(f, v1) * dx(1) + ufl.dot(f, v2) * dx(2)"
   ]
  },
  {
   "cell_type": "markdown",
   "id": "cefac41c",
   "metadata": {},
   "source": [
    "Finally, we use `ufl.extract_blocks` to obtain the different blocks $\\begin{bmatrix} \\text{a}_{11} & \\text{a}_{12}\\\\ \\text{a}_{21} & \\text{a}_{22}\\end{bmatrix}$ of the bilinear form associated with $\\bu^{(1)}$ and $\\bu^{(2)}$. The blocked forms are then compiled by providing the entity maps."
   ]
  },
  {
   "cell_type": "code",
   "execution_count": null,
   "id": "e23ab602",
   "metadata": {},
   "outputs": [],
   "source": [
    "a_blocked_compiled = fem.form(ufl.extract_blocks(a), entity_maps=entity_maps)\n",
    "L_blocked_compiled = fem.form(ufl.extract_blocks(L), entity_maps=entity_maps)"
   ]
  },
  {
   "cell_type": "markdown",
   "id": "fbc567af",
   "metadata": {},
   "source": [
    "As in the previous tour, we need to evaluate expressions that live on the facet mesh. We follow the same approach as discussed in details in {ref}`facet:expressions:interpolation`."
   ]
  },
  {
   "cell_type": "code",
   "execution_count": null,
   "id": "4f00073c",
   "metadata": {},
   "outputs": [],
   "source": [
    "q_p = V_int.element.interpolation_points()\n",
    "weights = np.full(q_p.shape[0], 1.0)\n",
    "q_el = basix.ufl.quadrature_element(\n",
    "    interface_mesh.basix_cell(), scheme=\"custom\", points=q_p, weights=weights\n",
    ")\n",
    "Q = fem.functionspace(interface_mesh, q_el)\n",
    "q_ = ufl.TestFunction(Q)\n",
    "dS_custom = ufl.Measure(\n",
    "    \"dS\",\n",
    "    domain=domain,\n",
    "    metadata={\n",
    "        \"quadrature_scheme\": \"custom\",\n",
    "        \"quadrature_points\": q_p,\n",
    "        \"quadrature_weights\": weights,\n",
    "    },\n",
    "    subdomain_data=[(INT_TAG, interface_entities)],\n",
    "    subdomain_id=INT_TAG,\n",
    ")\n",
    "\n",
    "facet_interp = fem.form(\n",
    "    1 / ufl.FacetArea(domain) * d_expr * ufl.avg(q_) * dS_custom,\n",
    "    entity_maps=entity_maps,\n",
    ")"
   ]
  },
  {
   "cell_type": "markdown",
   "id": "b9c6e2dd",
   "metadata": {},
   "source": [
    "### Boundary conditions\n",
    "\n",
    "Dirichlet boundary conditions are now defined. Note that they involve only subdomain 1."
   ]
  },
  {
   "cell_type": "code",
   "execution_count": null,
   "id": "f7ae0408",
   "metadata": {},
   "outputs": [],
   "source": [
    "Uimp = fem.Constant(domain, (1.0, 0.0))\n",
    "left_dofs = fem.locate_dofs_topological(V1, fdim, subdomain1_facet_tags.find(1))\n",
    "right_dofs = fem.locate_dofs_topological(V1, fdim, subdomain1_facet_tags.find(2))\n",
    "\n",
    "bcs = [\n",
    "    fem.dirichletbc(np.zeros((tdim,)), left_dofs, V1),\n",
    "    fem.dirichletbc(Uimp, right_dofs, V1),\n",
    "]"
   ]
  },
  {
   "cell_type": "markdown",
   "id": "f0ef61a2",
   "metadata": {},
   "source": [
    "The imposed displacement is initialized with unitary values so as to define the virtual displacement fields `v_reac` to be used for measuring the reaction force on the boundary in a consistent manner based on the equilibrium residual $a(\\bu,\\bv_\\text{read})-L(\\bv_\\text{reac})$."
   ]
  },
  {
   "cell_type": "code",
   "execution_count": null,
   "id": "3103b865",
   "metadata": {},
   "outputs": [],
   "source": [
    "v_reac1 = fem.Function(V1)\n",
    "fem.set_bc(v_reac1.x.array, bcs)\n",
    "v_reac2 = fem.Function(V2)\n",
    "fem.set_bc(v_reac2.x.array, bcs)\n",
    "virtual_work_form = fem.form(\n",
    "    ufl.replace(a - L, {du1: u1, du2: u2, v1: v_reac1, v2: v_reac2}),\n",
    "    entity_maps=entity_maps,\n",
    ")"
   ]
  },
  {
   "cell_type": "markdown",
   "id": "cbef0f18",
   "metadata": {},
   "source": [
    "The linear problem associated with resolution of displacement at fixed damage is now defined outside the load-stepping loop. Since we use a mixed function space, we obtain a block linear system and therefore implement a custom class in {download}`utils.py` for repeatedly solving a blocked linear variational problem. The latter expects blocked compiled linear and bilinear forms and a list of functions in which to store the results. The solver can be parametrized using PETSc options."
   ]
  },
  {
   "cell_type": "code",
   "execution_count": null,
   "id": "154be2d2",
   "metadata": {},
   "outputs": [],
   "source": [
    "problem = BlockedLinearProblem(\n",
    "    a_blocked_compiled,\n",
    "    L_blocked_compiled,\n",
    "    [u1, u2],\n",
    "    bcs,\n",
    "    petsc_options={\n",
    "        \"ksp_type\": \"preonly\",\n",
    "        \"pc_type\": \"lu\",\n",
    "        \"pc_factor_mat_solver_type\": \"mumps\",\n",
    "    },\n",
    ")"
   ]
  },
  {
   "cell_type": "markdown",
   "id": "5a562735",
   "metadata": {},
   "source": [
    "### Resolution\n",
    "\n",
    "The fixed-point resolution scheme is implemented as before. The main difference here lies in the post-processing steps. Data in `u1` and `u2` fields are transferred to a parent function `u` defined as a `DG` function on the parent mesh. We thus have a single displacement field in Paraview which presents jumps at the interface only."
   ]
  },
  {
   "cell_type": "code",
   "execution_count": null,
   "id": "80d1bb28",
   "metadata": {},
   "outputs": [],
   "source": [
    "Nincr = 40\n",
    "loading = np.linspace(0, 0.04, Nincr + 1)\n",
    "\n",
    "\n",
    "Niter_max = 200\n",
    "tol = 1e-4\n",
    "damage_results = [[0.0, 0.0]]\n",
    "Force = [0.0]\n",
    "iterations = [0]\n",
    "\n",
    "\n",
    "out_file = io.VTKFile(MPI.COMM_WORLD, \"results/czm.pvd\", \"a\")\n",
    "for i, t in enumerate(loading[1:]):\n",
    "    print(\"Load step\", i + 1)\n",
    "    Uimp.value[0] = t\n",
    "    nRes = 1.0\n",
    "    j = 0\n",
    "    while j < Niter_max:\n",
    "        # displacement problem resolution\n",
    "        problem.solve()\n",
    "        # interpolation of damage on facets\n",
    "        d.x.array[:] = fem.assemble_vector(facet_interp).array\n",
    "        # normalized residual for convergence check\n",
    "        nRes = (\n",
    "            np.sqrt((fem.assemble_scalar(fem.form((d - d_old) ** 2 * dx_int)))) / Gamma\n",
    "        )\n",
    "        d_old.x.array[:] = d.x.array[:]\n",
    "        j += 1\n",
    "        print(f\"    Iteration {j} | Residual: {nRes}\")\n",
    "        if nRes < tol:\n",
    "            break\n",
    "    else:\n",
    "        raise ValueError(\n",
    "            \"Fixed-point solver did not converge in less than {} iterations\".format(\n",
    "                Niter_max\n",
    "            )\n",
    "        )\n",
    "    iterations.append(j)\n",
    "    d_prev.x.array[:] = d.x.array[:]\n",
    "\n",
    "    Force.append(fem.assemble_scalar(virtual_work_form))\n",
    "\n",
    "    # We interpolate both u1 and u2 into u for easier visualization with Paraview\n",
    "    interpolate_submesh_to_parent(u, u1, subdomain1_cell_map)\n",
    "    interpolate_submesh_to_parent(u, u2, subdomain2_cell_map)\n",
    "    out_file.write_function(u, i)\n",
    "    out_file.write_function(d, i)\n",
    "    clear_output(wait=True)\n",
    "\n",
    "out_file.close()"
   ]
  },
  {
   "cell_type": "markdown",
   "id": "8c1c7721",
   "metadata": {},
   "source": [
    "## Results\n",
    "\n",
    "We finally plot the resulting load-displacement curve."
   ]
  },
  {
   "cell_type": "code",
   "execution_count": null,
   "id": "52769b34",
   "metadata": {},
   "outputs": [],
   "source": [
    "plt.figure()\n",
    "plt.plot(loading, Force)\n",
    "plt.xlabel(\"Imposed displacement\")\n",
    "plt.ylabel(\"Reaction force\")\n",
    "plt.show()"
   ]
  }
 ],
 "metadata": {
  "jupytext": {
   "cell_metadata_filter": "-all",
   "formats": "md:myst,ipynb",
   "main_language": "python"
  }
 },
 "nbformat": 4,
 "nbformat_minor": 5
}
