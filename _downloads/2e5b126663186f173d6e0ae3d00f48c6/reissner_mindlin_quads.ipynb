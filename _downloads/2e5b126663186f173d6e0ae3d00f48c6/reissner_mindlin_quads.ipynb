{
 "cells": [
  {
   "cell_type": "markdown",
   "id": "bfd70e9e",
   "metadata": {},
   "source": [
    "# Shear-locking in thick plate models with quadrilateral elements  {far}`star`\n",
    "\n",
    "```{admonition} Objectives\n",
    ":class: objectives\n",
    "\n",
    "This tour implements a thick plate Reissner-Mindlin model and discusses the issue of shear-locking in the thin plate limit. We show how to use selective reduced integration to alleviate this issue.\n",
    "```\n",
    "\n",
    "```{admonition} Download sources\n",
    ":class: download\n",
    "\n",
    "* {Download}`Python script<./reissner_mindlin_quads.py>`\n",
    "* {Download}`Jupyter notebook<./reissner_mindlin_quads.ipynb>`\n",
    "```\n",
    "\n",
    "```{seealso}\n",
    "\n",
    "For more details on the Reissner-Mindlin plate model and its implementation, we refer to the [](/intro/plates/plates.md) introductory tour.\n",
    "```\n",
    "\n",
    "```{seealso}\n",
    "\n",
    "For more advanced Reissner-Mindlin plate elements, we refer to [FEniCSx-Shells](https://github.com/FEniCS-Shells/fenicsx-shells).\n",
    "```\n",
    "\n",
    "## Introduction\n",
    "\n",
    "This program solves the Reissner-Mindlin plate equations on the unit square with uniform transverse loading and fully clamped boundary conditions. We will test the use of quadrilateral cells and selective reduced integration (SRI) to remove shear-locking issues in the thin plate limit. Both linear and quadratic interpolation are considered for the transverse deflection $w$ and rotation $\\boldsymbol{\\theta}$.\n",
    "\n",
    "\n",
    "## Implementation\n",
    "\n",
    "\n",
    "We first create a unit square mesh divided in $N\\times N$ quadrilaterals:"
   ]
  },
  {
   "cell_type": "code",
   "execution_count": 1,
   "id": "5c417b31",
   "metadata": {},
   "outputs": [],
   "source": [
    "import numpy as np\n",
    "from mpi4py import MPI\n",
    "import ufl\n",
    "import basix\n",
    "from dolfinx import fem, mesh\n",
    "import dolfinx.fem.petsc\n",
    "\n",
    "N = 50\n",
    "domain = mesh.create_unit_square(MPI.COMM_WORLD, N, N, mesh.CellType.quadrilateral)"
   ]
  },
  {
   "cell_type": "markdown",
   "id": "4e62d184",
   "metadata": {},
   "source": [
    "Material parameters for isotropic linear elastic behavior are first defined:"
   ]
  },
  {
   "cell_type": "code",
   "execution_count": 2,
   "id": "4010452e",
   "metadata": {},
   "outputs": [],
   "source": [
    "E = fem.Constant(domain, 210e3)\n",
    "nu = fem.Constant(domain, 0.3)"
   ]
  },
  {
   "cell_type": "markdown",
   "id": "04605c15",
   "metadata": {},
   "source": [
    "Plate bending stiffness $\\textsf{D}=\\dfrac{Eh^3}{12(1-\\nu^2)}$ and shear stiffness $\\textsf{F} = \\kappa G h$ with a shear correction factor $\\kappa = 5/6$ for a homogeneous plate of thickness $h$:"
   ]
  },
  {
   "cell_type": "code",
   "execution_count": 3,
   "id": "acc793e7",
   "metadata": {},
   "outputs": [],
   "source": [
    "thick = fem.Constant(domain, 1e-3)\n",
    "D = E * thick**3 / (1 - nu**2) / 12.0\n",
    "F = E / 2 / (1 + nu) * thick * 5.0 / 6.0"
   ]
  },
  {
   "cell_type": "markdown",
   "id": "1f139894",
   "metadata": {},
   "source": [
    "The uniform loading $f$ is scaled by the Love-Kirchhoff solution so that the deflection converges to a\n",
    "constant value of 1 in the thin plate. This thin plate limit will be used to check the sensitivity of the element to shear locking. Formulations which exhibit shear locking are expected to provide overly stiff results (low values of the deflection) for a given mesh in the limit of small thickness $h \\to 0$."
   ]
  },
  {
   "cell_type": "code",
   "execution_count": 4,
   "id": "33694ee3",
   "metadata": {},
   "outputs": [],
   "source": [
    "f = -D / 1.265319087e-3  # with this we have w_Love-Kirchhoff = 1.0"
   ]
  },
  {
   "cell_type": "markdown",
   "id": "a6f0bb2b",
   "metadata": {},
   "source": [
    "Continuous interpolation using of degree $d=\\texttt{deg}$ is chosen for both deflection and rotation. Note that when using quadrilaterals, we have different choices of interpolation over the cell. We will not discuss here variants such as `equispaced` or `GLL` variants which mostly differ in the dof location up to $d=3$, see [here for more details](https://defelement.com/elements/lagrange.html). However, already for $d=2$, we may have the choice of using an 8 or a 9-dof quadrilateral.\n",
    "\n",
    "`````{grid}\n",
    ":gutter: 3\n",
    "\n",
    "````{grid-item-card} Serendipity\n",
    "`name=\"S\"`, it has 8 dofs, spanning polynomials up to order 2, except for $x^2y^2$\n",
    "\n",
    "```{image} https://defelement.com/img/element-serendipity-variant-equispaced-quadrilateral-2-dofs.png\n",
    ":width: 200px\n",
    ":align: center\n",
    "```\n",
    "see [details here](https://defelement.com/elements/examples/quadrilateral-serendipity-2.html)\n",
    "````\n",
    "\n",
    "````{grid-item-card} Lagrange\n",
    "`name=\"Q\"`, it has 9dofs, spanning polynomials up to order 2, including $x^2y^2$\n",
    "\n",
    "```{image} https://defelement.com/img/element-Q-variant-equispaced-quadrilateral-2-dofs.png\n",
    ":width: 200px\n",
    ":align: center\n",
    "```\n",
    "see [details here](https://defelement.com/elements/examples/quadrilateral-lagrange-equispaced-2.html)\n",
    "````\n",
    "`````"
   ]
  },
  {
   "cell_type": "code",
   "execution_count": 5,
   "id": "0ba8e3c9",
   "metadata": {},
   "outputs": [],
   "source": [
    "deg = 2\n",
    "el_type = \"S\"  # or \"Q\"\n",
    "We = basix.ufl.element(el_type, domain.basix_cell(), deg)\n",
    "Te = basix.ufl.element(el_type, domain.basix_cell(), deg, shape=(2,))\n",
    "V = fem.functionspace(domain, basix.ufl.mixed_element([We, Te]))"
   ]
  },
  {
   "cell_type": "markdown",
   "id": "67c855b9",
   "metadata": {},
   "source": [
    "Clamped boundary conditions on the lateral boundary are defined as::"
   ]
  },
  {
   "cell_type": "code",
   "execution_count": 6,
   "id": "5dbb6b87",
   "metadata": {},
   "outputs": [],
   "source": [
    "# Boundary of the plate\n",
    "def border(x):\n",
    "    return np.logical_or(\n",
    "        np.logical_or(np.isclose(x[0], 0), np.isclose(x[0], 1)),\n",
    "        np.logical_or(np.isclose(x[1], 0), np.isclose(x[1], 1)),\n",
    "    )\n",
    "\n",
    "\n",
    "facet_dim = 1\n",
    "clamped_facets = mesh.locate_entities_boundary(domain, facet_dim, border)\n",
    "clamped_dofs = fem.locate_dofs_topological(V, facet_dim, clamped_facets)\n",
    "\n",
    "u0 = fem.Function(V)\n",
    "bcs = [fem.dirichletbc(u0, clamped_dofs)]"
   ]
  },
  {
   "cell_type": "markdown",
   "id": "e6803382",
   "metadata": {},
   "source": [
    "Some useful functions for implementing generalized constitutive relations are now\n",
    "defined:"
   ]
  },
  {
   "cell_type": "code",
   "execution_count": 9,
   "id": "af614dd5",
   "metadata": {},
   "outputs": [],
   "source": [
    "def strain2voigt(eps):\n",
    "    return ufl.as_vector([eps[0, 0], eps[1, 1], 2 * eps[0, 1]])\n",
    "\n",
    "\n",
    "def voigt2stress(S):\n",
    "    return ufl.as_tensor([[S[0], S[2]], [S[2], S[1]]])\n",
    "\n",
    "\n",
    "def curv(u):\n",
    "    (w, theta) = ufl.split(u)\n",
    "    return ufl.sym(ufl.grad(theta))\n",
    "\n",
    "\n",
    "def shear_strain(u):\n",
    "    (w, theta) = ufl.split(u)\n",
    "    return ufl.grad(w) - theta\n",
    "\n",
    "\n",
    "def bending_moment(u):\n",
    "    DD = ufl.as_tensor([[D, nu * D, 0], [nu * D, D, 0], [0, 0, D * (1 - nu) / 2.0]])\n",
    "    return voigt2stress(ufl.dot(DD, strain2voigt(curv(u))))\n",
    "\n",
    "\n",
    "def shear_force(u):\n",
    "    return F * shear_strain(u)"
   ]
  },
  {
   "cell_type": "markdown",
   "id": "da048dc2",
   "metadata": {},
   "source": [
    "The contribution of shear forces to the total energy is under-integrated using\n",
    "a custom quadrature rule of degree $2d-2$ i.e. for linear ($d=1$)\n",
    "quadrilaterals, the shear energy is integrated as if it were constant (1 Gauss point instead of 2x2)\n",
    "and for quadratic ($d=2$) quadrilaterals, as if it were quadratic (2x2 Gauss points instead of 3x3).\n",
    "\n",
    "```{seealso}\n",
    "See the [](/tips/quadrature_schemes/quadrature_schemes.md) tour for more details on the choice of quadrature points.\n",
    "```"
   ]
  },
  {
   "cell_type": "code",
   "execution_count": 10,
   "id": "65ec4cec",
   "metadata": {},
   "outputs": [],
   "source": [
    "u = fem.Function(V)\n",
    "u_ = ufl.TestFunction(V)\n",
    "du = ufl.TrialFunction(V)\n",
    "\n",
    "dx = ufl.Measure(\"dx\")\n",
    "dx_shear = ufl.Measure(\"dx\", metadata={\"quadrature_degree\": 2 * deg - 2})\n",
    "\n",
    "L = f * u_[0] * dx\n",
    "a = (\n",
    "    ufl.inner(bending_moment(u_), curv(du)) * dx\n",
    "    + ufl.dot(shear_force(u_), shear_strain(du)) * dx_shear\n",
    ")"
   ]
  },
  {
   "cell_type": "markdown",
   "id": "584e8529",
   "metadata": {},
   "source": [
    "We then solve for the solution and print the deflection normalized with respect to the Love-Kirchhoff thin plate analytical solution:"
   ]
  },
  {
   "cell_type": "code",
   "execution_count": 11,
   "id": "ef54f3bb",
   "metadata": {},
   "outputs": [],
   "source": [
    "problem = fem.petsc.LinearProblem(\n",
    "    a, L, u=u, bcs=bcs, petsc_options={\"ksp_type\": \"preonly\", \"pc_type\": \"lu\"}\n",
    ")\n",
    "problem.solve()\n",
    "\n",
    "w = u.sub(0).collapse()\n",
    "w.name = \"Deflection\"\n",
    "\n",
    "print(f\"Reissner-Mindlin FE deflection: {max(abs(w.vector.array)):.5f}\")"
   ]
  },
  {
   "cell_type": "markdown",
   "id": "3d16c33c",
   "metadata": {},
   "source": [
    "## Results\n",
    "\n",
    "We provide here some results for $h=0.001$ using either $N=10$ or $N=50$ quads per side and for different types of interpolation and integration.\n",
    "\n",
    "```{list-table}\n",
    ":header-rows: 1\n",
    "\n",
    "* - Type\n",
    "  - $N=10$\n",
    "  - $N=50$\n",
    "* - `S`/`Q` $d=1$\n",
    "  - 0.00046\n",
    "  - 0.01116\n",
    "* - `S`/`Q` $d=1$ SRI\n",
    "  - 0.99261\n",
    "  - 0.99972\n",
    "* - `S` $d=2$\n",
    "  - 0.72711\n",
    "  - 0.99864\n",
    "* - `S` $d=2$ SRI\n",
    "  - 0.87658\n",
    "  - 1.00002\n",
    "* - `Q` $d=2$\n",
    "  - 0.96450\n",
    "  - 0.99865\n",
    "* - `Q` $d=2$ SRI\n",
    "  - 1.00021\n",
    "  - 1.00002\n",
    "```\n",
    "The results show that the low-order elements $d=1$ always lock very strongly but accurate estimates are obtained using selective reduced integration (SRI). The Serendipity element `S` exhibits a notable locking behavior which is not necessarily fixed using SRI. On the contrary, for `Q` elements, locking is less pronounced and the behavior of the element is improved when using SRI."
   ]
  }
 ],
 "metadata": {
  "language_info": {
   "codemirror_mode": {
    "name": "ipython",
    "version": 3
   },
   "file_extension": ".py",
   "mimetype": "text/x-python",
   "name": "python",
   "nbconvert_exporter": "python",
   "pygments_lexer": "ipython3",
   "version": "3.10.12"
  }
 },
 "nbformat": 4,
 "nbformat_minor": 5
}
