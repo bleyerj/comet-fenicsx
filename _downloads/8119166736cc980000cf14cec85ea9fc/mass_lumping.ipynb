{
 "cells": [
  {
   "cell_type": "markdown",
   "id": "45de747c",
   "metadata": {},
   "source": [
    "# Lumping a mass matrix\n",
    "\n",
    "```{admonition} Objectives\n",
    ":class: objectives\n",
    "\n",
    "We discuss here how to lump a mass matrix.\n",
    "```\n",
    "\n",
    "```{admonition} Download sources\n",
    ":class: download\n",
    "\n",
    "* {Download}`Python script<./mass_lumping.py>`\n",
    "* {Download}`Jupyter notebook<./mass_lumping.ipynb>`\n",
    "```\n",
    "\n",
    "\n",
    "Explicit dynamics simulations require the usage of lumped mass matrices i.e. diagonal mass matrices for which inversion can be done explicitly.\n",
    "\n",
    "We show how to do this for Lagrange elements using the Gauss-Lobatto-Legendre quadrature rule, see also the [](/tips/quadrature_schemes/quadrature_schemes.md) tour. For the high order case in wave propagation, this setting defines the so-called *spectral element method*."
   ]
  },
  {
   "cell_type": "code",
   "execution_count": null,
   "id": "938d30da",
   "metadata": {
    "execution": {
     "iopub.execute_input": "2024-01-08T12:50:30.130151Z",
     "iopub.status.busy": "2024-01-08T12:50:30.129885Z",
     "iopub.status.idle": "2024-01-08T12:50:32.354218Z",
     "shell.execute_reply": "2024-01-08T12:50:32.353126Z"
    }
   },
   "outputs": [],
   "source": [
    "import numpy as np\n",
    "from mpi4py import MPI\n",
    "import ufl\n",
    "import dolfinx.fem.petsc\n",
    "from dolfinx import fem, mesh\n",
    "\n",
    "domain = mesh.create_unit_square(\n",
    "    MPI.COMM_WORLD, 1, 1, cell_type=mesh.CellType.quadrilateral\n",
    ")\n",
    "\n",
    "for order in range(1, 3):\n",
    "    V = fem.FunctionSpace(domain, (\"P\", order))\n",
    "    v = ufl.TestFunction(V)\n",
    "    u = ufl.TrialFunction(V)\n",
    "\n",
    "    dx = ufl.Measure(\"dx\", domain=domain)\n",
    "    dx_lumped = dx(metadata={\"quadrature_rule\": \"GLL\", \"quadrature_degree\": order})\n",
    "    mass_form = v * u * dx\n",
    "    lumped_mass_form = v * u * dx_lumped\n",
    "\n",
    "    M_consistent = fem.assemble_matrix(fem.form(mass_form))\n",
    "    print(\n",
    "        \"Consistent mass matrix:\\n\", np.array_str(M_consistent.to_dense(), precision=3)\n",
    "    )\n",
    "\n",
    "    M_lumped = fem.assemble_matrix(fem.form(lumped_mass_form))\n",
    "    print(\"Lumped mass matrix:\\n\", np.array_str(M_lumped.to_dense(), precision=3))"
   ]
  },
  {
   "cell_type": "markdown",
   "id": "8028d453",
   "metadata": {},
   "source": [
    "For explicit dynamics simulation, the mass matrix can then be manipulated using the diagonal vector, to compute for instance $M^{-1}w$ where $w$ is some Function."
   ]
  },
  {
   "cell_type": "code",
   "execution_count": null,
   "id": "5d3873d3",
   "metadata": {
    "execution": {
     "iopub.execute_input": "2024-01-08T12:50:32.358503Z",
     "iopub.status.busy": "2024-01-08T12:50:32.358195Z",
     "iopub.status.idle": "2024-01-08T12:50:32.378134Z",
     "shell.execute_reply": "2024-01-08T12:50:32.377224Z"
    }
   },
   "outputs": [],
   "source": [
    "mass_diagonal = u * dx_lumped  # defines a linear form corresponding to the diagonal\n",
    "M_vect = fem.petsc.assemble_vector(fem.form(mass_diagonal))\n",
    "w = fem.Function(V)\n",
    "iMw = fem.Function(V)\n",
    "iMw.vector.pointwiseDivide(M_vect, w.vector)"
   ]
  }
 ],
 "metadata": {
  "jupytext": {
   "formats": "md:myst,ipynb"
  },
  "kernelspec": {
   "display_name": "Python 3",
   "language": "python",
   "name": "python3"
  },
  "language_info": {
   "codemirror_mode": {
    "name": "ipython",
    "version": 3
   },
   "file_extension": ".py",
   "mimetype": "text/x-python",
   "name": "python",
   "nbconvert_exporter": "python",
   "pygments_lexer": "ipython3",
   "version": "3.10.12"
  }
 },
 "nbformat": 4,
 "nbformat_minor": 5
}
