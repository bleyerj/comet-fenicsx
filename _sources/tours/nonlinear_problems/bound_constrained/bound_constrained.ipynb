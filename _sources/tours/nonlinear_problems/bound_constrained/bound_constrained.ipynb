{
 "cells": [
  {
   "cell_type": "markdown",
   "id": "54ff9e9f",
   "metadata": {},
   "source": [
    "# Localized 1D solutions in phase-field approach to brittle fracture {far}`star`{far}`star`\n",
    "\n",
    "```{admonition} Objectives\n",
    ":class: objectives\n",
    "\n",
    "This demo demonstrates how to solve a bound-constrained PDE optimization problem using `PETSc TAO` solver. The application examples involves the computation of localized solutions in the phase-field/damage gradient approach to brittle fracture.\n",
    "$\\newcommand{\\dOm}{\\,\\text{d}\\Omega}$\n",
    "```\n",
    "\n",
    "```{admonition} Download sources\n",
    ":class: download\n",
    "\n",
    "* {Download}`Python script<./bound_constrained.py>`\n",
    "* {Download}`Jupyter notebook<./bound_constrained.ipynb>`\n",
    "* {Download}`Complete sources files<./bound_constrained.zip>`\n",
    "```\n",
    "\n",
    "## Introduction\n",
    "\n",
    "Bound-constrained problems involve finding the optimal solution of optimization problems of the form:\n",
    "\n",
    "```{math}\n",
    "\\begin{array}{rl} \\displaystyle{\\min_{x\\in\\mathbb{R}^n}} & f(x)\\\\\n",
    "\\text{s.t.} & x_l \\leq x \\leq x_u\n",
    "\\end{array}\n",
    "```\n",
    "\n",
    "where $f(x)$ is the objective function to minimize and $x_l, x_u$ are known lower and upper bounds set on the optimization vector $x$.\n",
    "\n",
    "There exist many methods to solve such a constrained optimization problem. It is important to note that constraints are here very simple as they bound only the minimum and maximum values of the optimization variable $x$. In particular, this setting does not allow for more general linear or non-linear equality or inequality constraints.\n",
    "\n",
    "PETSc's [Toolkit for Advanced Optimization (TAO)](https://petsc.org/main/manual/tao/#) offers a wide range of algorithms to solve various constrained or unconstrained optimization problems, including bound-constrained problems. To interact with such a solver, the user is required to provide the objective function and the bounds. Depending on the chosen algorithm, the user should also provide:\n",
    "* the objective gradient $\\nabla f(x)$;\n",
    "* the Hessian operator $\\nabla^2 f(x)$.\n",
    "\n",
    "In the following demo, we will use\n",
    "\n",
    "## Problem position\n",
    "\n",
    "We consider a simple 1D bound constrained problem which arise from the use of *phase-field* or *damage gradient* models of brittle fracture {cite:p}`bourdin2000numerical,pham2011gradient`. In such methods, we simulate the propagation of cracks by minimizing a total energy consisting of an elastic and a fracture energy. When using one of the classical models of the phase-field approach, namely the $\\text{AT1}$ model, the fracture energy is written as:\n",
    "```{math}\n",
    ":label: AT1-Efra\n",
    "\n",
    "\\mathcal{E}_\\text{f}(d) = \\dfrac{3G_\\text{c}}{8\\ell_0}\\int_{\\Omega}\\left(d + \\ell_0^2\\nabla d \\cdot\\nabla d\\right)\\dOm\n",
    "```\n",
    "where $d$ is a damage-like variable (with values in $[0;1]$) which smears the discrete crack representation (corresponding to $d=1$) over a regularization length $\\ell_0$. $G_\\text{c}$ represents the material fracture energy.\n",
    "\n",
    "During the solution process, the damage field is found by minimizing the total energy for a fixed displacement field and subject to bound constraints $d_n \\leq d \\leq 1$ where $d_n$ denotes the damage field at the previous time step which is used to enforce the irreversible evolution of damage.\n",
    "\n",
    "When subject to a given mechanical loading, damage field will tend to localize spatially, corresponding to a smeared crack representation. In the 1D setting, it is possible to characterize the shape of the localized solution by finding damage fields which minimize the fracture energy {eq}`AT1-Efra`.\n",
    "\n",
    "## Localized 1D solutions\n",
    "\n",
    "More precisely, we consider a 1D domain $\\Omega=[-L;L]$ of length $2L$ and we look for a minimizer $d(x)$ of:\n",
    "\n",
    "```{math}\n",
    ":label: AT1-Efra-1D\n",
    "\n",
    "\\begin{array}{rl} \\displaystyle\\min_{d(x)} & \\displaystyle\\int_{\\Omega}\\left(d + \\ell_0^2\\left(\\dfrac{\\partial d}{\\partial x}\\right)^2\\right)\\dOm \\\\\n",
    "\\text{s.t.} & 0 \\leq d(x) \\leq 1 \\quad \\forall x \\in \\Omega\n",
    "\\end{array}\n",
    "```\n",
    "\n",
    "where we ignored the factor $3G_\\text{c}/(8\\ell_0)$ of the fracture energy. In the following, we note $j(d)$ the objective function of {eq}`AT1-Efra-1D`.\n",
    "\n",
    "In addition, in order to force localization around a given point, we will impose here the boundary condition $d(x)=d_0$ at $x=0$ where $d_0\\in [0;1]$ is given. In this case, we can show that there exists a region $]-D;D[$ where $0 < d(x) < 1$ and with $d(x)=0$ outside. We can show in particular that we must have $d(\\pm D) = \\dfrac{\\partial d}{\\partial x}(\\pm D) = 0$ at the transition points {cite:p}`pham2011gradient,pham2013onset`.\n",
    "\n",
    "In the inner region, since the bounds are not attained, the optimal solution is characterized by the fact that the first variation of the objective is null, that is:\n",
    "\\begin{align*}\n",
    "D_d j(d;\\widehat{d}) = 0 \\quad \\forall \\widehat{d}\\\\\n",
    "\\int_{\\Omega} \\left(\\widehat{d} + \\ell_0^2 \\dfrac{\\partial d}{\\partial x}\\dfrac{\\partial \\widehat{d}}{\\partial x}\\right)\\dOm = 0 \\quad \\forall \\widehat{d}\\\\\n",
    "\\end{align*}\n",
    "\n",
    "The corresponding linear variational problem results in the following strong form differential equation:\n",
    "\n",
    "$$\n",
    "\\dfrac{\\partial^2 d}{\\partial x^2} = \\dfrac{1}{2\\ell_0^2}\n",
    "$$\n",
    "\n",
    "Accounting for the following boundary conditions:\n",
    "\n",
    "$$\n",
    "d(0)=d_0 \\quad ; \\quad d(\\pm D) = 0 \\quad ;\\quad  \\dfrac{\\partial d}{\\partial x}(\\pm D) = 0\n",
    "$$\n",
    "\n",
    "we easily show that the localization region size is $D=2\\ell_0\\sqrt{d_0}$ and that the solution is given by:\n",
    "\n",
    "```{math}\n",
    ":label: AT1-1D-solution\n",
    "\n",
    "d(x) = \\begin{cases}\n",
    "\\left(\\sqrt{d_0} - \\dfrac{|x|}{2\\ell_0}\\right)^2 & \\text{if } |x| \\leq D \\\\\n",
    "0 & \\text{otherwise}\n",
    "\\end{cases}\n",
    "```\n",
    "\n",
    "## Implementation\n",
    "\n",
    "For the implementation, we first provide a utility class `TAOProblem` in the {download}`tao_problem.py` module. This class enables to interact with PETSc TAO solver objects by providing methods for computing the objective function, the gradient and the Hessian/Jacobian of the objective.\n",
    "\n",
    "We now import the relevant modules and define the 1D domain $\\Omega=[-L;L]$"
   ]
  },
  {
   "cell_type": "code",
   "execution_count": null,
   "id": "2e6be74f",
   "metadata": {},
   "outputs": [],
   "source": [
    "import numpy as np\n",
    "import matplotlib.pyplot as plt\n",
    "from petsc4py import PETSc\n",
    "from mpi4py import MPI\n",
    "import ufl\n",
    "from dolfinx import fem, mesh\n",
    "import dolfinx.fem.petsc\n",
    "from tao_problem import TAOProblem\n",
    "\n",
    "N = 40\n",
    "L = 5.0\n",
    "domain = mesh.create_interval(MPI.COMM_WORLD, 2 * N, [-L, L])"
   ]
  },
  {
   "cell_type": "markdown",
   "id": "36f1e261",
   "metadata": {},
   "source": [
    "We now create a scalar $\\mathbb{P}_1$ Lagrange function space and defines functions to store the lower and upper bound values."
   ]
  },
  {
   "cell_type": "code",
   "execution_count": null,
   "id": "a6b0e345",
   "metadata": {},
   "outputs": [],
   "source": [
    "V = fem.FunctionSpace(domain, (\"P\", 1))\n",
    "d = fem.Function(V)\n",
    "d_ = ufl.TestFunction(V)\n",
    "dd = ufl.TrialFunction(V)\n",
    "dlb = fem.Function(V, name=\"Lower_bound\")\n",
    "dlb.vector.set(0.0)\n",
    "dub = fem.Function(V, name=\"Upper_bound\")\n",
    "dub.vector.set(1.0)"
   ]
  },
  {
   "cell_type": "markdown",
   "id": "31afc6d1",
   "metadata": {},
   "source": [
    "We define the boundary condition at $x=0$."
   ]
  },
  {
   "cell_type": "code",
   "execution_count": null,
   "id": "ea1a5fd2",
   "metadata": {},
   "outputs": [],
   "source": [
    "def middle_node(x):\n",
    "    return np.isclose(x[0], 0)\n",
    "\n",
    "\n",
    "middle_dof = fem.locate_dofs_geometrical(V, middle_node)\n",
    "\n",
    "d_imp = fem.Constant(domain, 0.0)\n",
    "bcs = [fem.dirichletbc(d_imp, middle_dof, V)]"
   ]
  },
  {
   "cell_type": "markdown",
   "id": "af9b25f6",
   "metadata": {},
   "source": [
    "We now define the objective function to minimize, corresponding to the fracture energy up to a scaling factor. We also use `ufl.derivative` to compute automatically the first and second variations which will be used for setting the gradient and Hessian."
   ]
  },
  {
   "cell_type": "code",
   "execution_count": null,
   "id": "72535744",
   "metadata": {},
   "outputs": [],
   "source": [
    "ell0 = fem.Constant(domain, 1.0)\n",
    "energy = (d + ell0**2 * ufl.dot(ufl.grad(d), ufl.grad(d))) * ufl.dx\n",
    "D_energy = ufl.derivative(energy, d, d_)\n",
    "D2_energy = ufl.derivative(D_energy, d, dd)"
   ]
  },
  {
   "cell_type": "markdown",
   "id": "3f576c19",
   "metadata": {},
   "source": [
    "Now, we instantiate the `TAOProblem` object by providing the objective function form and its first and second variations, the function `d` corresponding to the optimization variable and the associated boundary condition list."
   ]
  },
  {
   "cell_type": "code",
   "execution_count": null,
   "id": "f7fcda10",
   "metadata": {},
   "outputs": [],
   "source": [
    "problem = TAOProblem(energy, D_energy, D2_energy, d, bcs)"
   ]
  },
  {
   "cell_type": "markdown",
   "id": "b3c249fd",
   "metadata": {},
   "source": [
    "We now setup the TAO solver object using `petsc4py`. We use a Bounded Newton Line Search `bnls` method and use a direct LU solver for the resolution of linear systems arising in the underlying Newton method.\n",
    "\n",
    "```{seealso}\n",
    "For more details on the algorithm and other available solvers, see the [bound-constrained solvers documentation](https://petsc.org/main/manual/tao/#bound-constrained-optimization).\n",
    "```"
   ]
  },
  {
   "cell_type": "code",
   "execution_count": null,
   "id": "a637fee6",
   "metadata": {},
   "outputs": [],
   "source": [
    "tao = PETSc.TAO().create(PETSc.COMM_SELF)\n",
    "tao.setType(\"bnls\")\n",
    "tao.getKSP().setType(\"preonly\")\n",
    "tao.getKSP().getPC().setType(\"lu\")"
   ]
  },
  {
   "cell_type": "markdown",
   "id": "1bfb3cd1",
   "metadata": {},
   "source": [
    "We use the utility functions provided by the `TAOProblem` class to set the objective, the gradient and the Hessian."
   ]
  },
  {
   "cell_type": "code",
   "execution_count": null,
   "id": "b9d5faac",
   "metadata": {},
   "outputs": [],
   "source": [
    "tao.setObjective(problem.f)\n",
    "tao.setGradient(problem.F)\n",
    "tao.setHessian(problem.J, problem.A)"
   ]
  },
  {
   "cell_type": "markdown",
   "id": "4ab81273",
   "metadata": {},
   "source": [
    "Finally, we set the corresponding variable bounds and we also prescribe some stopping tolerances where:\n",
    "\n",
    "\\begin{align*}\n",
    "\\texttt{gatol} &= \\|\\nabla f(X)\\|\\\\\n",
    "\\texttt{grtol} &= \\|\\nabla f(X)\\|/|f(X)|\\\\\n",
    "\\texttt{gttol} &= \\|\\nabla f(X)\\|/ \\|\\nabla f(X_0)\\|\n",
    "\\end{align*}\n",
    "with $X_0$ being the initial value."
   ]
  },
  {
   "cell_type": "code",
   "execution_count": null,
   "id": "9c81e545",
   "metadata": {},
   "outputs": [],
   "source": [
    "tao.setVariableBounds(dlb.vector, dub.vector)\n",
    "tao.setTolerances(gatol=1e-6, grtol=1e-6, gttol=1e-6)"
   ]
  },
  {
   "cell_type": "markdown",
   "id": "45d7ef0e",
   "metadata": {},
   "source": [
    "We now set different values of $d_0 \\in [0;1]$ and solve the corresponding problem."
   ]
  },
  {
   "cell_type": "code",
   "execution_count": null,
   "id": "7b2639e4",
   "metadata": {},
   "outputs": [],
   "source": [
    "values = np.linspace(0, 1.0, 6)\n",
    "x = V.tabulate_dof_coordinates()[:, 0]\n",
    "plt.figure()\n",
    "plt.gca().set_prop_cycle(color=plt.cm.turbo(values))\n",
    "for d0 in values:\n",
    "    d_imp.value = d0\n",
    "    fem.set_bc(d.vector, bcs)\n",
    "\n",
    "    tao.solve(d.vector)\n",
    "    dvals = d.vector.array\n",
    "\n",
    "    h = plt.plot(x, dvals, \"o\")\n",
    "    l0 = ell0.value\n",
    "    ppos = lambda x: np.maximum(x, np.zeros_like(x))\n",
    "    d_an = (ppos(np.sqrt(d0) - np.abs(x / 2 / l0))) ** 2\n",
    "    plt.plot(x, d_an, \"-\", color=h[0].get_color())\n",
    "\n",
    "plt.ylim(0, 1.0)\n",
    "plt.xlim(-L, L)\n",
    "plt.xlabel(r\"$x$ coordinate\")\n",
    "plt.ylabel(r\"Damage field $d(x)$\")\n",
    "plt.legend((\"Numerical solution\", \"Analytical solution\"))\n",
    "plt.show()\n",
    "\n",
    "\n",
    "tao.destroy()"
   ]
  },
  {
   "cell_type": "markdown",
   "id": "1fc0cb2b",
   "metadata": {},
   "source": [
    "```{bibliography}\n",
    ":filter: docname in docnames\n",
    "```"
   ]
  }
 ],
 "metadata": {
  "jupytext": {
   "formats": "md:myst,ipynb"
  },
  "kernelspec": {
   "display_name": "Python 3",
   "language": "python",
   "name": "python3"
  },
  "language_info": {
   "codemirror_mode": {
    "name": "ipython",
    "version": 3
   },
   "file_extension": ".py",
   "mimetype": "text/x-python",
   "name": "python",
   "nbconvert_exporter": "python",
   "pygments_lexer": "ipython3",
   "version": "3.10.12"
  }
 },
 "nbformat": 4,
 "nbformat_minor": 5
}
